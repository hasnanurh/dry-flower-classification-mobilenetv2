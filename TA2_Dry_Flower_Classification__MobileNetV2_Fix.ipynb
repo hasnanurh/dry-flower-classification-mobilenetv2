{
  "cells": [
    {
      "cell_type": "markdown",
      "metadata": {
        "id": "view-in-github",
        "colab_type": "text"
      },
      "source": [
        "<a href=\"https://colab.research.google.com/github/hasnanurh/dry-flower-classification-mobilenetv2/blob/main/TA2_Dry_Flower_Classification__MobileNetV2_Fix.ipynb\" target=\"_parent\"><img src=\"https://colab.research.google.com/assets/colab-badge.svg\" alt=\"Open In Colab\"/></a>"
      ]
    },
    {
      "cell_type": "markdown",
      "metadata": {
        "id": "q8GTC-l_tv5i"
      },
      "source": [
        "# Mounting Drive"
      ]
    },
    {
      "cell_type": "code",
      "execution_count": null,
      "metadata": {
        "colab": {
          "base_uri": "https://localhost:8080/"
        },
        "id": "VLtJf8_PZTGj",
        "outputId": "afa4a520-f591-4603-e96f-62424d4808a4"
      },
      "outputs": [
        {
          "output_type": "stream",
          "name": "stdout",
          "text": [
            "Mounted at /content/drive\n"
          ]
        }
      ],
      "source": [
        "#Mounting Drive\n",
        "\n",
        "from google.colab import drive\n",
        "drive.mount('/content/drive')"
      ]
    },
    {
      "cell_type": "code",
      "source": [
        "import tensorflow as tf\n",
        "print(tf.__version__)"
      ],
      "metadata": {
        "colab": {
          "base_uri": "https://localhost:8080/"
        },
        "id": "6QD9G2fg5jvs",
        "outputId": "f4a5cf9e-464a-4276-9d86-cf5f65d620e7"
      },
      "execution_count": null,
      "outputs": [
        {
          "output_type": "stream",
          "name": "stdout",
          "text": [
            "2.8.2\n"
          ]
        }
      ]
    },
    {
      "cell_type": "code",
      "source": [
        "!python --version"
      ],
      "metadata": {
        "colab": {
          "base_uri": "https://localhost:8080/"
        },
        "id": "DFTOjsql2kUs",
        "outputId": "4bf38b35-f362-4be9-878d-f8f04b10eebe"
      },
      "execution_count": null,
      "outputs": [
        {
          "output_type": "stream",
          "name": "stdout",
          "text": [
            "Python 3.7.13\n"
          ]
        }
      ]
    },
    {
      "cell_type": "markdown",
      "metadata": {
        "id": "JPZv-mJAt9L2"
      },
      "source": [
        "# Import Dataset"
      ]
    },
    {
      "cell_type": "code",
      "execution_count": null,
      "metadata": {
        "colab": {
          "base_uri": "https://localhost:8080/"
        },
        "id": "zNxx-0-pty0h",
        "outputId": "6ddc732c-3a09-4ac9-e15c-01a1a81cae1a"
      },
      "outputs": [
        {
          "name": "stdout",
          "output_type": "stream",
          "text": [
            "/content/drive/MyDrive/TUGAS AKHIRKU/new_dataset/flower_dataset\n"
          ]
        }
      ],
      "source": [
        "#Import Dataset\n",
        "%cd /content/drive/MyDrive/TUGAS AKHIRKU/new_dataset/flower_dataset"
      ]
    },
    {
      "cell_type": "code",
      "execution_count": null,
      "metadata": {
        "colab": {
          "base_uri": "https://localhost:8080/"
        },
        "id": "Tf9GYYJWuG0G",
        "outputId": "a68a1ed9-b183-4a42-92ff-492a34674a61"
      },
      "outputs": [
        {
          "name": "stdout",
          "output_type": "stream",
          "text": [
            "dry_flower.zip\toutput\n"
          ]
        }
      ],
      "source": [
        "!ls"
      ]
    },
    {
      "cell_type": "code",
      "execution_count": null,
      "metadata": {
        "colab": {
          "base_uri": "https://localhost:8080/"
        },
        "id": "pl7OkSKeuPVI",
        "outputId": "22435dbd-76a7-4bed-acc1-8d73549e2b69"
      },
      "outputs": [
        {
          "name": "stdout",
          "output_type": "stream",
          "text": [
            "Archive:  dry_flower.zip\n",
            "   creating: dry_flower/baby_breath/\n",
            "  inflating: dry_flower/baby_breath/baby_1.jpg  \n",
            "  inflating: dry_flower/baby_breath/baby_10.jpg  \n",
            "  inflating: dry_flower/baby_breath/baby_100.jpg  \n",
            "  inflating: dry_flower/baby_breath/baby_101.jpg  \n",
            "  inflating: dry_flower/baby_breath/baby_102.jpg  \n",
            "  inflating: dry_flower/baby_breath/baby_103.jpg  \n",
            "  inflating: dry_flower/baby_breath/baby_104.jpg  \n",
            "  inflating: dry_flower/baby_breath/baby_105.jpg  \n",
            "  inflating: dry_flower/baby_breath/baby_106.jpg  \n",
            "  inflating: dry_flower/baby_breath/baby_107.jpg  \n",
            "  inflating: dry_flower/baby_breath/baby_108.jpg  \n",
            "  inflating: dry_flower/baby_breath/baby_109.jpg  \n",
            "  inflating: dry_flower/baby_breath/baby_11.jpg  \n",
            "  inflating: dry_flower/baby_breath/baby_110.jpg  \n",
            "  inflating: dry_flower/baby_breath/baby_111.jpg  \n",
            "  inflating: dry_flower/baby_breath/baby_112.jpg  \n",
            "  inflating: dry_flower/baby_breath/baby_113.jpg  \n",
            "  inflating: dry_flower/baby_breath/baby_114.jpg  \n",
            "  inflating: dry_flower/baby_breath/baby_115.jpg  \n",
            "  inflating: dry_flower/baby_breath/baby_116.jpg  \n",
            "  inflating: dry_flower/baby_breath/baby_117.jpg  \n",
            "  inflating: dry_flower/baby_breath/baby_118.jpg  \n",
            "  inflating: dry_flower/baby_breath/baby_119.jpg  \n",
            "  inflating: dry_flower/baby_breath/baby_12.jpg  \n",
            "  inflating: dry_flower/baby_breath/baby_120.jpg  \n",
            "  inflating: dry_flower/baby_breath/baby_121.jpg  \n",
            "  inflating: dry_flower/baby_breath/baby_122.jpg  \n",
            "  inflating: dry_flower/baby_breath/baby_123.jpg  \n",
            "  inflating: dry_flower/baby_breath/baby_124.jpg  \n",
            "  inflating: dry_flower/baby_breath/baby_125.jpg  \n",
            "  inflating: dry_flower/baby_breath/baby_126.jpg  \n",
            "  inflating: dry_flower/baby_breath/baby_127.jpg  \n",
            "  inflating: dry_flower/baby_breath/baby_128.jpg  \n",
            "  inflating: dry_flower/baby_breath/baby_129.jpg  \n",
            "  inflating: dry_flower/baby_breath/baby_13.jpg  \n",
            "  inflating: dry_flower/baby_breath/baby_130.jpg  \n",
            "  inflating: dry_flower/baby_breath/baby_131.jpg  \n",
            "  inflating: dry_flower/baby_breath/baby_132.jpg  \n",
            "  inflating: dry_flower/baby_breath/baby_133.jpg  \n",
            "  inflating: dry_flower/baby_breath/baby_134.jpg  \n",
            "  inflating: dry_flower/baby_breath/baby_135.jpg  \n",
            "  inflating: dry_flower/baby_breath/baby_136.jpg  \n",
            "  inflating: dry_flower/baby_breath/baby_137.jpg  \n",
            "  inflating: dry_flower/baby_breath/baby_138.jpg  \n",
            "  inflating: dry_flower/baby_breath/baby_139.jpg  \n",
            "  inflating: dry_flower/baby_breath/baby_14.jpg  \n",
            "  inflating: dry_flower/baby_breath/baby_140.jpg  \n",
            "  inflating: dry_flower/baby_breath/baby_141.jpg  \n",
            "  inflating: dry_flower/baby_breath/baby_142.jpg  \n",
            "  inflating: dry_flower/baby_breath/baby_143.jpg  \n",
            "  inflating: dry_flower/baby_breath/baby_144.jpg  \n",
            "  inflating: dry_flower/baby_breath/baby_145.jpg  \n",
            "  inflating: dry_flower/baby_breath/baby_146.jpg  \n",
            "  inflating: dry_flower/baby_breath/baby_147.jpg  \n",
            "  inflating: dry_flower/baby_breath/baby_148.jpg  \n",
            "  inflating: dry_flower/baby_breath/baby_149.jpg  \n",
            "  inflating: dry_flower/baby_breath/baby_15.jpg  \n",
            "  inflating: dry_flower/baby_breath/baby_150.jpg  \n",
            "  inflating: dry_flower/baby_breath/baby_151.jpg  \n",
            "  inflating: dry_flower/baby_breath/baby_152.jpg  \n",
            "  inflating: dry_flower/baby_breath/baby_153.jpg  \n",
            "  inflating: dry_flower/baby_breath/baby_154.jpg  \n",
            "  inflating: dry_flower/baby_breath/baby_155.jpg  \n",
            "  inflating: dry_flower/baby_breath/baby_156.jpg  \n",
            "  inflating: dry_flower/baby_breath/baby_157.jpg  \n",
            "  inflating: dry_flower/baby_breath/baby_158.jpg  \n",
            "  inflating: dry_flower/baby_breath/baby_159.jpg  \n",
            "  inflating: dry_flower/baby_breath/baby_16.jpg  \n",
            "  inflating: dry_flower/baby_breath/baby_160.jpg  \n",
            "  inflating: dry_flower/baby_breath/baby_161.jpg  \n",
            "  inflating: dry_flower/baby_breath/baby_162.jpg  \n",
            "  inflating: dry_flower/baby_breath/baby_163.jpg  \n",
            "  inflating: dry_flower/baby_breath/baby_164.jpg  \n",
            "  inflating: dry_flower/baby_breath/baby_165.jpg  \n",
            "  inflating: dry_flower/baby_breath/baby_166.jpg  \n",
            "  inflating: dry_flower/baby_breath/baby_167.jpg  \n",
            "  inflating: dry_flower/baby_breath/baby_168.jpg  \n",
            "  inflating: dry_flower/baby_breath/baby_169.jpg  \n",
            "  inflating: dry_flower/baby_breath/baby_17.jpg  \n",
            "  inflating: dry_flower/baby_breath/baby_170.jpg  \n",
            "  inflating: dry_flower/baby_breath/baby_171.jpg  \n",
            "  inflating: dry_flower/baby_breath/baby_172.jpg  \n",
            "  inflating: dry_flower/baby_breath/baby_173.jpg  \n",
            "  inflating: dry_flower/baby_breath/baby_174.jpg  \n",
            "  inflating: dry_flower/baby_breath/baby_175.jpg  \n",
            "  inflating: dry_flower/baby_breath/baby_176.jpg  \n",
            "  inflating: dry_flower/baby_breath/baby_177.jpg  \n",
            "  inflating: dry_flower/baby_breath/baby_178.jpg  \n",
            "  inflating: dry_flower/baby_breath/baby_179.jpg  \n",
            "  inflating: dry_flower/baby_breath/baby_18.jpg  \n",
            "  inflating: dry_flower/baby_breath/baby_180.jpg  \n",
            "  inflating: dry_flower/baby_breath/baby_181.jpg  \n",
            "  inflating: dry_flower/baby_breath/baby_182.jpg  \n",
            "  inflating: dry_flower/baby_breath/baby_183.jpg  \n",
            "  inflating: dry_flower/baby_breath/baby_184.jpg  \n",
            "  inflating: dry_flower/baby_breath/baby_185.jpg  \n",
            "  inflating: dry_flower/baby_breath/baby_186.jpg  \n",
            "  inflating: dry_flower/baby_breath/baby_187.jpg  \n",
            "  inflating: dry_flower/baby_breath/baby_188.jpg  \n",
            "  inflating: dry_flower/baby_breath/baby_189.jpg  \n",
            "  inflating: dry_flower/baby_breath/baby_19.jpg  \n",
            "  inflating: dry_flower/baby_breath/baby_190.jpg  \n",
            "  inflating: dry_flower/baby_breath/baby_191.jpg  \n",
            "  inflating: dry_flower/baby_breath/baby_192.jpg  \n",
            "  inflating: dry_flower/baby_breath/baby_193.jpg  \n",
            "  inflating: dry_flower/baby_breath/baby_194.jpg  \n",
            "  inflating: dry_flower/baby_breath/baby_195.jpg  \n",
            "  inflating: dry_flower/baby_breath/baby_196.jpg  \n",
            "  inflating: dry_flower/baby_breath/baby_197.jpg  \n",
            "  inflating: dry_flower/baby_breath/baby_198.jpg  \n",
            "  inflating: dry_flower/baby_breath/baby_199.jpg  \n",
            "  inflating: dry_flower/baby_breath/baby_2.jpg  \n",
            "  inflating: dry_flower/baby_breath/baby_20.jpg  \n",
            "  inflating: dry_flower/baby_breath/baby_200.jpg  \n",
            "  inflating: dry_flower/baby_breath/baby_201.jpg  \n",
            "  inflating: dry_flower/baby_breath/baby_202.jpg  \n",
            "  inflating: dry_flower/baby_breath/baby_203.jpg  \n",
            "  inflating: dry_flower/baby_breath/baby_204.jpg  \n",
            "  inflating: dry_flower/baby_breath/baby_205.jpg  \n",
            "  inflating: dry_flower/baby_breath/baby_206.jpg  \n",
            "  inflating: dry_flower/baby_breath/baby_207.jpg  \n",
            "  inflating: dry_flower/baby_breath/baby_208.jpg  \n",
            "  inflating: dry_flower/baby_breath/baby_209.jpg  \n",
            "  inflating: dry_flower/baby_breath/baby_21.jpg  \n",
            "  inflating: dry_flower/baby_breath/baby_210.jpg  \n",
            "  inflating: dry_flower/baby_breath/baby_211.jpg  \n",
            "  inflating: dry_flower/baby_breath/baby_212.jpg  \n",
            "  inflating: dry_flower/baby_breath/baby_213.jpg  \n",
            "  inflating: dry_flower/baby_breath/baby_214.jpg  \n",
            "  inflating: dry_flower/baby_breath/baby_215.jpg  \n",
            "  inflating: dry_flower/baby_breath/baby_216.jpg  \n",
            "  inflating: dry_flower/baby_breath/baby_217.jpg  \n",
            "  inflating: dry_flower/baby_breath/baby_218.jpg  \n",
            "  inflating: dry_flower/baby_breath/baby_219.jpg  \n",
            "  inflating: dry_flower/baby_breath/baby_22.jpg  \n",
            "  inflating: dry_flower/baby_breath/baby_220.jpg  \n",
            "  inflating: dry_flower/baby_breath/baby_221.jpg  \n",
            "  inflating: dry_flower/baby_breath/baby_222.jpg  \n",
            "  inflating: dry_flower/baby_breath/baby_223.jpg  \n",
            "  inflating: dry_flower/baby_breath/baby_224.jpg  \n",
            "  inflating: dry_flower/baby_breath/baby_225.jpg  \n",
            "  inflating: dry_flower/baby_breath/baby_226.jpg  \n",
            "  inflating: dry_flower/baby_breath/baby_227.jpg  \n",
            "  inflating: dry_flower/baby_breath/baby_228.jpg  \n",
            "  inflating: dry_flower/baby_breath/baby_229.jpg  \n",
            "  inflating: dry_flower/baby_breath/baby_23.jpg  \n",
            "  inflating: dry_flower/baby_breath/baby_230.jpg  \n",
            "  inflating: dry_flower/baby_breath/baby_231.jpg  \n",
            "  inflating: dry_flower/baby_breath/baby_232.jpg  \n",
            "  inflating: dry_flower/baby_breath/baby_233.jpg  \n",
            "  inflating: dry_flower/baby_breath/baby_234.jpg  \n",
            "  inflating: dry_flower/baby_breath/baby_235.jpg  \n",
            "  inflating: dry_flower/baby_breath/baby_236.jpg  \n",
            "  inflating: dry_flower/baby_breath/baby_237.jpg  \n",
            "  inflating: dry_flower/baby_breath/baby_238.jpg  \n",
            "  inflating: dry_flower/baby_breath/baby_239.jpg  \n",
            "  inflating: dry_flower/baby_breath/baby_24.jpg  \n",
            "  inflating: dry_flower/baby_breath/baby_240.jpg  \n",
            "  inflating: dry_flower/baby_breath/baby_241.jpg  \n",
            "  inflating: dry_flower/baby_breath/baby_242.jpg  \n",
            "  inflating: dry_flower/baby_breath/baby_243.jpg  \n",
            "  inflating: dry_flower/baby_breath/baby_244.jpg  \n",
            "  inflating: dry_flower/baby_breath/baby_245.jpg  \n",
            "  inflating: dry_flower/baby_breath/baby_246.jpg  \n",
            "  inflating: dry_flower/baby_breath/baby_247.jpg  \n",
            "  inflating: dry_flower/baby_breath/baby_248.jpg  \n",
            "  inflating: dry_flower/baby_breath/baby_249.jpg  \n",
            "  inflating: dry_flower/baby_breath/baby_25.jpg  \n",
            "  inflating: dry_flower/baby_breath/baby_250.jpg  \n",
            "  inflating: dry_flower/baby_breath/baby_26.jpg  \n",
            "  inflating: dry_flower/baby_breath/baby_27.jpg  \n",
            "  inflating: dry_flower/baby_breath/baby_28.jpg  \n",
            "  inflating: dry_flower/baby_breath/baby_29.jpg  \n",
            "  inflating: dry_flower/baby_breath/baby_3.jpg  \n",
            "  inflating: dry_flower/baby_breath/baby_30.jpg  \n",
            "  inflating: dry_flower/baby_breath/baby_31.jpg  \n",
            "  inflating: dry_flower/baby_breath/baby_32.jpg  \n",
            "  inflating: dry_flower/baby_breath/baby_33.jpg  \n",
            "  inflating: dry_flower/baby_breath/baby_34.jpg  \n",
            "  inflating: dry_flower/baby_breath/baby_35.jpg  \n",
            "  inflating: dry_flower/baby_breath/baby_36.jpg  \n",
            "  inflating: dry_flower/baby_breath/baby_37.jpg  \n",
            "  inflating: dry_flower/baby_breath/baby_38.jpg  \n",
            "  inflating: dry_flower/baby_breath/baby_39.jpg  \n",
            "  inflating: dry_flower/baby_breath/baby_4.jpg  \n",
            "  inflating: dry_flower/baby_breath/baby_40.jpg  \n",
            "  inflating: dry_flower/baby_breath/baby_41.jpg  \n",
            "  inflating: dry_flower/baby_breath/baby_42.jpg  \n",
            "  inflating: dry_flower/baby_breath/baby_43.jpg  \n",
            "  inflating: dry_flower/baby_breath/baby_44.jpg  \n",
            "  inflating: dry_flower/baby_breath/baby_45.jpg  \n",
            "  inflating: dry_flower/baby_breath/baby_46.jpg  \n",
            "  inflating: dry_flower/baby_breath/baby_47.jpg  \n",
            "  inflating: dry_flower/baby_breath/baby_48.jpg  \n",
            "  inflating: dry_flower/baby_breath/baby_49.jpg  \n",
            "  inflating: dry_flower/baby_breath/baby_5.jpg  \n",
            "  inflating: dry_flower/baby_breath/baby_50.jpg  \n",
            "  inflating: dry_flower/baby_breath/baby_51.jpg  \n",
            "  inflating: dry_flower/baby_breath/baby_52.jpg  \n",
            "  inflating: dry_flower/baby_breath/baby_53.jpg  \n",
            "  inflating: dry_flower/baby_breath/baby_54.jpg  \n",
            "  inflating: dry_flower/baby_breath/baby_55.jpg  \n",
            "  inflating: dry_flower/baby_breath/baby_56.jpg  \n",
            "  inflating: dry_flower/baby_breath/baby_57.jpg  \n",
            "  inflating: dry_flower/baby_breath/baby_58.jpg  \n",
            "  inflating: dry_flower/baby_breath/baby_59.jpg  \n",
            "  inflating: dry_flower/baby_breath/baby_6.jpg  \n",
            "  inflating: dry_flower/baby_breath/baby_60.jpg  \n",
            "  inflating: dry_flower/baby_breath/baby_61.jpg  \n",
            "  inflating: dry_flower/baby_breath/baby_62.jpg  \n",
            "  inflating: dry_flower/baby_breath/baby_63.jpg  \n",
            "  inflating: dry_flower/baby_breath/baby_64.jpg  \n",
            "  inflating: dry_flower/baby_breath/baby_65.jpg  \n",
            "  inflating: dry_flower/baby_breath/baby_66.jpg  \n",
            "  inflating: dry_flower/baby_breath/baby_67.jpg  \n",
            "  inflating: dry_flower/baby_breath/baby_68.jpg  \n",
            "  inflating: dry_flower/baby_breath/baby_69.jpg  \n",
            "  inflating: dry_flower/baby_breath/baby_7.jpg  \n",
            "  inflating: dry_flower/baby_breath/baby_70.jpg  \n",
            "  inflating: dry_flower/baby_breath/baby_71.jpg  \n",
            "  inflating: dry_flower/baby_breath/baby_72.jpg  \n",
            "  inflating: dry_flower/baby_breath/baby_73.jpg  \n",
            "  inflating: dry_flower/baby_breath/baby_74.jpg  \n",
            "  inflating: dry_flower/baby_breath/baby_75.jpg  \n",
            "  inflating: dry_flower/baby_breath/baby_76.jpg  \n",
            "  inflating: dry_flower/baby_breath/baby_77.jpg  \n",
            "  inflating: dry_flower/baby_breath/baby_78.jpg  \n",
            "  inflating: dry_flower/baby_breath/baby_79.jpg  \n",
            "  inflating: dry_flower/baby_breath/baby_8.jpg  \n",
            "  inflating: dry_flower/baby_breath/baby_80.jpg  \n",
            "  inflating: dry_flower/baby_breath/baby_81.jpg  \n",
            "  inflating: dry_flower/baby_breath/baby_82.jpg  \n",
            "  inflating: dry_flower/baby_breath/baby_83.jpg  \n",
            "  inflating: dry_flower/baby_breath/baby_84.jpg  \n",
            "  inflating: dry_flower/baby_breath/baby_85.jpg  \n",
            "  inflating: dry_flower/baby_breath/baby_86.jpg  \n",
            "  inflating: dry_flower/baby_breath/baby_87.jpg  \n",
            "  inflating: dry_flower/baby_breath/baby_88.jpg  \n",
            "  inflating: dry_flower/baby_breath/baby_89.jpg  \n",
            "  inflating: dry_flower/baby_breath/baby_9.jpg  \n",
            "  inflating: dry_flower/baby_breath/baby_90.jpg  \n",
            "  inflating: dry_flower/baby_breath/baby_91.jpg  \n",
            "  inflating: dry_flower/baby_breath/baby_92.jpg  \n",
            "  inflating: dry_flower/baby_breath/baby_93.jpg  \n",
            "  inflating: dry_flower/baby_breath/baby_94.jpg  \n",
            "  inflating: dry_flower/baby_breath/baby_95.jpg  \n",
            "  inflating: dry_flower/baby_breath/baby_96.jpg  \n",
            "  inflating: dry_flower/baby_breath/baby_97.jpg  \n",
            "  inflating: dry_flower/baby_breath/baby_98.jpg  \n",
            "  inflating: dry_flower/baby_breath/baby_99.jpg  \n",
            "   creating: dry_flower/cotton_flower/\n",
            "  inflating: dry_flower/cotton_flower/cotton_1.jpg  \n",
            "  inflating: dry_flower/cotton_flower/cotton_10.jpg  \n",
            "  inflating: dry_flower/cotton_flower/cotton_100.jpg  \n",
            "  inflating: dry_flower/cotton_flower/cotton_101.jpg  \n",
            "  inflating: dry_flower/cotton_flower/cotton_102.jpg  \n",
            "  inflating: dry_flower/cotton_flower/cotton_103.jpg  \n",
            "  inflating: dry_flower/cotton_flower/cotton_104.jpg  \n",
            "  inflating: dry_flower/cotton_flower/cotton_105.jpg  \n",
            "  inflating: dry_flower/cotton_flower/cotton_106.jpg  \n",
            "  inflating: dry_flower/cotton_flower/cotton_107.jpg  \n",
            "  inflating: dry_flower/cotton_flower/cotton_108.jpg  \n",
            "  inflating: dry_flower/cotton_flower/cotton_109.jpg  \n",
            "  inflating: dry_flower/cotton_flower/cotton_11.jpg  \n",
            "  inflating: dry_flower/cotton_flower/cotton_110.jpg  \n",
            "  inflating: dry_flower/cotton_flower/cotton_111.jpg  \n",
            "  inflating: dry_flower/cotton_flower/cotton_112.jpg  \n",
            "  inflating: dry_flower/cotton_flower/cotton_113.jpg  \n",
            "  inflating: dry_flower/cotton_flower/cotton_114.jpg  \n",
            "  inflating: dry_flower/cotton_flower/cotton_115.jpg  \n",
            "  inflating: dry_flower/cotton_flower/cotton_116.jpg  \n",
            "  inflating: dry_flower/cotton_flower/cotton_117.jpg  \n",
            "  inflating: dry_flower/cotton_flower/cotton_118.jpg  \n",
            "  inflating: dry_flower/cotton_flower/cotton_119.jpg  \n",
            "  inflating: dry_flower/cotton_flower/cotton_12.jpg  \n",
            "  inflating: dry_flower/cotton_flower/cotton_120.jpg  \n",
            "  inflating: dry_flower/cotton_flower/cotton_121.jpg  \n",
            "  inflating: dry_flower/cotton_flower/cotton_122.jpg  \n",
            "  inflating: dry_flower/cotton_flower/cotton_123.jpg  \n",
            "  inflating: dry_flower/cotton_flower/cotton_124.jpg  \n",
            "  inflating: dry_flower/cotton_flower/cotton_125.jpg  \n",
            "  inflating: dry_flower/cotton_flower/cotton_126.jpg  \n",
            "  inflating: dry_flower/cotton_flower/cotton_127.jpg  \n",
            "  inflating: dry_flower/cotton_flower/cotton_128.jpg  \n",
            "  inflating: dry_flower/cotton_flower/cotton_129.jpg  \n",
            "  inflating: dry_flower/cotton_flower/cotton_13.jpg  \n",
            "  inflating: dry_flower/cotton_flower/cotton_130.jpg  \n",
            "  inflating: dry_flower/cotton_flower/cotton_131.jpg  \n",
            "  inflating: dry_flower/cotton_flower/cotton_132.jpg  \n",
            "  inflating: dry_flower/cotton_flower/cotton_133.jpg  \n",
            "  inflating: dry_flower/cotton_flower/cotton_134.jpg  \n",
            "  inflating: dry_flower/cotton_flower/cotton_135.jpg  \n",
            "  inflating: dry_flower/cotton_flower/cotton_136.jpg  \n",
            "  inflating: dry_flower/cotton_flower/cotton_137.jpg  \n",
            "  inflating: dry_flower/cotton_flower/cotton_138.jpg  \n",
            "  inflating: dry_flower/cotton_flower/cotton_139.jpg  \n",
            "  inflating: dry_flower/cotton_flower/cotton_14.jpg  \n",
            "  inflating: dry_flower/cotton_flower/cotton_140.jpg  \n",
            "  inflating: dry_flower/cotton_flower/cotton_141.jpg  \n",
            "  inflating: dry_flower/cotton_flower/cotton_142.jpg  \n",
            "  inflating: dry_flower/cotton_flower/cotton_143.jpg  \n",
            "  inflating: dry_flower/cotton_flower/cotton_144.jpg  \n",
            "  inflating: dry_flower/cotton_flower/cotton_145.jpg  \n",
            "  inflating: dry_flower/cotton_flower/cotton_146.jpg  \n",
            "  inflating: dry_flower/cotton_flower/cotton_147.jpg  \n",
            "  inflating: dry_flower/cotton_flower/cotton_148.jpg  \n",
            "  inflating: dry_flower/cotton_flower/cotton_149.jpg  \n",
            "  inflating: dry_flower/cotton_flower/cotton_15.jpg  \n",
            "  inflating: dry_flower/cotton_flower/cotton_150.jpg  \n",
            "  inflating: dry_flower/cotton_flower/cotton_151.jpg  \n",
            "  inflating: dry_flower/cotton_flower/cotton_152.jpg  \n",
            "  inflating: dry_flower/cotton_flower/cotton_153.jpg  \n",
            "  inflating: dry_flower/cotton_flower/cotton_154.jpg  \n",
            "  inflating: dry_flower/cotton_flower/cotton_155.jpg  \n",
            "  inflating: dry_flower/cotton_flower/cotton_156.jpg  \n",
            "  inflating: dry_flower/cotton_flower/cotton_157.jpg  \n",
            "  inflating: dry_flower/cotton_flower/cotton_158.jpg  \n",
            "  inflating: dry_flower/cotton_flower/cotton_159.jpg  \n",
            "  inflating: dry_flower/cotton_flower/cotton_16.jpg  \n",
            "  inflating: dry_flower/cotton_flower/cotton_160.jpg  \n",
            "  inflating: dry_flower/cotton_flower/cotton_161.jpg  \n",
            "  inflating: dry_flower/cotton_flower/cotton_162.jpg  \n",
            "  inflating: dry_flower/cotton_flower/cotton_163.jpg  \n",
            "  inflating: dry_flower/cotton_flower/cotton_164.jpg  \n",
            "  inflating: dry_flower/cotton_flower/cotton_165.jpg  \n",
            "  inflating: dry_flower/cotton_flower/cotton_166.jpg  \n",
            "  inflating: dry_flower/cotton_flower/cotton_167.jpg  \n",
            "  inflating: dry_flower/cotton_flower/cotton_168.jpg  \n",
            "  inflating: dry_flower/cotton_flower/cotton_169.jpg  \n",
            "  inflating: dry_flower/cotton_flower/cotton_17.jpg  \n",
            "  inflating: dry_flower/cotton_flower/cotton_170.jpg  \n",
            "  inflating: dry_flower/cotton_flower/cotton_171.jpg  \n",
            "  inflating: dry_flower/cotton_flower/cotton_172.jpg  \n",
            "  inflating: dry_flower/cotton_flower/cotton_173.jpg  \n",
            "  inflating: dry_flower/cotton_flower/cotton_174.jpg  \n",
            "  inflating: dry_flower/cotton_flower/cotton_175.jpg  \n",
            "  inflating: dry_flower/cotton_flower/cotton_176.jpg  \n",
            "  inflating: dry_flower/cotton_flower/cotton_177.jpg  \n",
            "  inflating: dry_flower/cotton_flower/cotton_178.jpg  \n",
            "  inflating: dry_flower/cotton_flower/cotton_179.jpg  \n",
            "  inflating: dry_flower/cotton_flower/cotton_18.jpg  \n",
            "  inflating: dry_flower/cotton_flower/cotton_180.jpg  \n",
            "  inflating: dry_flower/cotton_flower/cotton_181.jpg  \n",
            "  inflating: dry_flower/cotton_flower/cotton_182.jpg  \n",
            "  inflating: dry_flower/cotton_flower/cotton_183.jpg  \n",
            "  inflating: dry_flower/cotton_flower/cotton_184.jpg  \n",
            "  inflating: dry_flower/cotton_flower/cotton_185.jpg  \n",
            "  inflating: dry_flower/cotton_flower/cotton_186.jpg  \n",
            "  inflating: dry_flower/cotton_flower/cotton_187.jpg  \n",
            "  inflating: dry_flower/cotton_flower/cotton_188.jpg  \n",
            "  inflating: dry_flower/cotton_flower/cotton_189.jpg  \n",
            "  inflating: dry_flower/cotton_flower/cotton_19.jpg  \n",
            "  inflating: dry_flower/cotton_flower/cotton_190.jpg  \n",
            "  inflating: dry_flower/cotton_flower/cotton_191.jpg  \n",
            "  inflating: dry_flower/cotton_flower/cotton_192.jpg  \n",
            "  inflating: dry_flower/cotton_flower/cotton_193.jpg  \n",
            "  inflating: dry_flower/cotton_flower/cotton_194.jpg  \n",
            "  inflating: dry_flower/cotton_flower/cotton_195.jpg  \n",
            "  inflating: dry_flower/cotton_flower/cotton_196.jpg  \n",
            "  inflating: dry_flower/cotton_flower/cotton_197.jpg  \n",
            "  inflating: dry_flower/cotton_flower/cotton_198.jpg  \n",
            "  inflating: dry_flower/cotton_flower/cotton_199.jpg  \n",
            "  inflating: dry_flower/cotton_flower/cotton_2.jpg  \n",
            "  inflating: dry_flower/cotton_flower/cotton_20.jpg  \n",
            "  inflating: dry_flower/cotton_flower/cotton_200.jpg  \n",
            "  inflating: dry_flower/cotton_flower/cotton_201.jpg  \n",
            "  inflating: dry_flower/cotton_flower/cotton_202.jpg  \n",
            "  inflating: dry_flower/cotton_flower/cotton_203.jpg  \n",
            "  inflating: dry_flower/cotton_flower/cotton_204.jpg  \n",
            "  inflating: dry_flower/cotton_flower/cotton_205.jpg  \n",
            "  inflating: dry_flower/cotton_flower/cotton_206.jpg  \n",
            "  inflating: dry_flower/cotton_flower/cotton_207.jpg  \n",
            "  inflating: dry_flower/cotton_flower/cotton_208.jpg  \n",
            "  inflating: dry_flower/cotton_flower/cotton_209.jpg  \n",
            "  inflating: dry_flower/cotton_flower/cotton_21.jpg  \n",
            "  inflating: dry_flower/cotton_flower/cotton_210.jpg  \n",
            "  inflating: dry_flower/cotton_flower/cotton_211.jpg  \n",
            "  inflating: dry_flower/cotton_flower/cotton_212.jpg  \n",
            "  inflating: dry_flower/cotton_flower/cotton_213.jpg  \n",
            "  inflating: dry_flower/cotton_flower/cotton_214.jpg  \n",
            "  inflating: dry_flower/cotton_flower/cotton_215.jpg  \n",
            "  inflating: dry_flower/cotton_flower/cotton_216.jpg  \n",
            "  inflating: dry_flower/cotton_flower/cotton_217.jpg  \n",
            "  inflating: dry_flower/cotton_flower/cotton_218.jpg  \n",
            "  inflating: dry_flower/cotton_flower/cotton_219.jpg  \n",
            "  inflating: dry_flower/cotton_flower/cotton_22.jpg  \n",
            "  inflating: dry_flower/cotton_flower/cotton_220.jpg  \n",
            "  inflating: dry_flower/cotton_flower/cotton_221.jpg  \n",
            "  inflating: dry_flower/cotton_flower/cotton_222.jpg  \n",
            "  inflating: dry_flower/cotton_flower/cotton_223.jpg  \n",
            "  inflating: dry_flower/cotton_flower/cotton_224.jpg  \n",
            "  inflating: dry_flower/cotton_flower/cotton_225.jpg  \n",
            "  inflating: dry_flower/cotton_flower/cotton_226.jpg  \n",
            "  inflating: dry_flower/cotton_flower/cotton_227.jpg  \n",
            "  inflating: dry_flower/cotton_flower/cotton_228.jpg  \n",
            "  inflating: dry_flower/cotton_flower/cotton_229.jpg  \n",
            "  inflating: dry_flower/cotton_flower/cotton_23.jpg  \n",
            "  inflating: dry_flower/cotton_flower/cotton_230.jpg  \n",
            "  inflating: dry_flower/cotton_flower/cotton_231.jpg  \n",
            "  inflating: dry_flower/cotton_flower/cotton_232.jpg  \n",
            "  inflating: dry_flower/cotton_flower/cotton_233.jpg  \n",
            "  inflating: dry_flower/cotton_flower/cotton_234.jpg  \n",
            "  inflating: dry_flower/cotton_flower/cotton_235.jpg  \n",
            "  inflating: dry_flower/cotton_flower/cotton_236.jpg  \n",
            "  inflating: dry_flower/cotton_flower/cotton_237.jpg  \n",
            "  inflating: dry_flower/cotton_flower/cotton_238.jpg  \n",
            "  inflating: dry_flower/cotton_flower/cotton_239.jpg  \n",
            "  inflating: dry_flower/cotton_flower/cotton_24.jpg  \n",
            "  inflating: dry_flower/cotton_flower/cotton_240.jpg  \n",
            "  inflating: dry_flower/cotton_flower/cotton_241.jpg  \n",
            "  inflating: dry_flower/cotton_flower/cotton_242.jpg  \n",
            "  inflating: dry_flower/cotton_flower/cotton_243.jpg  \n",
            "  inflating: dry_flower/cotton_flower/cotton_244.jpg  \n",
            "  inflating: dry_flower/cotton_flower/cotton_245.jpg  \n",
            "  inflating: dry_flower/cotton_flower/cotton_246.jpg  \n",
            "  inflating: dry_flower/cotton_flower/cotton_247.jpg  \n",
            "  inflating: dry_flower/cotton_flower/cotton_248.jpg  \n",
            "  inflating: dry_flower/cotton_flower/cotton_249.jpg  \n",
            "  inflating: dry_flower/cotton_flower/cotton_25.jpg  \n",
            "  inflating: dry_flower/cotton_flower/cotton_250.jpg  \n",
            "  inflating: dry_flower/cotton_flower/cotton_251.jpg  \n",
            "  inflating: dry_flower/cotton_flower/cotton_252.jpg  \n",
            "  inflating: dry_flower/cotton_flower/cotton_253.jpg  \n",
            "  inflating: dry_flower/cotton_flower/cotton_254.jpg  \n",
            "  inflating: dry_flower/cotton_flower/cotton_255.jpg  \n",
            "  inflating: dry_flower/cotton_flower/cotton_256.jpg  \n",
            "  inflating: dry_flower/cotton_flower/cotton_257.jpg  \n",
            "  inflating: dry_flower/cotton_flower/cotton_258.jpg  \n",
            "  inflating: dry_flower/cotton_flower/cotton_259.jpg  \n",
            "  inflating: dry_flower/cotton_flower/cotton_26.jpg  \n",
            "  inflating: dry_flower/cotton_flower/cotton_260.jpg  \n",
            "  inflating: dry_flower/cotton_flower/cotton_27.jpg  \n",
            "  inflating: dry_flower/cotton_flower/cotton_28.jpg  \n",
            "  inflating: dry_flower/cotton_flower/cotton_29.jpg  \n",
            "  inflating: dry_flower/cotton_flower/cotton_3.jpg  \n",
            "  inflating: dry_flower/cotton_flower/cotton_30.jpg  \n",
            "  inflating: dry_flower/cotton_flower/cotton_31.jpg  \n",
            "  inflating: dry_flower/cotton_flower/cotton_32.jpg  \n",
            "  inflating: dry_flower/cotton_flower/cotton_33.jpg  \n",
            "  inflating: dry_flower/cotton_flower/cotton_34.jpg  \n",
            "  inflating: dry_flower/cotton_flower/cotton_35.jpg  \n",
            "  inflating: dry_flower/cotton_flower/cotton_36.jpg  \n",
            "  inflating: dry_flower/cotton_flower/cotton_37.jpg  \n",
            "  inflating: dry_flower/cotton_flower/cotton_38.jpg  \n",
            "  inflating: dry_flower/cotton_flower/cotton_39.jpg  \n",
            "  inflating: dry_flower/cotton_flower/cotton_4.jpg  \n",
            "  inflating: dry_flower/cotton_flower/cotton_40.jpg  \n",
            "  inflating: dry_flower/cotton_flower/cotton_41.jpg  \n",
            "  inflating: dry_flower/cotton_flower/cotton_42.jpg  \n",
            "  inflating: dry_flower/cotton_flower/cotton_43.jpg  \n",
            "  inflating: dry_flower/cotton_flower/cotton_44.jpg  \n",
            "  inflating: dry_flower/cotton_flower/cotton_45.jpg  \n",
            "  inflating: dry_flower/cotton_flower/cotton_46.jpg  \n",
            "  inflating: dry_flower/cotton_flower/cotton_47.jpg  \n",
            "  inflating: dry_flower/cotton_flower/cotton_48.jpg  \n",
            "  inflating: dry_flower/cotton_flower/cotton_49.jpg  \n",
            "  inflating: dry_flower/cotton_flower/cotton_5.jpg  \n",
            "  inflating: dry_flower/cotton_flower/cotton_50.jpg  \n",
            "  inflating: dry_flower/cotton_flower/cotton_51.jpg  \n",
            "  inflating: dry_flower/cotton_flower/cotton_52.jpg  \n",
            "  inflating: dry_flower/cotton_flower/cotton_53.jpg  \n",
            "  inflating: dry_flower/cotton_flower/cotton_54.jpg  \n",
            "  inflating: dry_flower/cotton_flower/cotton_55.jpg  \n",
            "  inflating: dry_flower/cotton_flower/cotton_56.jpg  \n",
            "  inflating: dry_flower/cotton_flower/cotton_57.jpg  \n",
            "  inflating: dry_flower/cotton_flower/cotton_58.jpg  \n",
            "  inflating: dry_flower/cotton_flower/cotton_59.jpg  \n",
            "  inflating: dry_flower/cotton_flower/cotton_6.jpg  \n",
            "  inflating: dry_flower/cotton_flower/cotton_60.jpg  \n",
            "  inflating: dry_flower/cotton_flower/cotton_61.jpg  \n",
            "  inflating: dry_flower/cotton_flower/cotton_62.jpg  \n",
            "  inflating: dry_flower/cotton_flower/cotton_63.jpg  \n",
            "  inflating: dry_flower/cotton_flower/cotton_64.jpg  \n",
            "  inflating: dry_flower/cotton_flower/cotton_65.jpg  \n",
            "  inflating: dry_flower/cotton_flower/cotton_66.jpg  \n",
            "  inflating: dry_flower/cotton_flower/cotton_67.jpg  \n",
            "  inflating: dry_flower/cotton_flower/cotton_68.jpg  \n",
            "  inflating: dry_flower/cotton_flower/cotton_69.jpg  \n",
            "  inflating: dry_flower/cotton_flower/cotton_7.jpg  \n",
            "  inflating: dry_flower/cotton_flower/cotton_70.jpg  \n",
            "  inflating: dry_flower/cotton_flower/cotton_71.jpg  \n",
            "  inflating: dry_flower/cotton_flower/cotton_72.jpg  \n",
            "  inflating: dry_flower/cotton_flower/cotton_73.jpg  \n",
            "  inflating: dry_flower/cotton_flower/cotton_74.jpg  \n",
            "  inflating: dry_flower/cotton_flower/cotton_75.jpg  \n",
            "  inflating: dry_flower/cotton_flower/cotton_76.jpg  \n",
            "  inflating: dry_flower/cotton_flower/cotton_77.jpg  \n",
            "  inflating: dry_flower/cotton_flower/cotton_78.jpg  \n",
            "  inflating: dry_flower/cotton_flower/cotton_79.jpg  \n",
            "  inflating: dry_flower/cotton_flower/cotton_8.jpg  \n",
            "  inflating: dry_flower/cotton_flower/cotton_80.jpg  \n",
            "  inflating: dry_flower/cotton_flower/cotton_81.jpg  \n",
            "  inflating: dry_flower/cotton_flower/cotton_82.jpg  \n",
            "  inflating: dry_flower/cotton_flower/cotton_83.jpg  \n",
            "  inflating: dry_flower/cotton_flower/cotton_84.jpg  \n",
            "  inflating: dry_flower/cotton_flower/cotton_85.jpg  \n",
            "  inflating: dry_flower/cotton_flower/cotton_86.jpg  \n",
            "  inflating: dry_flower/cotton_flower/cotton_87.jpg  \n",
            "  inflating: dry_flower/cotton_flower/cotton_88.jpg  \n",
            "  inflating: dry_flower/cotton_flower/cotton_89.jpg  \n",
            "  inflating: dry_flower/cotton_flower/cotton_9.jpg  \n",
            "  inflating: dry_flower/cotton_flower/cotton_90.jpg  \n",
            "  inflating: dry_flower/cotton_flower/cotton_91.jpg  \n",
            "  inflating: dry_flower/cotton_flower/cotton_92.jpg  \n",
            "  inflating: dry_flower/cotton_flower/cotton_93.jpg  \n",
            "  inflating: dry_flower/cotton_flower/cotton_94.jpg  \n",
            "  inflating: dry_flower/cotton_flower/cotton_95.jpg  \n",
            "  inflating: dry_flower/cotton_flower/cotton_96.jpg  \n",
            "  inflating: dry_flower/cotton_flower/cotton_97.jpg  \n",
            "  inflating: dry_flower/cotton_flower/cotton_98.jpg  \n",
            "  inflating: dry_flower/cotton_flower/cotton_99.jpg  \n",
            "   creating: dry_flower/lagurus/\n",
            "  inflating: dry_flower/lagurus/lagurus_1.jpg  \n",
            "  inflating: dry_flower/lagurus/lagurus_10.jpg  \n",
            "  inflating: dry_flower/lagurus/lagurus_100.jpg  \n",
            "  inflating: dry_flower/lagurus/lagurus_101.jpg  \n",
            "  inflating: dry_flower/lagurus/lagurus_102.jpg  \n",
            "  inflating: dry_flower/lagurus/lagurus_103.jpg  \n",
            "  inflating: dry_flower/lagurus/lagurus_104.jpg  \n",
            "  inflating: dry_flower/lagurus/lagurus_105.jpg  \n",
            "  inflating: dry_flower/lagurus/lagurus_106.jpg  \n",
            "  inflating: dry_flower/lagurus/lagurus_107.jpg  \n",
            "  inflating: dry_flower/lagurus/lagurus_108.jpg  \n",
            "  inflating: dry_flower/lagurus/lagurus_109.jpg  \n",
            "  inflating: dry_flower/lagurus/lagurus_11.jpg  \n",
            "  inflating: dry_flower/lagurus/lagurus_110.jpg  \n",
            "  inflating: dry_flower/lagurus/lagurus_111.jpg  \n",
            "  inflating: dry_flower/lagurus/lagurus_112.jpg  \n",
            "  inflating: dry_flower/lagurus/lagurus_113.jpg  \n",
            "  inflating: dry_flower/lagurus/lagurus_114.jpg  \n",
            "  inflating: dry_flower/lagurus/lagurus_115.jpg  \n",
            "  inflating: dry_flower/lagurus/lagurus_116.jpg  \n",
            "  inflating: dry_flower/lagurus/lagurus_117.jpg  \n",
            "  inflating: dry_flower/lagurus/lagurus_118.jpg  \n",
            "  inflating: dry_flower/lagurus/lagurus_119.jpg  \n",
            "  inflating: dry_flower/lagurus/lagurus_12.jpg  \n",
            "  inflating: dry_flower/lagurus/lagurus_120.jpg  \n",
            "  inflating: dry_flower/lagurus/lagurus_121.jpg  \n",
            "  inflating: dry_flower/lagurus/lagurus_122.jpg  \n",
            "  inflating: dry_flower/lagurus/lagurus_123.jpg  \n",
            "  inflating: dry_flower/lagurus/lagurus_124.jpg  \n",
            "  inflating: dry_flower/lagurus/lagurus_125.jpg  \n",
            "  inflating: dry_flower/lagurus/lagurus_126.jpg  \n",
            "  inflating: dry_flower/lagurus/lagurus_127.jpg  \n",
            "  inflating: dry_flower/lagurus/lagurus_128.jpg  \n",
            "  inflating: dry_flower/lagurus/lagurus_129.jpg  \n",
            "  inflating: dry_flower/lagurus/lagurus_13.jpg  \n",
            "  inflating: dry_flower/lagurus/lagurus_130.jpg  \n",
            "  inflating: dry_flower/lagurus/lagurus_131.jpg  \n",
            "  inflating: dry_flower/lagurus/lagurus_132.jpg  \n",
            "  inflating: dry_flower/lagurus/lagurus_133.jpg  \n",
            "  inflating: dry_flower/lagurus/lagurus_134.jpg  \n",
            "  inflating: dry_flower/lagurus/lagurus_135.jpg  \n",
            "  inflating: dry_flower/lagurus/lagurus_136.jpg  \n",
            "  inflating: dry_flower/lagurus/lagurus_137.jpg  \n",
            "  inflating: dry_flower/lagurus/lagurus_138.jpg  \n",
            "  inflating: dry_flower/lagurus/lagurus_139.jpg  \n",
            "  inflating: dry_flower/lagurus/lagurus_14.jpg  \n",
            "  inflating: dry_flower/lagurus/lagurus_140.jpg  \n",
            "  inflating: dry_flower/lagurus/lagurus_141.jpg  \n",
            "  inflating: dry_flower/lagurus/lagurus_142.jpg  \n",
            "  inflating: dry_flower/lagurus/lagurus_143.jpg  \n",
            "  inflating: dry_flower/lagurus/lagurus_144.jpg  \n",
            "  inflating: dry_flower/lagurus/lagurus_145.jpg  \n",
            "  inflating: dry_flower/lagurus/lagurus_146.jpg  \n",
            "  inflating: dry_flower/lagurus/lagurus_147.jpg  \n",
            "  inflating: dry_flower/lagurus/lagurus_148.jpg  \n",
            "  inflating: dry_flower/lagurus/lagurus_149.jpg  \n",
            "  inflating: dry_flower/lagurus/lagurus_15.jpg  \n",
            "  inflating: dry_flower/lagurus/lagurus_150.jpg  \n",
            "  inflating: dry_flower/lagurus/lagurus_151.jpg  \n",
            "  inflating: dry_flower/lagurus/lagurus_152.jpg  \n",
            "  inflating: dry_flower/lagurus/lagurus_153.jpg  \n",
            "  inflating: dry_flower/lagurus/lagurus_154.jpg  \n",
            "  inflating: dry_flower/lagurus/lagurus_155.jpg  \n",
            "  inflating: dry_flower/lagurus/lagurus_156.jpg  \n",
            "  inflating: dry_flower/lagurus/lagurus_157.jpg  \n",
            "  inflating: dry_flower/lagurus/lagurus_158.jpg  \n",
            "  inflating: dry_flower/lagurus/lagurus_159.jpg  \n",
            "  inflating: dry_flower/lagurus/lagurus_16.jpg  \n",
            "  inflating: dry_flower/lagurus/lagurus_160.jpg  \n",
            "  inflating: dry_flower/lagurus/lagurus_161.jpg  \n",
            "  inflating: dry_flower/lagurus/lagurus_162.jpg  \n",
            "  inflating: dry_flower/lagurus/lagurus_163.jpg  \n",
            "  inflating: dry_flower/lagurus/lagurus_164.jpg  \n",
            "  inflating: dry_flower/lagurus/lagurus_165.jpg  \n",
            "  inflating: dry_flower/lagurus/lagurus_166.jpg  \n",
            "  inflating: dry_flower/lagurus/lagurus_167.jpg  \n",
            "  inflating: dry_flower/lagurus/lagurus_168.jpg  \n",
            "  inflating: dry_flower/lagurus/lagurus_169.jpg  \n",
            "  inflating: dry_flower/lagurus/lagurus_17.jpg  \n",
            "  inflating: dry_flower/lagurus/lagurus_170.jpg  \n",
            "  inflating: dry_flower/lagurus/lagurus_171.jpg  \n",
            "  inflating: dry_flower/lagurus/lagurus_172.jpg  \n",
            "  inflating: dry_flower/lagurus/lagurus_173.jpg  \n",
            "  inflating: dry_flower/lagurus/lagurus_174.jpg  \n",
            "  inflating: dry_flower/lagurus/lagurus_175.jpg  \n",
            "  inflating: dry_flower/lagurus/lagurus_176.jpg  \n",
            "  inflating: dry_flower/lagurus/lagurus_177.jpg  \n",
            "  inflating: dry_flower/lagurus/lagurus_178.jpg  \n",
            "  inflating: dry_flower/lagurus/lagurus_179.jpg  \n",
            "  inflating: dry_flower/lagurus/lagurus_18.jpg  \n",
            "  inflating: dry_flower/lagurus/lagurus_180.jpg  \n",
            "  inflating: dry_flower/lagurus/lagurus_181.jpg  \n",
            "  inflating: dry_flower/lagurus/lagurus_182.jpg  \n",
            "  inflating: dry_flower/lagurus/lagurus_183.jpg  \n",
            "  inflating: dry_flower/lagurus/lagurus_184.jpg  \n",
            "  inflating: dry_flower/lagurus/lagurus_185.jpg  \n",
            "  inflating: dry_flower/lagurus/lagurus_186.jpg  \n",
            "  inflating: dry_flower/lagurus/lagurus_187.jpg  \n",
            "  inflating: dry_flower/lagurus/lagurus_188.jpg  \n",
            "  inflating: dry_flower/lagurus/lagurus_189.jpg  \n",
            "  inflating: dry_flower/lagurus/lagurus_19.jpg  \n",
            "  inflating: dry_flower/lagurus/lagurus_190.jpg  \n",
            "  inflating: dry_flower/lagurus/lagurus_191.jpg  \n",
            "  inflating: dry_flower/lagurus/lagurus_192.jpg  \n",
            "  inflating: dry_flower/lagurus/lagurus_193.jpg  \n",
            "  inflating: dry_flower/lagurus/lagurus_194.jpg  \n",
            "  inflating: dry_flower/lagurus/lagurus_195.jpg  \n",
            "  inflating: dry_flower/lagurus/lagurus_196.jpg  \n",
            "  inflating: dry_flower/lagurus/lagurus_197.jpg  \n",
            "  inflating: dry_flower/lagurus/lagurus_198.jpg  \n",
            "  inflating: dry_flower/lagurus/lagurus_199.jpg  \n",
            "  inflating: dry_flower/lagurus/lagurus_2.jpg  \n",
            "  inflating: dry_flower/lagurus/lagurus_20.jpg  \n",
            "  inflating: dry_flower/lagurus/lagurus_200.jpg  \n",
            "  inflating: dry_flower/lagurus/lagurus_201.jpg  \n",
            "  inflating: dry_flower/lagurus/lagurus_202.jpg  \n",
            "  inflating: dry_flower/lagurus/lagurus_203.jpg  \n",
            "  inflating: dry_flower/lagurus/lagurus_204.jpg  \n",
            "  inflating: dry_flower/lagurus/lagurus_205.jpg  \n",
            "  inflating: dry_flower/lagurus/lagurus_206.jpg  \n",
            "  inflating: dry_flower/lagurus/lagurus_207.jpg  \n",
            "  inflating: dry_flower/lagurus/lagurus_208.jpg  \n",
            "  inflating: dry_flower/lagurus/lagurus_209.jpg  \n",
            "  inflating: dry_flower/lagurus/lagurus_21.jpg  \n",
            "  inflating: dry_flower/lagurus/lagurus_210.jpg  \n",
            "  inflating: dry_flower/lagurus/lagurus_211.jpg  \n",
            "  inflating: dry_flower/lagurus/lagurus_212.jpg  \n",
            "  inflating: dry_flower/lagurus/lagurus_213.jpg  \n",
            "  inflating: dry_flower/lagurus/lagurus_214.jpg  \n",
            "  inflating: dry_flower/lagurus/lagurus_215.jpg  \n",
            "  inflating: dry_flower/lagurus/lagurus_216.jpg  \n",
            "  inflating: dry_flower/lagurus/lagurus_217.jpg  \n",
            "  inflating: dry_flower/lagurus/lagurus_218.jpg  \n",
            "  inflating: dry_flower/lagurus/lagurus_219.jpg  \n",
            "  inflating: dry_flower/lagurus/lagurus_22.jpg  \n",
            "  inflating: dry_flower/lagurus/lagurus_220.jpg  \n",
            "  inflating: dry_flower/lagurus/lagurus_221.jpg  \n",
            "  inflating: dry_flower/lagurus/lagurus_222.jpg  \n",
            "  inflating: dry_flower/lagurus/lagurus_223.jpg  \n",
            "  inflating: dry_flower/lagurus/lagurus_224.jpg  \n",
            "  inflating: dry_flower/lagurus/lagurus_225.jpg  \n",
            "  inflating: dry_flower/lagurus/lagurus_226.jpg  \n",
            "  inflating: dry_flower/lagurus/lagurus_227.jpg  \n",
            "  inflating: dry_flower/lagurus/lagurus_228.jpg  \n",
            "  inflating: dry_flower/lagurus/lagurus_229.jpg  \n",
            "  inflating: dry_flower/lagurus/lagurus_23.jpg  \n",
            "  inflating: dry_flower/lagurus/lagurus_230.jpg  \n",
            "  inflating: dry_flower/lagurus/lagurus_231.jpg  \n",
            "  inflating: dry_flower/lagurus/lagurus_232.jpg  \n",
            "  inflating: dry_flower/lagurus/lagurus_233.jpg  \n",
            "  inflating: dry_flower/lagurus/lagurus_234.jpg  \n",
            "  inflating: dry_flower/lagurus/lagurus_235.jpg  \n",
            "  inflating: dry_flower/lagurus/lagurus_236.jpg  \n",
            "  inflating: dry_flower/lagurus/lagurus_237.jpg  \n",
            "  inflating: dry_flower/lagurus/lagurus_239.jpg  \n",
            "  inflating: dry_flower/lagurus/lagurus_24.jpg  \n",
            "  inflating: dry_flower/lagurus/lagurus_240.jpg  \n",
            "  inflating: dry_flower/lagurus/lagurus_241.jpg  \n",
            "  inflating: dry_flower/lagurus/lagurus_242.jpg  \n",
            "  inflating: dry_flower/lagurus/lagurus_243.jpg  \n",
            "  inflating: dry_flower/lagurus/lagurus_244.jpg  \n",
            "  inflating: dry_flower/lagurus/lagurus_245.jpg  \n",
            "  inflating: dry_flower/lagurus/lagurus_246.jpg  \n",
            "  inflating: dry_flower/lagurus/lagurus_247.jpg  \n",
            "  inflating: dry_flower/lagurus/lagurus_248.jpg  \n",
            "  inflating: dry_flower/lagurus/lagurus_249.jpg  \n",
            "  inflating: dry_flower/lagurus/lagurus_25.jpg  \n",
            "  inflating: dry_flower/lagurus/lagurus_250.jpg  \n",
            "  inflating: dry_flower/lagurus/lagurus_251.jpg  \n",
            "  inflating: dry_flower/lagurus/lagurus_252.jpg  \n",
            "  inflating: dry_flower/lagurus/lagurus_253.jpg  \n",
            "  inflating: dry_flower/lagurus/lagurus_254.jpg  \n",
            "  inflating: dry_flower/lagurus/lagurus_255.jpg  \n",
            "  inflating: dry_flower/lagurus/lagurus_256.jpg  \n",
            "  inflating: dry_flower/lagurus/lagurus_257.jpg  \n",
            "  inflating: dry_flower/lagurus/lagurus_258.jpg  \n",
            "  inflating: dry_flower/lagurus/lagurus_259.jpg  \n",
            "  inflating: dry_flower/lagurus/lagurus_26.jpg  \n",
            "  inflating: dry_flower/lagurus/lagurus_260.jpg  \n",
            "  inflating: dry_flower/lagurus/lagurus_261.jpg  \n",
            "  inflating: dry_flower/lagurus/lagurus_262.jpg  \n",
            "  inflating: dry_flower/lagurus/lagurus_263.jpg  \n",
            "  inflating: dry_flower/lagurus/lagurus_264.jpg  \n",
            "  inflating: dry_flower/lagurus/lagurus_265.jpg  \n",
            "  inflating: dry_flower/lagurus/lagurus_27.jpg  \n",
            "  inflating: dry_flower/lagurus/lagurus_28.jpg  \n",
            "  inflating: dry_flower/lagurus/lagurus_29.jpg  \n",
            "  inflating: dry_flower/lagurus/lagurus_3.jpg  \n",
            "  inflating: dry_flower/lagurus/lagurus_30.jpg  \n",
            "  inflating: dry_flower/lagurus/lagurus_31.jpg  \n",
            "  inflating: dry_flower/lagurus/lagurus_32.jpg  \n",
            "  inflating: dry_flower/lagurus/lagurus_33.jpg  \n",
            "  inflating: dry_flower/lagurus/lagurus_34.jpg  \n",
            "  inflating: dry_flower/lagurus/lagurus_35.jpg  \n",
            "  inflating: dry_flower/lagurus/lagurus_36.jpg  \n",
            "  inflating: dry_flower/lagurus/lagurus_37.jpg  \n",
            "  inflating: dry_flower/lagurus/lagurus_38.jpg  \n",
            "  inflating: dry_flower/lagurus/lagurus_39.jpg  \n",
            "  inflating: dry_flower/lagurus/lagurus_4.jpg  \n",
            "  inflating: dry_flower/lagurus/lagurus_40.jpg  \n",
            "  inflating: dry_flower/lagurus/lagurus_41.jpg  \n",
            "  inflating: dry_flower/lagurus/lagurus_42.jpg  \n",
            "  inflating: dry_flower/lagurus/lagurus_43.jpg  \n",
            "  inflating: dry_flower/lagurus/lagurus_44.jpg  \n",
            "  inflating: dry_flower/lagurus/lagurus_45.jpg  \n",
            "  inflating: dry_flower/lagurus/lagurus_46.jpg  \n",
            "  inflating: dry_flower/lagurus/lagurus_47.jpg  \n",
            "  inflating: dry_flower/lagurus/lagurus_48.jpg  \n",
            "  inflating: dry_flower/lagurus/lagurus_49.jpg  \n",
            "  inflating: dry_flower/lagurus/lagurus_5.jpg  \n",
            "  inflating: dry_flower/lagurus/lagurus_50.jpg  \n",
            "  inflating: dry_flower/lagurus/lagurus_51.jpg  \n",
            "  inflating: dry_flower/lagurus/lagurus_52.jpg  \n",
            "  inflating: dry_flower/lagurus/lagurus_53.jpg  \n",
            "  inflating: dry_flower/lagurus/lagurus_54.jpg  \n",
            "  inflating: dry_flower/lagurus/lagurus_55.jpg  \n",
            "  inflating: dry_flower/lagurus/lagurus_56.jpg  \n",
            "  inflating: dry_flower/lagurus/lagurus_57.jpg  \n",
            "  inflating: dry_flower/lagurus/lagurus_58.jpg  \n",
            "  inflating: dry_flower/lagurus/lagurus_59.jpg  \n",
            "  inflating: dry_flower/lagurus/lagurus_6.jpg  \n",
            "  inflating: dry_flower/lagurus/lagurus_60.jpg  \n",
            "  inflating: dry_flower/lagurus/lagurus_61.jpg  \n",
            "  inflating: dry_flower/lagurus/lagurus_62.jpg  \n",
            "  inflating: dry_flower/lagurus/lagurus_63.jpg  \n",
            "  inflating: dry_flower/lagurus/lagurus_64.jpg  \n",
            "  inflating: dry_flower/lagurus/lagurus_65.jpg  \n",
            "  inflating: dry_flower/lagurus/lagurus_66.jpg  \n",
            "  inflating: dry_flower/lagurus/lagurus_67.jpg  \n",
            "  inflating: dry_flower/lagurus/lagurus_68.jpg  \n",
            "  inflating: dry_flower/lagurus/lagurus_69.jpg  \n",
            "  inflating: dry_flower/lagurus/lagurus_7.jpg  \n",
            "  inflating: dry_flower/lagurus/lagurus_70.jpg  \n",
            "  inflating: dry_flower/lagurus/lagurus_71.jpg  \n",
            "  inflating: dry_flower/lagurus/lagurus_72.jpg  \n",
            "  inflating: dry_flower/lagurus/lagurus_73.jpg  \n",
            "  inflating: dry_flower/lagurus/lagurus_74.jpg  \n",
            "  inflating: dry_flower/lagurus/lagurus_75.jpg  \n",
            "  inflating: dry_flower/lagurus/lagurus_76.jpg  \n",
            "  inflating: dry_flower/lagurus/lagurus_77.jpg  \n",
            "  inflating: dry_flower/lagurus/lagurus_78.jpg  \n",
            "  inflating: dry_flower/lagurus/lagurus_79.jpg  \n",
            "  inflating: dry_flower/lagurus/lagurus_8.jpg  \n",
            "  inflating: dry_flower/lagurus/lagurus_80.jpg  \n",
            "  inflating: dry_flower/lagurus/lagurus_81.jpg  \n",
            "  inflating: dry_flower/lagurus/lagurus_82.jpg  \n",
            "  inflating: dry_flower/lagurus/lagurus_83.jpg  \n",
            "  inflating: dry_flower/lagurus/lagurus_84.jpg  \n",
            "  inflating: dry_flower/lagurus/lagurus_85.jpg  \n",
            "  inflating: dry_flower/lagurus/lagurus_86.jpg  \n",
            "  inflating: dry_flower/lagurus/lagurus_87.jpg  \n",
            "  inflating: dry_flower/lagurus/lagurus_88.jpg  \n",
            "  inflating: dry_flower/lagurus/lagurus_89.jpg  \n",
            "  inflating: dry_flower/lagurus/lagurus_9.jpg  \n",
            "  inflating: dry_flower/lagurus/lagurus_90.jpg  \n",
            "  inflating: dry_flower/lagurus/lagurus_91.jpg  \n",
            "  inflating: dry_flower/lagurus/lagurus_92.jpg  \n",
            "  inflating: dry_flower/lagurus/lagurus_93.jpg  \n",
            "  inflating: dry_flower/lagurus/lagurus_94.jpg  \n",
            "  inflating: dry_flower/lagurus/lagurus_95.jpg  \n",
            "  inflating: dry_flower/lagurus/lagurus_96.jpg  \n",
            "  inflating: dry_flower/lagurus/lagurus_97.jpg  \n",
            "  inflating: dry_flower/lagurus/lagurus_98.jpg  \n",
            "  inflating: dry_flower/lagurus/lagurus_99.jpg  \n",
            "   creating: dry_flower/pampas/\n",
            "  inflating: dry_flower/pampas/pampas_1.jpg  \n",
            "  inflating: dry_flower/pampas/pampas_10.jpg  \n",
            "  inflating: dry_flower/pampas/pampas_100.jpg  \n",
            "  inflating: dry_flower/pampas/pampas_101.jpg  \n",
            "  inflating: dry_flower/pampas/pampas_102.jpg  \n",
            "  inflating: dry_flower/pampas/pampas_103.jpg  \n",
            "  inflating: dry_flower/pampas/pampas_104.jpg  \n",
            "  inflating: dry_flower/pampas/pampas_105.jpg  \n",
            "  inflating: dry_flower/pampas/pampas_106.jpg  \n",
            "  inflating: dry_flower/pampas/pampas_107.jpg  \n",
            "  inflating: dry_flower/pampas/pampas_108.jpg  \n",
            "  inflating: dry_flower/pampas/pampas_109.jpg  \n",
            "  inflating: dry_flower/pampas/pampas_11.jpg  \n",
            "  inflating: dry_flower/pampas/pampas_110.jpg  \n",
            "  inflating: dry_flower/pampas/pampas_111.jpg  \n",
            "  inflating: dry_flower/pampas/pampas_112.jpg  \n",
            "  inflating: dry_flower/pampas/pampas_113.jpg  \n",
            "  inflating: dry_flower/pampas/pampas_114.jpg  \n",
            "  inflating: dry_flower/pampas/pampas_115.jpg  \n",
            "  inflating: dry_flower/pampas/pampas_116.jpg  \n",
            "  inflating: dry_flower/pampas/pampas_117.jpg  \n",
            "  inflating: dry_flower/pampas/pampas_118.jpg  \n",
            "  inflating: dry_flower/pampas/pampas_119.jpg  \n",
            "  inflating: dry_flower/pampas/pampas_12.jpg  \n",
            "  inflating: dry_flower/pampas/pampas_120.jpg  \n",
            "  inflating: dry_flower/pampas/pampas_121.jpg  \n",
            "  inflating: dry_flower/pampas/pampas_122.jpg  \n",
            "  inflating: dry_flower/pampas/pampas_123.jpg  \n",
            "  inflating: dry_flower/pampas/pampas_124.jpg  \n",
            "  inflating: dry_flower/pampas/pampas_125.jpg  \n",
            "  inflating: dry_flower/pampas/pampas_126.jpg  \n",
            "  inflating: dry_flower/pampas/pampas_127.jpg  \n",
            "  inflating: dry_flower/pampas/pampas_128.jpg  \n",
            "  inflating: dry_flower/pampas/pampas_129.jpg  \n",
            "  inflating: dry_flower/pampas/pampas_13.jpg  \n",
            "  inflating: dry_flower/pampas/pampas_130.jpg  \n",
            "  inflating: dry_flower/pampas/pampas_131.jpg  \n",
            "  inflating: dry_flower/pampas/pampas_132.jpg  \n",
            "  inflating: dry_flower/pampas/pampas_133.jpg  \n",
            "  inflating: dry_flower/pampas/pampas_134.jpg  \n",
            "  inflating: dry_flower/pampas/pampas_135.jpg  \n",
            "  inflating: dry_flower/pampas/pampas_136.jpg  \n",
            "  inflating: dry_flower/pampas/pampas_137.jpg  \n",
            "  inflating: dry_flower/pampas/pampas_138.jpg  \n",
            "  inflating: dry_flower/pampas/pampas_139.jpg  \n",
            "  inflating: dry_flower/pampas/pampas_14.jpg  \n",
            "  inflating: dry_flower/pampas/pampas_140.jpg  \n",
            "  inflating: dry_flower/pampas/pampas_141.jpg  \n",
            "  inflating: dry_flower/pampas/pampas_142.jpg  \n",
            "  inflating: dry_flower/pampas/pampas_143.jpg  \n",
            "  inflating: dry_flower/pampas/pampas_144.jpg  \n",
            "  inflating: dry_flower/pampas/pampas_145.jpg  \n",
            "  inflating: dry_flower/pampas/pampas_146.jpg  \n",
            "  inflating: dry_flower/pampas/pampas_147.jpg  \n",
            "  inflating: dry_flower/pampas/pampas_148.jpg  \n",
            "  inflating: dry_flower/pampas/pampas_149.jpg  \n",
            "  inflating: dry_flower/pampas/pampas_15.jpg  \n",
            "  inflating: dry_flower/pampas/pampas_150.jpg  \n",
            "  inflating: dry_flower/pampas/pampas_151.jpg  \n",
            "  inflating: dry_flower/pampas/pampas_152.jpg  \n",
            "  inflating: dry_flower/pampas/pampas_153.jpg  \n",
            "  inflating: dry_flower/pampas/pampas_154.jpg  \n",
            "  inflating: dry_flower/pampas/pampas_155.jpg  \n",
            "  inflating: dry_flower/pampas/pampas_156.jpg  \n",
            "  inflating: dry_flower/pampas/pampas_157.jpg  \n",
            "  inflating: dry_flower/pampas/pampas_158.jpg  \n",
            "  inflating: dry_flower/pampas/pampas_159.jpg  \n",
            "  inflating: dry_flower/pampas/pampas_16.jpg  \n",
            "  inflating: dry_flower/pampas/pampas_160.jpg  \n",
            "  inflating: dry_flower/pampas/pampas_161.jpg  \n",
            "  inflating: dry_flower/pampas/pampas_162.jpg  \n",
            "  inflating: dry_flower/pampas/pampas_163.jpg  \n",
            "  inflating: dry_flower/pampas/pampas_164.jpg  \n",
            "  inflating: dry_flower/pampas/pampas_165.jpg  \n",
            "  inflating: dry_flower/pampas/pampas_166.jpg  \n",
            "  inflating: dry_flower/pampas/pampas_167.jpg  \n",
            "  inflating: dry_flower/pampas/pampas_168.jpg  \n",
            "  inflating: dry_flower/pampas/pampas_169.jpg  \n",
            "  inflating: dry_flower/pampas/pampas_17.jpg  \n",
            "  inflating: dry_flower/pampas/pampas_170.jpg  \n",
            "  inflating: dry_flower/pampas/pampas_171.jpg  \n",
            "  inflating: dry_flower/pampas/pampas_172.jpg  \n",
            "  inflating: dry_flower/pampas/pampas_173.jpg  \n",
            "  inflating: dry_flower/pampas/pampas_174.jpg  \n",
            "  inflating: dry_flower/pampas/pampas_175.jpg  \n",
            "  inflating: dry_flower/pampas/pampas_176.jpg  \n",
            "  inflating: dry_flower/pampas/pampas_177.jpg  \n",
            "  inflating: dry_flower/pampas/pampas_178.jpg  \n",
            "  inflating: dry_flower/pampas/pampas_179.jpg  \n",
            "  inflating: dry_flower/pampas/pampas_18.jpg  \n",
            "  inflating: dry_flower/pampas/pampas_180.jpg  \n",
            "  inflating: dry_flower/pampas/pampas_181.jpg  \n",
            "  inflating: dry_flower/pampas/pampas_182.jpg  \n",
            "  inflating: dry_flower/pampas/pampas_183.jpg  \n",
            "  inflating: dry_flower/pampas/pampas_184.jpg  \n",
            "  inflating: dry_flower/pampas/pampas_185.jpg  \n",
            "  inflating: dry_flower/pampas/pampas_186.jpg  \n",
            "  inflating: dry_flower/pampas/pampas_187.jpg  \n",
            "  inflating: dry_flower/pampas/pampas_188.jpg  \n",
            "  inflating: dry_flower/pampas/pampas_189.jpg  \n",
            "  inflating: dry_flower/pampas/pampas_19.jpg  \n",
            "  inflating: dry_flower/pampas/pampas_190.jpg  \n",
            "  inflating: dry_flower/pampas/pampas_191.jpg  \n",
            "  inflating: dry_flower/pampas/pampas_192.jpg  \n",
            "  inflating: dry_flower/pampas/pampas_193.jpg  \n",
            "  inflating: dry_flower/pampas/pampas_194.jpg  \n",
            "  inflating: dry_flower/pampas/pampas_195.jpg  \n",
            "  inflating: dry_flower/pampas/pampas_196.jpg  \n",
            "  inflating: dry_flower/pampas/pampas_197.jpg  \n",
            "  inflating: dry_flower/pampas/pampas_198.jpg  \n",
            "  inflating: dry_flower/pampas/pampas_199.jpg  \n",
            "  inflating: dry_flower/pampas/pampas_2.jpg  \n",
            "  inflating: dry_flower/pampas/pampas_20.jpg  \n",
            "  inflating: dry_flower/pampas/pampas_200.jpg  \n",
            "  inflating: dry_flower/pampas/pampas_201.jpg  \n",
            "  inflating: dry_flower/pampas/pampas_202.jpg  \n",
            "  inflating: dry_flower/pampas/pampas_203.jpg  \n",
            "  inflating: dry_flower/pampas/pampas_204.jpg  \n",
            "  inflating: dry_flower/pampas/pampas_205.jpg  \n",
            "  inflating: dry_flower/pampas/pampas_206.jpg  \n",
            "  inflating: dry_flower/pampas/pampas_207.jpg  \n",
            "  inflating: dry_flower/pampas/pampas_208.jpg  \n",
            "  inflating: dry_flower/pampas/pampas_209.jpg  \n",
            "  inflating: dry_flower/pampas/pampas_21.jpg  \n",
            "  inflating: dry_flower/pampas/pampas_210.jpg  \n",
            "  inflating: dry_flower/pampas/pampas_211.jpg  \n",
            "  inflating: dry_flower/pampas/pampas_212.jpg  \n",
            "  inflating: dry_flower/pampas/pampas_213.jpg  \n",
            "  inflating: dry_flower/pampas/pampas_214.jpg  \n",
            "  inflating: dry_flower/pampas/pampas_215.jpg  \n",
            "  inflating: dry_flower/pampas/pampas_216.jpg  \n",
            "  inflating: dry_flower/pampas/pampas_217.jpg  \n",
            "  inflating: dry_flower/pampas/pampas_218.jpg  \n",
            "  inflating: dry_flower/pampas/pampas_219.jpg  \n",
            "  inflating: dry_flower/pampas/pampas_22.jpg  \n",
            "  inflating: dry_flower/pampas/pampas_220.jpg  \n",
            "  inflating: dry_flower/pampas/pampas_221.jpg  \n",
            "  inflating: dry_flower/pampas/pampas_222.jpg  \n",
            "  inflating: dry_flower/pampas/pampas_223.jpg  \n",
            "  inflating: dry_flower/pampas/pampas_224.jpg  \n",
            "  inflating: dry_flower/pampas/pampas_225.jpg  \n",
            "  inflating: dry_flower/pampas/pampas_226.jpg  \n",
            "  inflating: dry_flower/pampas/pampas_227.jpg  \n",
            "  inflating: dry_flower/pampas/pampas_228.jpg  \n",
            "  inflating: dry_flower/pampas/pampas_229.jpg  \n",
            "  inflating: dry_flower/pampas/pampas_23.jpg  \n",
            "  inflating: dry_flower/pampas/pampas_230.jpg  \n",
            "  inflating: dry_flower/pampas/pampas_231.jpg  \n",
            "  inflating: dry_flower/pampas/pampas_232.jpg  \n",
            "  inflating: dry_flower/pampas/pampas_233.jpg  \n",
            "  inflating: dry_flower/pampas/pampas_234.jpg  \n",
            "  inflating: dry_flower/pampas/pampas_235.jpg  \n",
            "  inflating: dry_flower/pampas/pampas_236.jpg  \n",
            "  inflating: dry_flower/pampas/pampas_237.jpg  \n",
            "  inflating: dry_flower/pampas/pampas_238.jpg  \n",
            "  inflating: dry_flower/pampas/pampas_239.jpg  \n",
            "  inflating: dry_flower/pampas/pampas_24.jpg  \n",
            "  inflating: dry_flower/pampas/pampas_240.jpg  \n",
            "  inflating: dry_flower/pampas/pampas_241.jpg  \n",
            "  inflating: dry_flower/pampas/pampas_242.jpg  \n",
            "  inflating: dry_flower/pampas/pampas_243.jpg  \n",
            "  inflating: dry_flower/pampas/pampas_244.jpg  \n",
            "  inflating: dry_flower/pampas/pampas_245.jpg  \n",
            "  inflating: dry_flower/pampas/pampas_246.jpg  \n",
            "  inflating: dry_flower/pampas/pampas_247.jpg  \n",
            "  inflating: dry_flower/pampas/pampas_248.jpg  \n",
            "  inflating: dry_flower/pampas/pampas_249.jpg  \n",
            "  inflating: dry_flower/pampas/pampas_25.jpg  \n",
            "  inflating: dry_flower/pampas/pampas_250.jpg  \n",
            "  inflating: dry_flower/pampas/pampas_251.jpg  \n",
            "  inflating: dry_flower/pampas/pampas_252.jpg  \n",
            "  inflating: dry_flower/pampas/pampas_253.jpg  \n",
            "  inflating: dry_flower/pampas/pampas_254.jpg  \n",
            "  inflating: dry_flower/pampas/pampas_255.jpg  \n",
            "  inflating: dry_flower/pampas/pampas_256.jpg  \n",
            "  inflating: dry_flower/pampas/pampas_257.jpg  \n",
            "  inflating: dry_flower/pampas/pampas_258.jpg  \n",
            "  inflating: dry_flower/pampas/pampas_259.jpg  \n",
            "  inflating: dry_flower/pampas/pampas_26.jpg  \n",
            "  inflating: dry_flower/pampas/pampas_260.jpg  \n",
            "  inflating: dry_flower/pampas/pampas_27.jpg  \n",
            "  inflating: dry_flower/pampas/pampas_28.jpg  \n",
            "  inflating: dry_flower/pampas/pampas_29.jpg  \n",
            "  inflating: dry_flower/pampas/pampas_3.jpg  \n",
            "  inflating: dry_flower/pampas/pampas_30.jpg  \n",
            "  inflating: dry_flower/pampas/pampas_31.jpg  \n",
            "  inflating: dry_flower/pampas/pampas_32.jpg  \n",
            "  inflating: dry_flower/pampas/pampas_33.jpg  \n",
            "  inflating: dry_flower/pampas/pampas_34.jpg  \n",
            "  inflating: dry_flower/pampas/pampas_35.jpg  \n",
            "  inflating: dry_flower/pampas/pampas_36.jpg  \n",
            "  inflating: dry_flower/pampas/pampas_37.jpg  \n",
            "  inflating: dry_flower/pampas/pampas_38.jpg  \n",
            "  inflating: dry_flower/pampas/pampas_39.jpg  \n",
            "  inflating: dry_flower/pampas/pampas_4.jpg  \n",
            "  inflating: dry_flower/pampas/pampas_40.jpg  \n",
            "  inflating: dry_flower/pampas/pampas_41.jpg  \n",
            "  inflating: dry_flower/pampas/pampas_42.jpg  \n",
            "  inflating: dry_flower/pampas/pampas_43.jpg  \n",
            "  inflating: dry_flower/pampas/pampas_44.jpg  \n",
            "  inflating: dry_flower/pampas/pampas_45.jpg  \n",
            "  inflating: dry_flower/pampas/pampas_46.jpg  \n",
            "  inflating: dry_flower/pampas/pampas_47.jpg  \n",
            "  inflating: dry_flower/pampas/pampas_48.jpg  \n",
            "  inflating: dry_flower/pampas/pampas_49.jpg  \n",
            "  inflating: dry_flower/pampas/pampas_5.jpg  \n",
            "  inflating: dry_flower/pampas/pampas_50.jpg  \n",
            "  inflating: dry_flower/pampas/pampas_51.jpg  \n",
            "  inflating: dry_flower/pampas/pampas_52.jpg  \n",
            "  inflating: dry_flower/pampas/pampas_53.jpg  \n",
            "  inflating: dry_flower/pampas/pampas_54.jpg  \n",
            "  inflating: dry_flower/pampas/pampas_55.jpg  \n",
            "  inflating: dry_flower/pampas/pampas_56.jpg  \n",
            "  inflating: dry_flower/pampas/pampas_57.jpg  \n",
            "  inflating: dry_flower/pampas/pampas_58.jpg  \n",
            "  inflating: dry_flower/pampas/pampas_59.jpg  \n",
            "  inflating: dry_flower/pampas/pampas_6.jpg  \n",
            "  inflating: dry_flower/pampas/pampas_60.jpg  \n",
            "  inflating: dry_flower/pampas/pampas_61.jpg  \n",
            "  inflating: dry_flower/pampas/pampas_62.jpg  \n",
            "  inflating: dry_flower/pampas/pampas_63.jpg  \n",
            "  inflating: dry_flower/pampas/pampas_64.jpg  \n",
            "  inflating: dry_flower/pampas/pampas_65.jpg  \n",
            "  inflating: dry_flower/pampas/pampas_66.jpg  \n",
            "  inflating: dry_flower/pampas/pampas_67.jpg  \n",
            "  inflating: dry_flower/pampas/pampas_68.jpg  \n",
            "  inflating: dry_flower/pampas/pampas_69.jpg  \n",
            "  inflating: dry_flower/pampas/pampas_7.jpg  \n",
            "  inflating: dry_flower/pampas/pampas_70.jpg  \n",
            "  inflating: dry_flower/pampas/pampas_71.jpg  \n",
            "  inflating: dry_flower/pampas/pampas_72.jpg  \n",
            "  inflating: dry_flower/pampas/pampas_73.jpg  \n",
            "  inflating: dry_flower/pampas/pampas_74.jpg  \n",
            "  inflating: dry_flower/pampas/pampas_75.jpg  \n",
            "  inflating: dry_flower/pampas/pampas_76.jpg  \n",
            "  inflating: dry_flower/pampas/pampas_77.jpg  \n",
            "  inflating: dry_flower/pampas/pampas_78.jpg  \n",
            "  inflating: dry_flower/pampas/pampas_79.jpg  \n",
            "  inflating: dry_flower/pampas/pampas_8.jpg  \n",
            "  inflating: dry_flower/pampas/pampas_80.jpg  \n",
            "  inflating: dry_flower/pampas/pampas_81.jpg  \n",
            "  inflating: dry_flower/pampas/pampas_82.jpg  \n",
            "  inflating: dry_flower/pampas/pampas_83.jpg  \n",
            "  inflating: dry_flower/pampas/pampas_84.jpg  \n",
            "  inflating: dry_flower/pampas/pampas_85.jpg  \n",
            "  inflating: dry_flower/pampas/pampas_86.jpg  \n",
            "  inflating: dry_flower/pampas/pampas_87.jpg  \n",
            "  inflating: dry_flower/pampas/pampas_88.jpg  \n",
            "  inflating: dry_flower/pampas/pampas_89.jpg  \n",
            "  inflating: dry_flower/pampas/pampas_9.jpg  \n",
            "  inflating: dry_flower/pampas/pampas_90.jpg  \n",
            "  inflating: dry_flower/pampas/pampas_91.jpg  \n",
            "  inflating: dry_flower/pampas/pampas_92.jpg  \n",
            "  inflating: dry_flower/pampas/pampas_93.jpg  \n",
            "  inflating: dry_flower/pampas/pampas_94.jpg  \n",
            "  inflating: dry_flower/pampas/pampas_95.jpg  \n",
            "  inflating: dry_flower/pampas/pampas_96.jpg  \n",
            "  inflating: dry_flower/pampas/pampas_97.jpg  \n",
            "  inflating: dry_flower/pampas/pampas_98.jpg  \n",
            "  inflating: dry_flower/pampas/pampas_99.jpg  \n",
            "   creating: dry_flower/setaria/\n",
            "  inflating: dry_flower/setaria/setaria_1.jpg  \n",
            "  inflating: dry_flower/setaria/setaria_10.jpg  \n",
            "  inflating: dry_flower/setaria/setaria_100.jpg  \n",
            "  inflating: dry_flower/setaria/setaria_101.jpg  \n",
            "  inflating: dry_flower/setaria/setaria_102.jpg  \n",
            "  inflating: dry_flower/setaria/setaria_103.jpg  \n",
            "  inflating: dry_flower/setaria/setaria_104.jpg  \n",
            "  inflating: dry_flower/setaria/setaria_105.jpg  \n",
            "  inflating: dry_flower/setaria/setaria_106.jpg  \n",
            "  inflating: dry_flower/setaria/setaria_107.jpg  \n",
            "  inflating: dry_flower/setaria/setaria_108.jpg  \n",
            "  inflating: dry_flower/setaria/setaria_109.jpg  \n",
            "  inflating: dry_flower/setaria/setaria_11.jpg  \n",
            "  inflating: dry_flower/setaria/setaria_110.jpg  \n",
            "  inflating: dry_flower/setaria/setaria_111.jpg  \n",
            "  inflating: dry_flower/setaria/setaria_112.jpg  \n",
            "  inflating: dry_flower/setaria/setaria_113.jpg  \n",
            "  inflating: dry_flower/setaria/setaria_114.jpg  \n",
            "  inflating: dry_flower/setaria/setaria_115.jpg  \n",
            "  inflating: dry_flower/setaria/setaria_116.jpg  \n",
            "  inflating: dry_flower/setaria/setaria_117.jpg  \n",
            "  inflating: dry_flower/setaria/setaria_118.jpg  \n",
            "  inflating: dry_flower/setaria/setaria_119.jpg  \n",
            "  inflating: dry_flower/setaria/setaria_12.jpg  \n",
            "  inflating: dry_flower/setaria/setaria_120.jpg  \n",
            "  inflating: dry_flower/setaria/setaria_121.jpg  \n",
            "  inflating: dry_flower/setaria/setaria_122.jpg  \n",
            "  inflating: dry_flower/setaria/setaria_123.jpg  \n",
            "  inflating: dry_flower/setaria/setaria_124.jpg  \n",
            "  inflating: dry_flower/setaria/setaria_125.jpg  \n",
            "  inflating: dry_flower/setaria/setaria_126.jpg  \n",
            "  inflating: dry_flower/setaria/setaria_127.jpg  \n",
            "  inflating: dry_flower/setaria/setaria_128.jpg  \n",
            "  inflating: dry_flower/setaria/setaria_129.jpg  \n",
            "  inflating: dry_flower/setaria/setaria_13.jpg  \n",
            "  inflating: dry_flower/setaria/setaria_130.jpg  \n",
            "  inflating: dry_flower/setaria/setaria_131.jpg  \n",
            "  inflating: dry_flower/setaria/setaria_132.jpg  \n",
            "  inflating: dry_flower/setaria/setaria_133.jpg  \n",
            "  inflating: dry_flower/setaria/setaria_134.jpg  \n",
            "  inflating: dry_flower/setaria/setaria_135.jpg  \n",
            "  inflating: dry_flower/setaria/setaria_136.jpg  \n",
            "  inflating: dry_flower/setaria/setaria_137.jpg  \n",
            "  inflating: dry_flower/setaria/setaria_138.jpg  \n",
            "  inflating: dry_flower/setaria/setaria_139.jpg  \n",
            "  inflating: dry_flower/setaria/setaria_14.jpg  \n",
            "  inflating: dry_flower/setaria/setaria_140.jpg  \n",
            "  inflating: dry_flower/setaria/setaria_141.jpg  \n",
            "  inflating: dry_flower/setaria/setaria_142.jpg  \n",
            "  inflating: dry_flower/setaria/setaria_143.jpg  \n",
            "  inflating: dry_flower/setaria/setaria_144.jpg  \n",
            "  inflating: dry_flower/setaria/setaria_145.jpg  \n",
            "  inflating: dry_flower/setaria/setaria_146.jpg  \n",
            "  inflating: dry_flower/setaria/setaria_147.jpg  \n",
            "  inflating: dry_flower/setaria/setaria_148.jpg  \n",
            "  inflating: dry_flower/setaria/setaria_149.jpg  \n",
            "  inflating: dry_flower/setaria/setaria_15.jpg  \n",
            "  inflating: dry_flower/setaria/setaria_150.jpg  \n",
            "  inflating: dry_flower/setaria/setaria_151.jpg  \n",
            "  inflating: dry_flower/setaria/setaria_152.jpg  \n",
            "  inflating: dry_flower/setaria/setaria_153.jpg  \n",
            "  inflating: dry_flower/setaria/setaria_154.jpg  \n",
            "  inflating: dry_flower/setaria/setaria_155.jpg  \n",
            "  inflating: dry_flower/setaria/setaria_156.jpg  \n",
            "  inflating: dry_flower/setaria/setaria_157.jpg  \n",
            "  inflating: dry_flower/setaria/setaria_158.jpg  \n",
            "  inflating: dry_flower/setaria/setaria_159.jpg  \n",
            "  inflating: dry_flower/setaria/setaria_16.jpg  \n",
            "  inflating: dry_flower/setaria/setaria_160.jpg  \n",
            "  inflating: dry_flower/setaria/setaria_161.jpg  \n",
            "  inflating: dry_flower/setaria/setaria_162.jpg  \n",
            "  inflating: dry_flower/setaria/setaria_163.jpg  \n",
            "  inflating: dry_flower/setaria/setaria_164.jpg  \n",
            "  inflating: dry_flower/setaria/setaria_165.jpg  \n",
            "  inflating: dry_flower/setaria/setaria_166.jpg  \n",
            "  inflating: dry_flower/setaria/setaria_167.jpg  \n",
            "  inflating: dry_flower/setaria/setaria_168.jpg  \n",
            "  inflating: dry_flower/setaria/setaria_169.jpg  \n",
            "  inflating: dry_flower/setaria/setaria_17.jpg  \n",
            "  inflating: dry_flower/setaria/setaria_170.jpg  \n",
            "  inflating: dry_flower/setaria/setaria_171.jpg  \n",
            "  inflating: dry_flower/setaria/setaria_172.jpg  \n",
            "  inflating: dry_flower/setaria/setaria_173.jpg  \n",
            "  inflating: dry_flower/setaria/setaria_174.jpg  \n",
            "  inflating: dry_flower/setaria/setaria_175.jpg  \n",
            "  inflating: dry_flower/setaria/setaria_176.jpg  \n",
            "  inflating: dry_flower/setaria/setaria_177.jpg  \n",
            "  inflating: dry_flower/setaria/setaria_178.jpg  \n",
            "  inflating: dry_flower/setaria/setaria_179.jpg  \n",
            "  inflating: dry_flower/setaria/setaria_18.jpg  \n",
            "  inflating: dry_flower/setaria/setaria_180.jpg  \n",
            "  inflating: dry_flower/setaria/setaria_181.jpg  \n",
            "  inflating: dry_flower/setaria/setaria_182.jpg  \n",
            "  inflating: dry_flower/setaria/setaria_183.jpg  \n",
            "  inflating: dry_flower/setaria/setaria_184.jpg  \n",
            "  inflating: dry_flower/setaria/setaria_185.jpg  \n",
            "  inflating: dry_flower/setaria/setaria_186.jpg  \n",
            "  inflating: dry_flower/setaria/setaria_187.jpg  \n",
            "  inflating: dry_flower/setaria/setaria_188.jpg  \n",
            "  inflating: dry_flower/setaria/setaria_189.jpg  \n",
            "  inflating: dry_flower/setaria/setaria_19.jpg  \n",
            "  inflating: dry_flower/setaria/setaria_190.jpg  \n",
            "  inflating: dry_flower/setaria/setaria_191.jpg  \n",
            "  inflating: dry_flower/setaria/setaria_192.jpg  \n",
            "  inflating: dry_flower/setaria/setaria_193.jpg  \n",
            "  inflating: dry_flower/setaria/setaria_194.jpg  \n",
            "  inflating: dry_flower/setaria/setaria_195.jpg  \n",
            "  inflating: dry_flower/setaria/setaria_196.jpg  \n",
            "  inflating: dry_flower/setaria/setaria_197.jpg  \n",
            "  inflating: dry_flower/setaria/setaria_198.jpg  \n",
            "  inflating: dry_flower/setaria/setaria_199.jpg  \n",
            "  inflating: dry_flower/setaria/setaria_2.jpg  \n",
            "  inflating: dry_flower/setaria/setaria_20.jpg  \n",
            "  inflating: dry_flower/setaria/setaria_200.jpg  \n",
            "  inflating: dry_flower/setaria/setaria_201.jpg  \n",
            "  inflating: dry_flower/setaria/setaria_202.jpg  \n",
            "  inflating: dry_flower/setaria/setaria_203.jpg  \n",
            "  inflating: dry_flower/setaria/setaria_204.jpg  \n",
            "  inflating: dry_flower/setaria/setaria_205.jpg  \n",
            "  inflating: dry_flower/setaria/setaria_206.jpg  \n",
            "  inflating: dry_flower/setaria/setaria_207.jpg  \n",
            "  inflating: dry_flower/setaria/setaria_208.jpg  \n",
            "  inflating: dry_flower/setaria/setaria_209.jpg  \n",
            "  inflating: dry_flower/setaria/setaria_21.jpg  \n",
            "  inflating: dry_flower/setaria/setaria_210.jpg  \n",
            "  inflating: dry_flower/setaria/setaria_211.jpg  \n",
            "  inflating: dry_flower/setaria/setaria_212.jpg  \n",
            "  inflating: dry_flower/setaria/setaria_213.jpg  \n",
            "  inflating: dry_flower/setaria/setaria_214.jpg  \n",
            "  inflating: dry_flower/setaria/setaria_215.jpg  \n",
            "  inflating: dry_flower/setaria/setaria_216.jpg  \n",
            "  inflating: dry_flower/setaria/setaria_217.jpg  \n",
            "  inflating: dry_flower/setaria/setaria_218.jpg  \n",
            "  inflating: dry_flower/setaria/setaria_219.jpg  \n",
            "  inflating: dry_flower/setaria/setaria_22.jpg  \n",
            "  inflating: dry_flower/setaria/setaria_220.jpg  \n",
            "  inflating: dry_flower/setaria/setaria_221.jpg  \n",
            "  inflating: dry_flower/setaria/setaria_222.jpg  \n",
            "  inflating: dry_flower/setaria/setaria_223.jpg  \n",
            "  inflating: dry_flower/setaria/setaria_224.jpg  \n",
            "  inflating: dry_flower/setaria/setaria_225.jpg  \n",
            "  inflating: dry_flower/setaria/setaria_226.jpg  \n",
            "  inflating: dry_flower/setaria/setaria_227.jpg  \n",
            "  inflating: dry_flower/setaria/setaria_228.jpg  \n",
            "  inflating: dry_flower/setaria/setaria_229.jpg  \n",
            "  inflating: dry_flower/setaria/setaria_23.jpg  \n",
            "  inflating: dry_flower/setaria/setaria_230.jpg  \n",
            "  inflating: dry_flower/setaria/setaria_231.jpg  \n",
            "  inflating: dry_flower/setaria/setaria_232.jpg  \n",
            "  inflating: dry_flower/setaria/setaria_233.jpg  \n",
            "  inflating: dry_flower/setaria/setaria_234.jpg  \n",
            "  inflating: dry_flower/setaria/setaria_235.jpg  \n",
            "  inflating: dry_flower/setaria/setaria_236.jpg  \n",
            "  inflating: dry_flower/setaria/setaria_237.jpg  \n",
            "  inflating: dry_flower/setaria/setaria_238.jpg  \n",
            "  inflating: dry_flower/setaria/setaria_239.jpg  \n",
            "  inflating: dry_flower/setaria/setaria_24.jpg  \n",
            "  inflating: dry_flower/setaria/setaria_240.jpg  \n",
            "  inflating: dry_flower/setaria/setaria_241.jpg  \n",
            "  inflating: dry_flower/setaria/setaria_242.jpg  \n",
            "  inflating: dry_flower/setaria/setaria_245.jpg  \n",
            "  inflating: dry_flower/setaria/setaria_246.jpg  \n",
            "  inflating: dry_flower/setaria/setaria_247.jpg  \n",
            "  inflating: dry_flower/setaria/setaria_248.jpg  \n",
            "  inflating: dry_flower/setaria/setaria_249.jpg  \n",
            "  inflating: dry_flower/setaria/setaria_25.jpg  \n",
            "  inflating: dry_flower/setaria/setaria_250.jpg  \n",
            "  inflating: dry_flower/setaria/setaria_251.jpg  \n",
            "  inflating: dry_flower/setaria/setaria_252.jpg  \n",
            "  inflating: dry_flower/setaria/setaria_253.jpg  \n",
            "  inflating: dry_flower/setaria/setaria_254.jpg  \n",
            "  inflating: dry_flower/setaria/setaria_255.jpg  \n",
            "  inflating: dry_flower/setaria/setaria_256.jpg  \n",
            "  inflating: dry_flower/setaria/setaria_26.jpg  \n",
            "  inflating: dry_flower/setaria/setaria_27.jpg  \n",
            "  inflating: dry_flower/setaria/setaria_28.jpg  \n",
            "  inflating: dry_flower/setaria/setaria_29.jpg  \n",
            "  inflating: dry_flower/setaria/setaria_3.jpg  \n",
            "  inflating: dry_flower/setaria/setaria_30.jpg  \n",
            "  inflating: dry_flower/setaria/setaria_31.jpg  \n",
            "  inflating: dry_flower/setaria/setaria_32.jpg  \n",
            "  inflating: dry_flower/setaria/setaria_33.jpg  \n",
            "  inflating: dry_flower/setaria/setaria_34.jpg  \n",
            "  inflating: dry_flower/setaria/setaria_35.jpg  \n",
            "  inflating: dry_flower/setaria/setaria_36.jpg  \n",
            "  inflating: dry_flower/setaria/setaria_37.jpg  \n",
            "  inflating: dry_flower/setaria/setaria_38.jpg  \n",
            "  inflating: dry_flower/setaria/setaria_39.jpg  \n",
            "  inflating: dry_flower/setaria/setaria_4.jpg  \n",
            "  inflating: dry_flower/setaria/setaria_40.jpg  \n",
            "  inflating: dry_flower/setaria/setaria_41.jpg  \n",
            "  inflating: dry_flower/setaria/setaria_42.jpg  \n",
            "  inflating: dry_flower/setaria/setaria_43.jpg  \n",
            "  inflating: dry_flower/setaria/setaria_44.jpg  \n",
            "  inflating: dry_flower/setaria/setaria_45.jpg  \n",
            "  inflating: dry_flower/setaria/setaria_46.jpg  \n",
            "  inflating: dry_flower/setaria/setaria_47.jpg  \n",
            "  inflating: dry_flower/setaria/setaria_48.jpg  \n",
            "  inflating: dry_flower/setaria/setaria_49.jpg  \n",
            "  inflating: dry_flower/setaria/setaria_5.jpg  \n",
            "  inflating: dry_flower/setaria/setaria_50.jpg  \n",
            "  inflating: dry_flower/setaria/setaria_51.jpg  \n",
            "  inflating: dry_flower/setaria/setaria_52.jpg  \n",
            "  inflating: dry_flower/setaria/setaria_53.jpg  \n",
            "  inflating: dry_flower/setaria/setaria_54.jpg  \n",
            "  inflating: dry_flower/setaria/setaria_55.jpg  \n",
            "  inflating: dry_flower/setaria/setaria_56.jpg  \n",
            "  inflating: dry_flower/setaria/setaria_57.jpg  \n",
            "  inflating: dry_flower/setaria/setaria_58.jpg  \n",
            "  inflating: dry_flower/setaria/setaria_59.jpg  \n",
            "  inflating: dry_flower/setaria/setaria_6.jpg  \n",
            "  inflating: dry_flower/setaria/setaria_60.jpg  \n",
            "  inflating: dry_flower/setaria/setaria_61.jpg  \n",
            "  inflating: dry_flower/setaria/setaria_62.jpg  \n",
            "  inflating: dry_flower/setaria/setaria_63.jpg  \n",
            "  inflating: dry_flower/setaria/setaria_64.jpg  \n",
            "  inflating: dry_flower/setaria/setaria_65.jpg  \n",
            "  inflating: dry_flower/setaria/setaria_66.jpg  \n",
            "  inflating: dry_flower/setaria/setaria_67.jpg  \n",
            "  inflating: dry_flower/setaria/setaria_68.jpg  \n",
            "  inflating: dry_flower/setaria/setaria_69.jpg  \n",
            "  inflating: dry_flower/setaria/setaria_7.jpg  \n",
            "  inflating: dry_flower/setaria/setaria_70.jpg  \n",
            "  inflating: dry_flower/setaria/setaria_71.jpg  \n",
            "  inflating: dry_flower/setaria/setaria_72.jpg  \n",
            "  inflating: dry_flower/setaria/setaria_73.jpg  \n",
            "  inflating: dry_flower/setaria/setaria_74.jpg  \n",
            "  inflating: dry_flower/setaria/setaria_75.jpg  \n",
            "  inflating: dry_flower/setaria/setaria_76.jpg  \n",
            "  inflating: dry_flower/setaria/setaria_77.jpg  \n",
            "  inflating: dry_flower/setaria/setaria_78.jpg  \n",
            "  inflating: dry_flower/setaria/setaria_79.jpg  \n",
            "  inflating: dry_flower/setaria/setaria_8.jpg  \n",
            "  inflating: dry_flower/setaria/setaria_80.jpg  \n",
            "  inflating: dry_flower/setaria/setaria_81.jpg  \n",
            "  inflating: dry_flower/setaria/setaria_82.jpg  \n",
            "  inflating: dry_flower/setaria/setaria_83.jpg  \n",
            "  inflating: dry_flower/setaria/setaria_84.jpg  \n",
            "  inflating: dry_flower/setaria/setaria_85.jpg  \n",
            "  inflating: dry_flower/setaria/setaria_86.jpg  \n",
            "  inflating: dry_flower/setaria/setaria_87.jpg  \n",
            "  inflating: dry_flower/setaria/setaria_88.jpg  \n",
            "  inflating: dry_flower/setaria/setaria_89.jpg  \n",
            "  inflating: dry_flower/setaria/setaria_9.jpg  \n",
            "  inflating: dry_flower/setaria/setaria_90.jpg  \n",
            "  inflating: dry_flower/setaria/setaria_91.jpg  \n",
            "  inflating: dry_flower/setaria/setaria_92.jpg  \n",
            "  inflating: dry_flower/setaria/setaria_93.jpg  \n",
            "  inflating: dry_flower/setaria/setaria_94.jpg  \n",
            "  inflating: dry_flower/setaria/setaria_95.jpg  \n",
            "  inflating: dry_flower/setaria/setaria_96.jpg  \n",
            "  inflating: dry_flower/setaria/setaria_97.jpg  \n",
            "  inflating: dry_flower/setaria/setaria_98.jpg  \n",
            "  inflating: dry_flower/setaria/setaria_99.jpg  \n"
          ]
        }
      ],
      "source": [
        "!unzip dry_flower.zip"
      ]
    },
    {
      "cell_type": "code",
      "execution_count": null,
      "metadata": {
        "id": "W0N5luBAuRyk"
      },
      "outputs": [],
      "source": [
        "import os"
      ]
    },
    {
      "cell_type": "code",
      "execution_count": null,
      "metadata": {
        "colab": {
          "base_uri": "https://localhost:8080/"
        },
        "id": "U_vLV3h4uX67",
        "outputId": "c7c71c84-9428-4688-8997-963005b752c0"
      },
      "outputs": [
        {
          "name": "stdout",
          "output_type": "stream",
          "text": [
            "250\n",
            "260\n",
            "264\n",
            "260\n",
            "254\n"
          ]
        }
      ],
      "source": [
        "print(len(os.listdir('/content/drive/MyDrive/TUGAS AKHIRKU/new_dataset/flower_dataset/dry_flower/baby_breath')))\n",
        "print(len(os.listdir('/content/drive/MyDrive/TUGAS AKHIRKU/new_dataset/flower_dataset/dry_flower/cotton_flower')))\n",
        "print(len(os.listdir('/content/drive/MyDrive/TUGAS AKHIRKU/new_dataset/flower_dataset/dry_flower/lagurus')))\n",
        "print(len(os.listdir('/content/drive/MyDrive/TUGAS AKHIRKU/new_dataset/flower_dataset/dry_flower/pampas')))\n",
        "print(len(os.listdir('/content/drive/MyDrive/TUGAS AKHIRKU/new_dataset/flower_dataset/dry_flower/setaria')))"
      ]
    },
    {
      "cell_type": "markdown",
      "metadata": {
        "id": "PPBzLYr7unZk"
      },
      "source": [
        "# Loading Image"
      ]
    },
    {
      "cell_type": "code",
      "execution_count": null,
      "metadata": {
        "id": "6LxDiKiTue8A"
      },
      "outputs": [],
      "source": [
        "#Loading Image for Sample Data\n",
        "BASE_DIR ='/content/drive/MyDrive/TUGAS AKHIRKU/new_dataset/flower_dataset/dry_flower'"
      ]
    },
    {
      "cell_type": "code",
      "execution_count": null,
      "metadata": {
        "colab": {
          "base_uri": "https://localhost:8080/",
          "height": 269
        },
        "id": "JDcxh1zPusRL",
        "outputId": "7456b8d0-11a1-4cd9-c291-a1a655d8b4d4"
      },
      "outputs": [
        {
          "output_type": "display_data",
          "data": {
            "text/plain": [
              "<Figure size 432x288 with 12 Axes>"
            ],
            "image/png": "[encoded data removed]"
          },
          "metadata": {
            "needs_background": "light"
          }
        }
      ],
      "source": [
        "import numpy as np\n",
        "import os\n",
        "from keras.preprocessing import image\n",
        "import matplotlib.pyplot as plt\n",
        "import glob\n",
        "import random\n",
        "\n",
        "img_list = glob.glob(os.path.join(BASE_DIR, '*/*.jpg'))\n",
        "\n",
        "for i, img_path in enumerate(random.sample(img_list, 12)):\n",
        "    img = image.load_img(img_path)\n",
        "    img = image.img_to_array(img, dtype=np.uint8)\n",
        "\n",
        "    plt.subplot(3, 4, i+1)\n",
        "    plt.imshow(img.squeeze())"
      ]
    },
    {
      "cell_type": "markdown",
      "metadata": {
        "id": "zad5zpkku2V4"
      },
      "source": [
        "# Data Preprocessing"
      ]
    },
    {
      "cell_type": "markdown",
      "metadata": {
        "id": "vyKBW2flv50b"
      },
      "source": [
        "## Data Augmentation"
      ]
    },
    {
      "cell_type": "code",
      "execution_count": null,
      "metadata": {
        "id": "fJ_HxRQqwB9o"
      },
      "outputs": [],
      "source": [
        "#Data Augmentation\n",
        "\n",
        "from keras.preprocessing.image import ImageDataGenerator\n",
        "from skimage import io"
      ]
    },
    {
      "cell_type": "code",
      "execution_count": null,
      "metadata": {
        "id": "5PvRiJAnwFCR"
      },
      "outputs": [],
      "source": [
        "import numpy as np\n",
        "import os\n",
        "from PIL import Image"
      ]
    },
    {
      "cell_type": "markdown",
      "metadata": {
        "id": "AidvoK4lv7ym"
      },
      "source": [
        "### Baby Breath Augmentation"
      ]
    },
    {
      "cell_type": "code",
      "execution_count": null,
      "metadata": {
        "id": "_WxaQc_huuO9"
      },
      "outputs": [],
      "source": [
        "##Baby Breath Augmentation\n",
        "datagen_aug = ImageDataGenerator(\n",
        "    rotation_range = 20,\n",
        "    #width_shift_range = 0.2,\n",
        "    #height_shift_range = 0.2,\n",
        "    #shear_range = 0.2,\n",
        "    #zoom_range = 0.2,\n",
        "    horizontal_flip = True,\n",
        "    vertical_flip = True,\n",
        "    fill_mode = 'constant', cval=255\n",
        ")"
      ]
    },
    {
      "cell_type": "code",
      "execution_count": null,
      "metadata": {
        "id": "2BeWbL34wMDK"
      },
      "outputs": [],
      "source": [
        "baby_directory = '/content/drive/MyDrive/TUGAS AKHIRKU/new_dataset/flower_dataset/dry_flower/baby_breath/'\n",
        "SIZE = 224\n",
        "dataset = []"
      ]
    },
    {
      "cell_type": "code",
      "execution_count": null,
      "metadata": {
        "id": "4xDiKZ6SwQMQ"
      },
      "outputs": [],
      "source": [
        "my_images = os.listdir(baby_directory)\n",
        "for i, image_name in enumerate(my_images):\n",
        "  if(image_name.split('.')[1] == 'jpg'):\n",
        "    image = io.imread(baby_directory + image_name)\n",
        "    image = Image.fromarray(image, 'RGB')\n",
        "    image = image.resize((SIZE, SIZE))\n",
        "    dataset.append(np.array(image))"
      ]
    },
    {
      "cell_type": "code",
      "execution_count": null,
      "metadata": {
        "id": "B4DSonHZwji1"
      },
      "outputs": [],
      "source": [
        "x = np.array(dataset)"
      ]
    },
    {
      "cell_type": "code",
      "execution_count": null,
      "metadata": {
        "id": "CYf9q5prwmQI"
      },
      "outputs": [],
      "source": [
        "i = 0\n",
        "for batch in datagen_aug.flow(x, batch_size=1, save_to_dir='/content/drive/MyDrive/TUGAS AKHIRKU/new_dataset/flower_dataset/output/flower_prep/flower_aug/baby_breath',\n",
        "                              save_prefix = 'baby_breath',\n",
        "                              save_format ='jpg'):\n",
        "  i += 1\n",
        "  if i > 2500:\n",
        "    break"
      ]
    },
    {
      "cell_type": "code",
      "execution_count": null,
      "metadata": {
        "colab": {
          "base_uri": "https://localhost:8080/"
        },
        "id": "py9ZZONtwwUJ",
        "outputId": "62d59e07-5fa5-4802-8c57-5c3a90a7b86c"
      },
      "outputs": [
        {
          "output_type": "stream",
          "name": "stdout",
          "text": [
            "2487\n"
          ]
        }
      ],
      "source": [
        "print(len(os.listdir('/content/drive/MyDrive/TUGAS AKHIRKU/new_dataset/flower_dataset/output/flower_prep/flower_aug/baby_breath')))"
      ]
    },
    {
      "cell_type": "code",
      "execution_count": null,
      "metadata": {
        "id": "d1mrR66sxBie"
      },
      "outputs": [],
      "source": [
        ""
      ]
    },
    {
      "cell_type": "markdown",
      "metadata": {
        "id": "TEHMYaBGU3zE"
      },
      "source": [
        "### Cotton Flower Augmentation"
      ]
    },
    {
      "cell_type": "code",
      "execution_count": null,
      "metadata": {
        "id": "csFPNzg6UwVR"
      },
      "outputs": [],
      "source": [
        "## Cotton Flower Augmentation\n",
        "datagen_aug = ImageDataGenerator(\n",
        "    rotation_range = 30,\n",
        "    width_shift_range = 0.1,\n",
        "    height_shift_range = 0.1,\n",
        "    #shear_range = 0.2,\n",
        "    #zoom_range = 0.2,\n",
        "    horizontal_flip = True,\n",
        "    vertical_flip = True,\n",
        "    fill_mode = 'nearest'\n",
        ")"
      ]
    },
    {
      "cell_type": "code",
      "execution_count": null,
      "metadata": {
        "id": "CX6-ncPnWvxD"
      },
      "outputs": [],
      "source": [
        "cotton_directory = '/content/drive/MyDrive/TUGAS AKHIRKU/new_dataset/flower_dataset/dry_flower/cotton_flower/'\n",
        "SIZE = 224\n",
        "dataset = []"
      ]
    },
    {
      "cell_type": "code",
      "execution_count": null,
      "metadata": {
        "id": "AgELoej6W2DZ"
      },
      "outputs": [],
      "source": [
        "my_images = os.listdir(cotton_directory)\n",
        "for i, image_name in enumerate(my_images):\n",
        "  if(image_name.split('.')[1] == 'jpg'):\n",
        "    image = io.imread(cotton_directory + image_name)\n",
        "    image = Image.fromarray(image, 'RGB')\n",
        "    image = image.resize((SIZE, SIZE))\n",
        "    dataset.append(np.array(image))"
      ]
    },
    {
      "cell_type": "code",
      "execution_count": null,
      "metadata": {
        "id": "MwtoLXFlW8RW"
      },
      "outputs": [],
      "source": [
        "x = np.array(dataset)"
      ]
    },
    {
      "cell_type": "code",
      "execution_count": null,
      "metadata": {
        "id": "IkAfYdcEXDbt"
      },
      "outputs": [],
      "source": [
        "i = 0\n",
        "for batch in datagen_aug.flow(x, batch_size=1, save_to_dir='/content/drive/MyDrive/TUGAS AKHIRKU/new_dataset/flower_dataset/output/flower_prep/flower_aug/cotton_flower',\n",
        "                              save_prefix = 'cotton_flower',\n",
        "                              save_format ='jpg'):\n",
        "  i += 1\n",
        "  if i > 2500:\n",
        "    break"
      ]
    },
    {
      "cell_type": "code",
      "execution_count": null,
      "metadata": {
        "colab": {
          "base_uri": "https://localhost:8080/"
        },
        "id": "es9NschbXNo4",
        "outputId": "aa7166d2-9887-479d-eb88-b55d4b235978"
      },
      "outputs": [
        {
          "output_type": "stream",
          "name": "stdout",
          "text": [
            "2430\n"
          ]
        }
      ],
      "source": [
        "print(len(os.listdir('/content/drive/MyDrive/TUGAS AKHIRKU/new_dataset/flower_dataset/output/flower_prep/flower_aug/cotton_flower')))"
      ]
    },
    {
      "cell_type": "markdown",
      "metadata": {
        "id": "QwfSROGGfUtH"
      },
      "source": [
        "### Lagurus Augmentation"
      ]
    },
    {
      "cell_type": "code",
      "execution_count": null,
      "metadata": {
        "id": "o-UE67wBfnCk"
      },
      "outputs": [],
      "source": [
        "## Lagurus Augmentation\n",
        "datagen_aug = ImageDataGenerator(\n",
        "    rotation_range = 20,\n",
        "    width_shift_range = 0.1,\n",
        "    height_shift_range = 0.1,\n",
        "    #shear_range = 0.2,\n",
        "    #zoom_range = 0.2,\n",
        "    horizontal_flip = True,\n",
        "    vertical_flip = True,\n",
        "    fill_mode = 'nearest'\n",
        ")"
      ]
    },
    {
      "cell_type": "code",
      "execution_count": null,
      "metadata": {
        "id": "XPBW7W54XlUE"
      },
      "outputs": [],
      "source": [
        "lagurus_directory = '/content/drive/MyDrive/TUGAS AKHIRKU/new_dataset/flower_dataset/dry_flower/lagurus/'\n",
        "SIZE = 224\n",
        "dataset = []"
      ]
    },
    {
      "cell_type": "code",
      "execution_count": null,
      "metadata": {
        "id": "yFpQ4SFPfuMs"
      },
      "outputs": [],
      "source": [
        "my_images = os.listdir(lagurus_directory)\n",
        "for i, image_name in enumerate(my_images):\n",
        "  if(image_name.split('.')[1] == 'jpg'):\n",
        "    image = io.imread(lagurus_directory + image_name)\n",
        "    image = Image.fromarray(image, 'RGB')\n",
        "    image = image.resize((SIZE, SIZE))\n",
        "    dataset.append(np.array(image))"
      ]
    },
    {
      "cell_type": "code",
      "execution_count": null,
      "metadata": {
        "id": "P_3jHO-Dfyhd"
      },
      "outputs": [],
      "source": [
        "x = np.array(dataset)"
      ]
    },
    {
      "cell_type": "code",
      "execution_count": null,
      "metadata": {
        "id": "TZIcF7Uof1R_"
      },
      "outputs": [],
      "source": [
        "i = 0\n",
        "for batch in datagen_aug.flow(x, batch_size=1, save_to_dir='/content/drive/MyDrive/TUGAS AKHIRKU/new_dataset/flower_dataset/output/flower_prep/flower_aug/lagurus',\n",
        "                              save_prefix = 'lagurus',\n",
        "                              save_format ='jpg'):\n",
        "  i += 1\n",
        "  if i > 2500:\n",
        "    break"
      ]
    },
    {
      "cell_type": "code",
      "execution_count": null,
      "metadata": {
        "colab": {
          "base_uri": "https://localhost:8080/"
        },
        "id": "Ey-q8Y5mf9f7",
        "outputId": "28433f1f-e2ff-4900-ca9d-b14b693e4f13"
      },
      "outputs": [
        {
          "name": "stdout",
          "output_type": "stream",
          "text": [
            "2499\n"
          ]
        }
      ],
      "source": [
        "print(len(os.listdir('/content/drive/MyDrive/TUGAS AKHIRKU/new_dataset/flower_dataset/output/flower_prep/flower_aug/lagurus')))"
      ]
    },
    {
      "cell_type": "code",
      "execution_count": null,
      "metadata": {
        "id": "lUNYQ2yp12XT"
      },
      "outputs": [],
      "source": [
        ""
      ]
    },
    {
      "cell_type": "markdown",
      "metadata": {
        "id": "4WewnkPwm5aI"
      },
      "source": [
        "### Pampas Augmentation"
      ]
    },
    {
      "cell_type": "code",
      "execution_count": null,
      "metadata": {
        "id": "rVUrhdmJgkOd"
      },
      "outputs": [],
      "source": [
        "datagen_aug = ImageDataGenerator(\n",
        "    rotation_range = 20,\n",
        "    width_shift_range = 0.1,\n",
        "    height_shift_range = 0.1,\n",
        "    #shear_range = 0.2,\n",
        "    #zoom_range = 0.2,\n",
        "    horizontal_flip = True,\n",
        "    vertical_flip = True,\n",
        "    fill_mode = 'nearest'\n",
        ")"
      ]
    },
    {
      "cell_type": "code",
      "execution_count": null,
      "metadata": {
        "id": "ETGr0t0hm9Cf"
      },
      "outputs": [],
      "source": [
        "## Pampas Augmentation\n",
        "pampas_directory = '/content/drive/MyDrive/TUGAS AKHIRKU/new_dataset/flower_dataset/dry_flower/pampas/'\n",
        "SIZE = 224\n",
        "dataset = []"
      ]
    },
    {
      "cell_type": "code",
      "execution_count": null,
      "metadata": {
        "id": "VRgEepOWnBfR"
      },
      "outputs": [],
      "source": [
        "my_images = os.listdir(pampas_directory)\n",
        "for i, image_name in enumerate(my_images):\n",
        "  if(image_name.split('.')[1] == 'jpg'):\n",
        "    image = io.imread(pampas_directory + image_name)\n",
        "    image = Image.fromarray(image, 'RGB')\n",
        "    image = image.resize((SIZE, SIZE))\n",
        "    dataset.append(np.array(image))"
      ]
    },
    {
      "cell_type": "code",
      "execution_count": null,
      "metadata": {
        "id": "sAYHKqH5nGEj"
      },
      "outputs": [],
      "source": [
        "x = np.array(dataset)"
      ]
    },
    {
      "cell_type": "code",
      "execution_count": null,
      "metadata": {
        "id": "pU87VuoBnJx9"
      },
      "outputs": [],
      "source": [
        "i = 0\n",
        "for batch in datagen_aug.flow(x, batch_size=1, save_to_dir='/content/drive/MyDrive/TUGAS AKHIRKU/new_dataset/flower_dataset/output/flower_prep/flower_aug/pampas',\n",
        "                              save_prefix = 'pampas',\n",
        "                              save_format ='jpg'):\n",
        "  i += 1\n",
        "  if i > 2500:\n",
        "    break"
      ]
    },
    {
      "cell_type": "code",
      "execution_count": null,
      "metadata": {
        "colab": {
          "base_uri": "https://localhost:8080/"
        },
        "id": "4hE7a6grnTCy",
        "outputId": "bbd454c3-93fa-49f8-8597-5a8205923897"
      },
      "outputs": [
        {
          "output_type": "stream",
          "name": "stdout",
          "text": [
            "2479\n"
          ]
        }
      ],
      "source": [
        "print(len(os.listdir('/content/drive/MyDrive/TUGAS AKHIRKU/new_dataset/flower_dataset/output/flower_prep/flower_aug/pampas')))"
      ]
    },
    {
      "cell_type": "markdown",
      "metadata": {
        "id": "Hv6b4tk7A0_f"
      },
      "source": [
        "### Setaria Augmentation"
      ]
    },
    {
      "cell_type": "code",
      "execution_count": null,
      "metadata": {
        "id": "keIHmCJYnqzK"
      },
      "outputs": [],
      "source": [
        "## Setaria Augmentation\n",
        "datagen_aug = ImageDataGenerator(\n",
        "    rotation_range = 20,\n",
        "    #width_shift_range = 0.1,\n",
        "    #height_shift_range = 0.1,\n",
        "    #shear_range = 0.2,\n",
        "    #zoom_range = 0.2,\n",
        "    horizontal_flip = True,\n",
        "    vertical_flip = True,\n",
        "    fill_mode = 'nearest'\n",
        ")"
      ]
    },
    {
      "cell_type": "code",
      "execution_count": null,
      "metadata": {
        "id": "Lvi09pwNBlYz"
      },
      "outputs": [],
      "source": [
        "setaria_directory = '/content/drive/MyDrive/TUGAS AKHIRKU/new_dataset/flower_dataset/dry_flower/setaria/'\n",
        "SIZE = 224\n",
        "dataset = []"
      ]
    },
    {
      "cell_type": "code",
      "execution_count": null,
      "metadata": {
        "id": "EgDfdsMYBpg8"
      },
      "outputs": [],
      "source": [
        "my_images = os.listdir(setaria_directory)\n",
        "for i, image_name in enumerate(my_images):\n",
        "  if(image_name.split('.')[1] == 'jpg'):\n",
        "    image = io.imread(setaria_directory + image_name)\n",
        "    image = Image.fromarray(image, 'RGB')\n",
        "    image = image.resize((SIZE, SIZE))\n",
        "    dataset.append(np.array(image))"
      ]
    },
    {
      "cell_type": "code",
      "execution_count": null,
      "metadata": {
        "id": "N2G64kfrBuFg"
      },
      "outputs": [],
      "source": [
        "x = np.array(dataset)"
      ]
    },
    {
      "cell_type": "code",
      "execution_count": null,
      "metadata": {
        "id": "LMSj9KJFBwIV"
      },
      "outputs": [],
      "source": [
        "i = 0\n",
        "for batch in datagen_aug.flow(x, batch_size=1, save_to_dir='/content/drive/MyDrive/TUGAS AKHIRKU/new_dataset/flower_dataset/output/flower_prep/flower_aug/setaria',\n",
        "                              save_prefix = 'setaria',\n",
        "                              save_format ='jpg'):\n",
        "  i += 1\n",
        "  if i > 2500:\n",
        "    break"
      ]
    },
    {
      "cell_type": "code",
      "execution_count": null,
      "metadata": {
        "colab": {
          "base_uri": "https://localhost:8080/"
        },
        "id": "OSb_lUjGB4Tc",
        "outputId": "48182403-60b2-4361-b26c-2fee64265d3d"
      },
      "outputs": [
        {
          "name": "stdout",
          "output_type": "stream",
          "text": [
            "2500\n"
          ]
        }
      ],
      "source": [
        "print(len(os.listdir('/content/drive/MyDrive/TUGAS AKHIRKU/new_dataset/flower_dataset/output/flower_prep/flower_aug/setaria')))"
      ]
    },
    {
      "cell_type": "code",
      "execution_count": null,
      "metadata": {
        "id": "dJAU4T_6TP77"
      },
      "outputs": [],
      "source": [
        ""
      ]
    },
    {
      "cell_type": "markdown",
      "metadata": {
        "id": "y0Cssa5WNSiK"
      },
      "source": [
        "## Splitting Dataset Into Data Train, Val, and Test (80, 10,10)"
      ]
    },
    {
      "cell_type": "code",
      "execution_count": null,
      "metadata": {
        "colab": {
          "base_uri": "https://localhost:8080/"
        },
        "id": "LaUBYelCTdVA",
        "outputId": "1544666a-7e32-4421-ba71-771872580d96"
      },
      "outputs": [
        {
          "name": "stdout",
          "output_type": "stream",
          "text": [
            "2487\n",
            "2430\n",
            "2489\n",
            "2479\n",
            "2462\n"
          ]
        }
      ],
      "source": [
        "import os\n",
        "print(len(os.listdir('/content/drive/MyDrive/TUGAS AKHIRKU/new_dataset/flower_dataset/output/flower_prep/flower_aug/baby_breath')))\n",
        "print(len(os.listdir('/content/drive/MyDrive/TUGAS AKHIRKU/new_dataset/flower_dataset/output/flower_prep/flower_aug/cotton_flower')))\n",
        "print(len(os.listdir('/content/drive/MyDrive/TUGAS AKHIRKU/new_dataset/flower_dataset/output/flower_prep/flower_aug/lagurus')))\n",
        "print(len(os.listdir('/content/drive/MyDrive/TUGAS AKHIRKU/new_dataset/flower_dataset/output/flower_prep/flower_aug/pampas')))\n",
        "print(len(os.listdir('/content/drive/MyDrive/TUGAS AKHIRKU/new_dataset/flower_dataset/output/flower_prep/flower_aug/setaria')))"
      ]
    },
    {
      "cell_type": "code",
      "execution_count": null,
      "metadata": {
        "colab": {
          "base_uri": "https://localhost:8080/"
        },
        "id": "ji6u7a4GNSiL",
        "outputId": "0cc63d62-23ff-4f9b-dc8f-88db8642e361"
      },
      "outputs": [
        {
          "name": "stdout",
          "output_type": "stream",
          "text": [
            "Collecting split-folders\n",
            "  Downloading split_folders-0.5.1-py3-none-any.whl (8.4 kB)\n",
            "Installing collected packages: split-folders\n",
            "Successfully installed split-folders-0.5.1\n"
          ]
        }
      ],
      "source": [
        "!pip install split-folders"
      ]
    },
    {
      "cell_type": "code",
      "execution_count": null,
      "metadata": {
        "id": "1S_xPzJmNSiM"
      },
      "outputs": [],
      "source": [
        "import splitfolders"
      ]
    },
    {
      "cell_type": "code",
      "execution_count": null,
      "metadata": {
        "id": "PrA6tkcJNSiN"
      },
      "outputs": [],
      "source": [
        "input_folder = '/content/drive/MyDrive/TUGAS AKHIRKU/new_dataset/flower_dataset/output/flower_prep/flower_aug/'\n",
        "output_folder = '/content/drive/MyDrive/TUGAS AKHIRKU/new_dataset/flower_dataset/output/flower_prep/flower_split/'"
      ]
    },
    {
      "cell_type": "code",
      "execution_count": null,
      "metadata": {
        "colab": {
          "base_uri": "https://localhost:8080/"
        },
        "id": "WrDavK-DNSiN",
        "outputId": "002f6d26-5844-4078-a0ec-d15100d9e7ad"
      },
      "outputs": [
        {
          "name": "stderr",
          "output_type": "stream",
          "text": [
            "Copying files: 12347 files [05:56, 34.64 files/s]\n"
          ]
        }
      ],
      "source": [
        "splitfolders.ratio(input_folder, output=output_folder, seed= 1337, ratio=(0.8, 0.1, 0.1),group_prefix=None)"
      ]
    },
    {
      "cell_type": "code",
      "execution_count": null,
      "metadata": {
        "colab": {
          "base_uri": "https://localhost:8080/"
        },
        "id": "3MxMcwrbNSiO",
        "outputId": "bd18fb1c-adc6-434a-8d95-8ff13793a06c"
      },
      "outputs": [
        {
          "output_type": "stream",
          "name": "stdout",
          "text": [
            "1989\n",
            "1944\n",
            "1991\n",
            "1983\n",
            "1969\n"
          ]
        }
      ],
      "source": [
        "import os\n",
        "print(len(os.listdir('/content/drive/MyDrive/TUGAS AKHIRKU/new_dataset/flower_dataset/output/flower_prep/flower_split/train/baby_breath')))\n",
        "print(len(os.listdir('/content/drive/MyDrive/TUGAS AKHIRKU/new_dataset/flower_dataset/output/flower_prep/flower_split/train/cotton_flower')))\n",
        "print(len(os.listdir('/content/drive/MyDrive/TUGAS AKHIRKU/new_dataset/flower_dataset/output/flower_prep/flower_split/train/lagurus')))\n",
        "print(len(os.listdir('/content/drive/MyDrive/TUGAS AKHIRKU/new_dataset/flower_dataset/output/flower_prep/flower_split/train/pampas')))\n",
        "print(len(os.listdir('/content/drive/MyDrive/TUGAS AKHIRKU/new_dataset/flower_dataset/output/flower_prep/flower_split/train/setaria')))\n"
      ]
    },
    {
      "cell_type": "code",
      "execution_count": null,
      "metadata": {
        "colab": {
          "base_uri": "https://localhost:8080/"
        },
        "id": "ZcrwI84dNSiO",
        "outputId": "b603e3d4-d89d-41b3-bb7d-38bcb4b0d4b9"
      },
      "outputs": [
        {
          "output_type": "stream",
          "name": "stdout",
          "text": [
            "248\n",
            "243\n",
            "248\n",
            "247\n",
            "246\n"
          ]
        }
      ],
      "source": [
        "print(len(os.listdir('/content/drive/MyDrive/TUGAS AKHIRKU/new_dataset/flower_dataset/output/flower_prep/flower_split/val/baby_breath')))\n",
        "print(len(os.listdir('/content/drive/MyDrive/TUGAS AKHIRKU/new_dataset/flower_dataset/output/flower_prep/flower_split/val/cotton_flower')))\n",
        "print(len(os.listdir('/content/drive/MyDrive/TUGAS AKHIRKU/new_dataset/flower_dataset/output/flower_prep/flower_split/val/lagurus')))\n",
        "print(len(os.listdir('/content/drive/MyDrive/TUGAS AKHIRKU/new_dataset/flower_dataset/output/flower_prep/flower_split/val/pampas')))\n",
        "print(len(os.listdir('/content/drive/MyDrive/TUGAS AKHIRKU/new_dataset/flower_dataset/output/flower_prep/flower_split/val/setaria')))"
      ]
    },
    {
      "cell_type": "code",
      "execution_count": null,
      "metadata": {
        "colab": {
          "base_uri": "https://localhost:8080/"
        },
        "id": "jAv2wucW6rrG",
        "outputId": "8c9f76c8-29a4-4461-9265-e359c60dc746"
      },
      "outputs": [
        {
          "output_type": "stream",
          "name": "stdout",
          "text": [
            "250\n",
            "243\n",
            "250\n",
            "249\n",
            "247\n"
          ]
        }
      ],
      "source": [
        "print(len(os.listdir('/content/drive/MyDrive/TUGAS AKHIRKU/new_dataset/flower_dataset/output/flower_prep/flower_split/test/baby_breath')))\n",
        "print(len(os.listdir('/content/drive/MyDrive/TUGAS AKHIRKU/new_dataset/flower_dataset/output/flower_prep/flower_split/test/cotton_flower')))\n",
        "print(len(os.listdir('/content/drive/MyDrive/TUGAS AKHIRKU/new_dataset/flower_dataset/output/flower_prep/flower_split/test/lagurus')))\n",
        "print(len(os.listdir('/content/drive/MyDrive/TUGAS AKHIRKU/new_dataset/flower_dataset/output/flower_prep/flower_split/test/pampas')))\n",
        "print(len(os.listdir('/content/drive/MyDrive/TUGAS AKHIRKU/new_dataset/flower_dataset/output/flower_prep/flower_split/test/setaria')))"
      ]
    },
    {
      "cell_type": "markdown",
      "metadata": {
        "id": "2cD-gjXbofcq"
      },
      "source": [
        ""
      ]
    },
    {
      "cell_type": "markdown",
      "metadata": {
        "id": "O1RILgMoUMyi"
      },
      "source": [
        "# View Data"
      ]
    },
    {
      "cell_type": "code",
      "execution_count": null,
      "metadata": {
        "id": "DH9LTPRDJhIt"
      },
      "outputs": [],
      "source": [
        "class data:\n",
        "    def __init__(self, path):\n",
        "        self.path = path\n",
        "    \n",
        "    def dataframe(self):\n",
        "        path_name= []\n",
        "        target_name = []\n",
        "        for i in os.listdir(self.path):\n",
        "            for j in os.listdir(os.path.join(self.path + \"/\", i)):\n",
        "                pic = os.path.join(self.path + \"/\", i + \"/\", j)\n",
        "                path_name.append(pic)\n",
        "                target_name.append(i) \n",
        "        asl = pd.DataFrame()\n",
        "        asl[\"image\"] = path_name\n",
        "        asl[\"target\"] = target_name \n",
        "        return asl"
      ]
    },
    {
      "cell_type": "markdown",
      "metadata": {
        "id": "7nt867QJ3E4i"
      },
      "source": [
        "## View train data"
      ]
    },
    {
      "cell_type": "code",
      "execution_count": null,
      "metadata": {
        "colab": {
          "base_uri": "https://localhost:8080/"
        },
        "id": "lsnACOYIUTnH",
        "outputId": "e4e6983f-851c-435e-acfd-3d5c0876e6ab"
      },
      "outputs": [
        {
          "data": {
            "text/html": [
              "\n",
              "  <div id=\"df-b24f9ea3-51ee-439b-a3aa-e2e470679dfc\">\n",
              "    <div class=\"colab-df-container\">\n",
              "      <div>\n",
              "<style scoped>\n",
              "    .dataframe tbody tr th:only-of-type {\n",
              "        vertical-align: middle;\n",
              "    }\n",
              "\n",
              "    .dataframe tbody tr th {\n",
              "        vertical-align: top;\n",
              "    }\n",
              "\n",
              "    .dataframe thead th {\n",
              "        text-align: right;\n",
              "    }\n",
              "</style>\n",
              "<table border=\"1\" class=\"dataframe\">\n",
              "  <thead>\n",
              "    <tr style=\"text-align: right;\">\n",
              "      <th></th>\n",
              "      <th>image</th>\n",
              "      <th>target</th>\n",
              "    </tr>\n",
              "  </thead>\n",
              "  <tbody>\n",
              "    <tr>\n",
              "      <th>0</th>\n",
              "      <td>/content/drive/MyDrive/TUGAS AKHIRKU/new_datas...</td>\n",
              "      <td>cotton_flower</td>\n",
              "    </tr>\n",
              "    <tr>\n",
              "      <th>1</th>\n",
              "      <td>/content/drive/MyDrive/TUGAS AKHIRKU/new_datas...</td>\n",
              "      <td>cotton_flower</td>\n",
              "    </tr>\n",
              "    <tr>\n",
              "      <th>2</th>\n",
              "      <td>/content/drive/MyDrive/TUGAS AKHIRKU/new_datas...</td>\n",
              "      <td>cotton_flower</td>\n",
              "    </tr>\n",
              "    <tr>\n",
              "      <th>3</th>\n",
              "      <td>/content/drive/MyDrive/TUGAS AKHIRKU/new_datas...</td>\n",
              "      <td>cotton_flower</td>\n",
              "    </tr>\n",
              "    <tr>\n",
              "      <th>4</th>\n",
              "      <td>/content/drive/MyDrive/TUGAS AKHIRKU/new_datas...</td>\n",
              "      <td>cotton_flower</td>\n",
              "    </tr>\n",
              "    <tr>\n",
              "      <th>...</th>\n",
              "      <td>...</td>\n",
              "      <td>...</td>\n",
              "    </tr>\n",
              "    <tr>\n",
              "      <th>9871</th>\n",
              "      <td>/content/drive/MyDrive/TUGAS AKHIRKU/new_datas...</td>\n",
              "      <td>baby_breath</td>\n",
              "    </tr>\n",
              "    <tr>\n",
              "      <th>9872</th>\n",
              "      <td>/content/drive/MyDrive/TUGAS AKHIRKU/new_datas...</td>\n",
              "      <td>baby_breath</td>\n",
              "    </tr>\n",
              "    <tr>\n",
              "      <th>9873</th>\n",
              "      <td>/content/drive/MyDrive/TUGAS AKHIRKU/new_datas...</td>\n",
              "      <td>baby_breath</td>\n",
              "    </tr>\n",
              "    <tr>\n",
              "      <th>9874</th>\n",
              "      <td>/content/drive/MyDrive/TUGAS AKHIRKU/new_datas...</td>\n",
              "      <td>baby_breath</td>\n",
              "    </tr>\n",
              "    <tr>\n",
              "      <th>9875</th>\n",
              "      <td>/content/drive/MyDrive/TUGAS AKHIRKU/new_datas...</td>\n",
              "      <td>baby_breath</td>\n",
              "    </tr>\n",
              "  </tbody>\n",
              "</table>\n",
              "<p>9876 rows × 2 columns</p>\n",
              "</div>\n",
              "      <button class=\"colab-df-convert\" onclick=\"convertToInteractive('df-b24f9ea3-51ee-439b-a3aa-e2e470679dfc')\"\n",
              "              title=\"Convert this dataframe to an interactive table.\"\n",
              "              style=\"display:none;\">\n",
              "        \n",
              "  <svg xmlns=\"http://www.w3.org/2000/svg\" height=\"24px\"viewBox=\"0 0 24 24\"\n",
              "       width=\"24px\">\n",
              "    <path d=\"M0 0h24v24H0V0z\" fill=\"none\"/>\n",
              "    <path d=\"M18.56 5.44l.94 2.06.94-2.06 2.06-.94-2.06-.94-.94-2.06-.94 2.06-2.06.94zm-11 1L8.5 8.5l.94-2.06 2.06-.94-2.06-.94L8.5 2.5l-.94 2.06-2.06.94zm10 10l.94 2.06.94-2.06 2.06-.94-2.06-.94-.94-2.06-.94 2.06-2.06.94z\"/><path d=\"M17.41 7.96l-1.37-1.37c-.4-.4-.92-.59-1.43-.59-.52 0-1.04.2-1.43.59L10.3 9.45l-7.72 7.72c-.78.78-.78 2.05 0 2.83L4 21.41c.39.39.9.59 1.41.59.51 0 1.02-.2 1.41-.59l7.78-7.78 2.81-2.81c.8-.78.8-2.07 0-2.86zM5.41 20L4 18.59l7.72-7.72 1.47 1.35L5.41 20z\"/>\n",
              "  </svg>\n",
              "      </button>\n",
              "      \n",
              "  <style>\n",
              "    .colab-df-container {\n",
              "      display:flex;\n",
              "      flex-wrap:wrap;\n",
              "      gap: 12px;\n",
              "    }\n",
              "\n",
              "    .colab-df-convert {\n",
              "      background-color: #E8F0FE;\n",
              "      border: none;\n",
              "      border-radius: 50%;\n",
              "      cursor: pointer;\n",
              "      display: none;\n",
              "      fill: #1967D2;\n",
              "      height: 32px;\n",
              "      padding: 0 0 0 0;\n",
              "      width: 32px;\n",
              "    }\n",
              "\n",
              "    .colab-df-convert:hover {\n",
              "      background-color: #E2EBFA;\n",
              "      box-shadow: 0px 1px 2px rgba(60, 64, 67, 0.3), 0px 1px 3px 1px rgba(60, 64, 67, 0.15);\n",
              "      fill: #174EA6;\n",
              "    }\n",
              "\n",
              "    [theme=dark] .colab-df-convert {\n",
              "      background-color: #3B4455;\n",
              "      fill: #D2E3FC;\n",
              "    }\n",
              "\n",
              "    [theme=dark] .colab-df-convert:hover {\n",
              "      background-color: #434B5C;\n",
              "      box-shadow: 0px 1px 3px 1px rgba(0, 0, 0, 0.15);\n",
              "      filter: drop-shadow(0px 1px 2px rgba(0, 0, 0, 0.3));\n",
              "      fill: #FFFFFF;\n",
              "    }\n",
              "  </style>\n",
              "\n",
              "      <script>\n",
              "        const buttonEl =\n",
              "          document.querySelector('#df-b24f9ea3-51ee-439b-a3aa-e2e470679dfc button.colab-df-convert');\n",
              "        buttonEl.style.display =\n",
              "          google.colab.kernel.accessAllowed ? 'block' : 'none';\n",
              "\n",
              "        async function convertToInteractive(key) {\n",
              "          const element = document.querySelector('#df-b24f9ea3-51ee-439b-a3aa-e2e470679dfc');\n",
              "          const dataTable =\n",
              "            await google.colab.kernel.invokeFunction('convertToInteractive',\n",
              "                                                     [key], {});\n",
              "          if (!dataTable) return;\n",
              "\n",
              "          const docLinkHtml = 'Like what you see? Visit the ' +\n",
              "            '<a target=\"_blank\" href=https://colab.research.google.com/notebooks/data_table.ipynb>data table notebook</a>'\n",
              "            + ' to learn more about interactive tables.';\n",
              "          element.innerHTML = '';\n",
              "          dataTable['output_type'] = 'display_data';\n",
              "          await google.colab.output.renderOutput(dataTable, element);\n",
              "          const docLink = document.createElement('div');\n",
              "          docLink.innerHTML = docLinkHtml;\n",
              "          element.appendChild(docLink);\n",
              "        }\n",
              "      </script>\n",
              "    </div>\n",
              "  </div>\n",
              "  "
            ],
            "text/plain": [
              "                                                  image         target\n",
              "0     /content/drive/MyDrive/TUGAS AKHIRKU/new_datas...  cotton_flower\n",
              "1     /content/drive/MyDrive/TUGAS AKHIRKU/new_datas...  cotton_flower\n",
              "2     /content/drive/MyDrive/TUGAS AKHIRKU/new_datas...  cotton_flower\n",
              "3     /content/drive/MyDrive/TUGAS AKHIRKU/new_datas...  cotton_flower\n",
              "4     /content/drive/MyDrive/TUGAS AKHIRKU/new_datas...  cotton_flower\n",
              "...                                                 ...            ...\n",
              "9871  /content/drive/MyDrive/TUGAS AKHIRKU/new_datas...    baby_breath\n",
              "9872  /content/drive/MyDrive/TUGAS AKHIRKU/new_datas...    baby_breath\n",
              "9873  /content/drive/MyDrive/TUGAS AKHIRKU/new_datas...    baby_breath\n",
              "9874  /content/drive/MyDrive/TUGAS AKHIRKU/new_datas...    baby_breath\n",
              "9875  /content/drive/MyDrive/TUGAS AKHIRKU/new_datas...    baby_breath\n",
              "\n",
              "[9876 rows x 2 columns]"
            ]
          },
          "execution_count": 3,
          "metadata": {},
          "output_type": "execute_result"
        }
      ],
      "source": [
        "import os\n",
        "import pandas as pd\n",
        "\n",
        "train_dir = '/content/drive/MyDrive/TUGAS AKHIRKU/new_dataset/flower_dataset/output/flower_prep/flower_split/train'\n",
        "flowers = data(train_dir)\n",
        "flower_train = flowers.dataframe()\n",
        "flower_train"
      ]
    },
    {
      "cell_type": "code",
      "execution_count": null,
      "metadata": {
        "id": "ty7Ixj9SUee1"
      },
      "outputs": [],
      "source": [
        "import numpy as np"
      ]
    },
    {
      "cell_type": "code",
      "execution_count": null,
      "metadata": {
        "colab": {
          "base_uri": "https://localhost:8080/"
        },
        "id": "Yx-hhPk6Um3l",
        "outputId": "eb5a27ad-4527-445d-f9d3-efdbdc11f3c3"
      },
      "outputs": [
        {
          "data": {
            "text/plain": [
              "{'baby_breath': 1989,\n",
              " 'cotton_flower': 1944,\n",
              " 'lagurus': 1991,\n",
              " 'pampas': 1983,\n",
              " 'setaria': 1969}"
            ]
          },
          "execution_count": 5,
          "metadata": {},
          "output_type": "execute_result"
        }
      ],
      "source": [
        "unique, count = np.unique(flower_train.target, return_counts =True)\n",
        "target_unique = {k:v for (k,v) in zip(unique, count)}\n",
        "target_unique"
      ]
    },
    {
      "cell_type": "code",
      "execution_count": null,
      "metadata": {
        "colab": {
          "base_uri": "https://localhost:8080/"
        },
        "id": "IytR1lAhUpht",
        "outputId": "c0455bf7-5629-4391-9afa-4c98c7c9ff96"
      },
      "outputs": [
        {
          "name": "stderr",
          "output_type": "stream",
          "text": [
            "/usr/local/lib/python3.7/dist-packages/seaborn/_decorators.py:43: FutureWarning: Pass the following variable as a keyword arg: x. From version 0.12, the only valid positional argument will be `data`, and passing other arguments without an explicit keyword will result in an error or misinterpretation.\n",
            "  FutureWarning\n"
          ]
        },
        {
          "data": {
            "text/plain": [
              "<matplotlib.axes._subplots.AxesSubplot at 0x7fae3f7e3410>"
            ]
          },
          "execution_count": 6,
          "metadata": {},
          "output_type": "execute_result"
        },
        {
          "data": {
            "image/png": "[encoded data removed]",
            "text/plain": [
              "<Figure size 432x288 with 1 Axes>"
            ]
          },
          "metadata": {},
          "output_type": "display_data"
        }
      ],
      "source": [
        "import seaborn as sns\n",
        "\n",
        "sns.countplot(flower_train.target)"
      ]
    },
    {
      "cell_type": "markdown",
      "metadata": {
        "id": "W-qguJ_23fGt"
      },
      "source": [
        "## View val data"
      ]
    },
    {
      "cell_type": "code",
      "execution_count": null,
      "metadata": {
        "colab": {
          "base_uri": "https://localhost:8080/"
        },
        "id": "kfd9CplG3fGu",
        "outputId": "655a2c41-10df-416e-9da7-7f4dad98eec5"
      },
      "outputs": [
        {
          "data": {
            "text/html": [
              "\n",
              "  <div id=\"df-a6d5a8e8-ab40-4446-8a8f-fe2aa2f666f4\">\n",
              "    <div class=\"colab-df-container\">\n",
              "      <div>\n",
              "<style scoped>\n",
              "    .dataframe tbody tr th:only-of-type {\n",
              "        vertical-align: middle;\n",
              "    }\n",
              "\n",
              "    .dataframe tbody tr th {\n",
              "        vertical-align: top;\n",
              "    }\n",
              "\n",
              "    .dataframe thead th {\n",
              "        text-align: right;\n",
              "    }\n",
              "</style>\n",
              "<table border=\"1\" class=\"dataframe\">\n",
              "  <thead>\n",
              "    <tr style=\"text-align: right;\">\n",
              "      <th></th>\n",
              "      <th>image</th>\n",
              "      <th>target</th>\n",
              "    </tr>\n",
              "  </thead>\n",
              "  <tbody>\n",
              "    <tr>\n",
              "      <th>0</th>\n",
              "      <td>/content/drive/MyDrive/TUGAS AKHIRKU/new_datas...</td>\n",
              "      <td>cotton_flower</td>\n",
              "    </tr>\n",
              "    <tr>\n",
              "      <th>1</th>\n",
              "      <td>/content/drive/MyDrive/TUGAS AKHIRKU/new_datas...</td>\n",
              "      <td>cotton_flower</td>\n",
              "    </tr>\n",
              "    <tr>\n",
              "      <th>2</th>\n",
              "      <td>/content/drive/MyDrive/TUGAS AKHIRKU/new_datas...</td>\n",
              "      <td>cotton_flower</td>\n",
              "    </tr>\n",
              "    <tr>\n",
              "      <th>3</th>\n",
              "      <td>/content/drive/MyDrive/TUGAS AKHIRKU/new_datas...</td>\n",
              "      <td>cotton_flower</td>\n",
              "    </tr>\n",
              "    <tr>\n",
              "      <th>4</th>\n",
              "      <td>/content/drive/MyDrive/TUGAS AKHIRKU/new_datas...</td>\n",
              "      <td>cotton_flower</td>\n",
              "    </tr>\n",
              "    <tr>\n",
              "      <th>...</th>\n",
              "      <td>...</td>\n",
              "      <td>...</td>\n",
              "    </tr>\n",
              "    <tr>\n",
              "      <th>1227</th>\n",
              "      <td>/content/drive/MyDrive/TUGAS AKHIRKU/new_datas...</td>\n",
              "      <td>baby_breath</td>\n",
              "    </tr>\n",
              "    <tr>\n",
              "      <th>1228</th>\n",
              "      <td>/content/drive/MyDrive/TUGAS AKHIRKU/new_datas...</td>\n",
              "      <td>baby_breath</td>\n",
              "    </tr>\n",
              "    <tr>\n",
              "      <th>1229</th>\n",
              "      <td>/content/drive/MyDrive/TUGAS AKHIRKU/new_datas...</td>\n",
              "      <td>baby_breath</td>\n",
              "    </tr>\n",
              "    <tr>\n",
              "      <th>1230</th>\n",
              "      <td>/content/drive/MyDrive/TUGAS AKHIRKU/new_datas...</td>\n",
              "      <td>baby_breath</td>\n",
              "    </tr>\n",
              "    <tr>\n",
              "      <th>1231</th>\n",
              "      <td>/content/drive/MyDrive/TUGAS AKHIRKU/new_datas...</td>\n",
              "      <td>baby_breath</td>\n",
              "    </tr>\n",
              "  </tbody>\n",
              "</table>\n",
              "<p>1232 rows × 2 columns</p>\n",
              "</div>\n",
              "      <button class=\"colab-df-convert\" onclick=\"convertToInteractive('df-a6d5a8e8-ab40-4446-8a8f-fe2aa2f666f4')\"\n",
              "              title=\"Convert this dataframe to an interactive table.\"\n",
              "              style=\"display:none;\">\n",
              "        \n",
              "  <svg xmlns=\"http://www.w3.org/2000/svg\" height=\"24px\"viewBox=\"0 0 24 24\"\n",
              "       width=\"24px\">\n",
              "    <path d=\"M0 0h24v24H0V0z\" fill=\"none\"/>\n",
              "    <path d=\"M18.56 5.44l.94 2.06.94-2.06 2.06-.94-2.06-.94-.94-2.06-.94 2.06-2.06.94zm-11 1L8.5 8.5l.94-2.06 2.06-.94-2.06-.94L8.5 2.5l-.94 2.06-2.06.94zm10 10l.94 2.06.94-2.06 2.06-.94-2.06-.94-.94-2.06-.94 2.06-2.06.94z\"/><path d=\"M17.41 7.96l-1.37-1.37c-.4-.4-.92-.59-1.43-.59-.52 0-1.04.2-1.43.59L10.3 9.45l-7.72 7.72c-.78.78-.78 2.05 0 2.83L4 21.41c.39.39.9.59 1.41.59.51 0 1.02-.2 1.41-.59l7.78-7.78 2.81-2.81c.8-.78.8-2.07 0-2.86zM5.41 20L4 18.59l7.72-7.72 1.47 1.35L5.41 20z\"/>\n",
              "  </svg>\n",
              "      </button>\n",
              "      \n",
              "  <style>\n",
              "    .colab-df-container {\n",
              "      display:flex;\n",
              "      flex-wrap:wrap;\n",
              "      gap: 12px;\n",
              "    }\n",
              "\n",
              "    .colab-df-convert {\n",
              "      background-color: #E8F0FE;\n",
              "      border: none;\n",
              "      border-radius: 50%;\n",
              "      cursor: pointer;\n",
              "      display: none;\n",
              "      fill: #1967D2;\n",
              "      height: 32px;\n",
              "      padding: 0 0 0 0;\n",
              "      width: 32px;\n",
              "    }\n",
              "\n",
              "    .colab-df-convert:hover {\n",
              "      background-color: #E2EBFA;\n",
              "      box-shadow: 0px 1px 2px rgba(60, 64, 67, 0.3), 0px 1px 3px 1px rgba(60, 64, 67, 0.15);\n",
              "      fill: #174EA6;\n",
              "    }\n",
              "\n",
              "    [theme=dark] .colab-df-convert {\n",
              "      background-color: #3B4455;\n",
              "      fill: #D2E3FC;\n",
              "    }\n",
              "\n",
              "    [theme=dark] .colab-df-convert:hover {\n",
              "      background-color: #434B5C;\n",
              "      box-shadow: 0px 1px 3px 1px rgba(0, 0, 0, 0.15);\n",
              "      filter: drop-shadow(0px 1px 2px rgba(0, 0, 0, 0.3));\n",
              "      fill: #FFFFFF;\n",
              "    }\n",
              "  </style>\n",
              "\n",
              "      <script>\n",
              "        const buttonEl =\n",
              "          document.querySelector('#df-a6d5a8e8-ab40-4446-8a8f-fe2aa2f666f4 button.colab-df-convert');\n",
              "        buttonEl.style.display =\n",
              "          google.colab.kernel.accessAllowed ? 'block' : 'none';\n",
              "\n",
              "        async function convertToInteractive(key) {\n",
              "          const element = document.querySelector('#df-a6d5a8e8-ab40-4446-8a8f-fe2aa2f666f4');\n",
              "          const dataTable =\n",
              "            await google.colab.kernel.invokeFunction('convertToInteractive',\n",
              "                                                     [key], {});\n",
              "          if (!dataTable) return;\n",
              "\n",
              "          const docLinkHtml = 'Like what you see? Visit the ' +\n",
              "            '<a target=\"_blank\" href=https://colab.research.google.com/notebooks/data_table.ipynb>data table notebook</a>'\n",
              "            + ' to learn more about interactive tables.';\n",
              "          element.innerHTML = '';\n",
              "          dataTable['output_type'] = 'display_data';\n",
              "          await google.colab.output.renderOutput(dataTable, element);\n",
              "          const docLink = document.createElement('div');\n",
              "          docLink.innerHTML = docLinkHtml;\n",
              "          element.appendChild(docLink);\n",
              "        }\n",
              "      </script>\n",
              "    </div>\n",
              "  </div>\n",
              "  "
            ],
            "text/plain": [
              "                                                  image         target\n",
              "0     /content/drive/MyDrive/TUGAS AKHIRKU/new_datas...  cotton_flower\n",
              "1     /content/drive/MyDrive/TUGAS AKHIRKU/new_datas...  cotton_flower\n",
              "2     /content/drive/MyDrive/TUGAS AKHIRKU/new_datas...  cotton_flower\n",
              "3     /content/drive/MyDrive/TUGAS AKHIRKU/new_datas...  cotton_flower\n",
              "4     /content/drive/MyDrive/TUGAS AKHIRKU/new_datas...  cotton_flower\n",
              "...                                                 ...            ...\n",
              "1227  /content/drive/MyDrive/TUGAS AKHIRKU/new_datas...    baby_breath\n",
              "1228  /content/drive/MyDrive/TUGAS AKHIRKU/new_datas...    baby_breath\n",
              "1229  /content/drive/MyDrive/TUGAS AKHIRKU/new_datas...    baby_breath\n",
              "1230  /content/drive/MyDrive/TUGAS AKHIRKU/new_datas...    baby_breath\n",
              "1231  /content/drive/MyDrive/TUGAS AKHIRKU/new_datas...    baby_breath\n",
              "\n",
              "[1232 rows x 2 columns]"
            ]
          },
          "execution_count": 6,
          "metadata": {},
          "output_type": "execute_result"
        }
      ],
      "source": [
        "import os\n",
        "import pandas as pd\n",
        "\n",
        "val_dir = '/content/drive/MyDrive/TUGAS AKHIRKU/new_dataset/flower_dataset/output/flower_prep/flower_split/val'\n",
        "flowers = data(val_dir)\n",
        "flower_val = flowers.dataframe()\n",
        "flower_val"
      ]
    },
    {
      "cell_type": "code",
      "execution_count": null,
      "metadata": {
        "id": "ZMLhLUuv3fGu"
      },
      "outputs": [],
      "source": [
        "import numpy as np"
      ]
    },
    {
      "cell_type": "code",
      "execution_count": null,
      "metadata": {
        "colab": {
          "base_uri": "https://localhost:8080/"
        },
        "id": "5T-CWRl03fGu",
        "outputId": "73a7a4d5-3abb-4108-a610-6c6cd63b0189"
      },
      "outputs": [
        {
          "data": {
            "text/plain": [
              "{'baby_breath': 248,\n",
              " 'cotton_flower': 243,\n",
              " 'lagurus': 248,\n",
              " 'pampas': 247,\n",
              " 'setaria': 246}"
            ]
          },
          "execution_count": 15,
          "metadata": {},
          "output_type": "execute_result"
        }
      ],
      "source": [
        "unique, count = np.unique(flower_val.target, return_counts =True)\n",
        "target_unique = {k:v for (k,v) in zip(unique, count)}\n",
        "target_unique"
      ]
    },
    {
      "cell_type": "code",
      "execution_count": null,
      "metadata": {
        "colab": {
          "base_uri": "https://localhost:8080/",
          "height": 352
        },
        "id": "dDxUsWzq3fGu",
        "outputId": "7973e8f1-1730-476f-8a06-45f437adbabc"
      },
      "outputs": [
        {
          "name": "stderr",
          "output_type": "stream",
          "text": [
            "/usr/local/lib/python3.7/dist-packages/seaborn/_decorators.py:43: FutureWarning: Pass the following variable as a keyword arg: x. From version 0.12, the only valid positional argument will be `data`, and passing other arguments without an explicit keyword will result in an error or misinterpretation.\n",
            "  FutureWarning\n"
          ]
        },
        {
          "data": {
            "text/plain": [
              "<matplotlib.axes._subplots.AxesSubplot at 0x7fb973b168d0>"
            ]
          },
          "execution_count": 16,
          "metadata": {},
          "output_type": "execute_result"
        },
        {
          "data": {
            "image/png": "[encoded data removed]",
            "text/plain": [
              "<Figure size 432x288 with 1 Axes>"
            ]
          },
          "metadata": {},
          "output_type": "display_data"
        }
      ],
      "source": [
        "import seaborn as sns\n",
        "\n",
        "sns.countplot(flower_train.target)"
      ]
    },
    {
      "cell_type": "markdown",
      "metadata": {
        "id": "OSdJ4TuH3xTZ"
      },
      "source": [
        "## View test data"
      ]
    },
    {
      "cell_type": "code",
      "execution_count": null,
      "metadata": {
        "colab": {
          "base_uri": "https://localhost:8080/",
          "height": 424
        },
        "id": "lJPd5DBp3xTa",
        "outputId": "4e95c8aa-e9a3-4de0-cb52-bcf89df815be"
      },
      "outputs": [
        {
          "data": {
            "text/html": [
              "\n",
              "  <div id=\"df-27b2fab2-0a98-41ae-8d7b-6d7da0316565\">\n",
              "    <div class=\"colab-df-container\">\n",
              "      <div>\n",
              "<style scoped>\n",
              "    .dataframe tbody tr th:only-of-type {\n",
              "        vertical-align: middle;\n",
              "    }\n",
              "\n",
              "    .dataframe tbody tr th {\n",
              "        vertical-align: top;\n",
              "    }\n",
              "\n",
              "    .dataframe thead th {\n",
              "        text-align: right;\n",
              "    }\n",
              "</style>\n",
              "<table border=\"1\" class=\"dataframe\">\n",
              "  <thead>\n",
              "    <tr style=\"text-align: right;\">\n",
              "      <th></th>\n",
              "      <th>image</th>\n",
              "      <th>target</th>\n",
              "    </tr>\n",
              "  </thead>\n",
              "  <tbody>\n",
              "    <tr>\n",
              "      <th>0</th>\n",
              "      <td>/content/drive/MyDrive/TUGAS AKHIRKU/new_datas...</td>\n",
              "      <td>cotton_flower</td>\n",
              "    </tr>\n",
              "    <tr>\n",
              "      <th>1</th>\n",
              "      <td>/content/drive/MyDrive/TUGAS AKHIRKU/new_datas...</td>\n",
              "      <td>cotton_flower</td>\n",
              "    </tr>\n",
              "    <tr>\n",
              "      <th>2</th>\n",
              "      <td>/content/drive/MyDrive/TUGAS AKHIRKU/new_datas...</td>\n",
              "      <td>cotton_flower</td>\n",
              "    </tr>\n",
              "    <tr>\n",
              "      <th>3</th>\n",
              "      <td>/content/drive/MyDrive/TUGAS AKHIRKU/new_datas...</td>\n",
              "      <td>cotton_flower</td>\n",
              "    </tr>\n",
              "    <tr>\n",
              "      <th>4</th>\n",
              "      <td>/content/drive/MyDrive/TUGAS AKHIRKU/new_datas...</td>\n",
              "      <td>cotton_flower</td>\n",
              "    </tr>\n",
              "    <tr>\n",
              "      <th>...</th>\n",
              "      <td>...</td>\n",
              "      <td>...</td>\n",
              "    </tr>\n",
              "    <tr>\n",
              "      <th>1234</th>\n",
              "      <td>/content/drive/MyDrive/TUGAS AKHIRKU/new_datas...</td>\n",
              "      <td>baby_breath</td>\n",
              "    </tr>\n",
              "    <tr>\n",
              "      <th>1235</th>\n",
              "      <td>/content/drive/MyDrive/TUGAS AKHIRKU/new_datas...</td>\n",
              "      <td>baby_breath</td>\n",
              "    </tr>\n",
              "    <tr>\n",
              "      <th>1236</th>\n",
              "      <td>/content/drive/MyDrive/TUGAS AKHIRKU/new_datas...</td>\n",
              "      <td>baby_breath</td>\n",
              "    </tr>\n",
              "    <tr>\n",
              "      <th>1237</th>\n",
              "      <td>/content/drive/MyDrive/TUGAS AKHIRKU/new_datas...</td>\n",
              "      <td>baby_breath</td>\n",
              "    </tr>\n",
              "    <tr>\n",
              "      <th>1238</th>\n",
              "      <td>/content/drive/MyDrive/TUGAS AKHIRKU/new_datas...</td>\n",
              "      <td>baby_breath</td>\n",
              "    </tr>\n",
              "  </tbody>\n",
              "</table>\n",
              "<p>1239 rows × 2 columns</p>\n",
              "</div>\n",
              "      <button class=\"colab-df-convert\" onclick=\"convertToInteractive('df-27b2fab2-0a98-41ae-8d7b-6d7da0316565')\"\n",
              "              title=\"Convert this dataframe to an interactive table.\"\n",
              "              style=\"display:none;\">\n",
              "        \n",
              "  <svg xmlns=\"http://www.w3.org/2000/svg\" height=\"24px\"viewBox=\"0 0 24 24\"\n",
              "       width=\"24px\">\n",
              "    <path d=\"M0 0h24v24H0V0z\" fill=\"none\"/>\n",
              "    <path d=\"M18.56 5.44l.94 2.06.94-2.06 2.06-.94-2.06-.94-.94-2.06-.94 2.06-2.06.94zm-11 1L8.5 8.5l.94-2.06 2.06-.94-2.06-.94L8.5 2.5l-.94 2.06-2.06.94zm10 10l.94 2.06.94-2.06 2.06-.94-2.06-.94-.94-2.06-.94 2.06-2.06.94z\"/><path d=\"M17.41 7.96l-1.37-1.37c-.4-.4-.92-.59-1.43-.59-.52 0-1.04.2-1.43.59L10.3 9.45l-7.72 7.72c-.78.78-.78 2.05 0 2.83L4 21.41c.39.39.9.59 1.41.59.51 0 1.02-.2 1.41-.59l7.78-7.78 2.81-2.81c.8-.78.8-2.07 0-2.86zM5.41 20L4 18.59l7.72-7.72 1.47 1.35L5.41 20z\"/>\n",
              "  </svg>\n",
              "      </button>\n",
              "      \n",
              "  <style>\n",
              "    .colab-df-container {\n",
              "      display:flex;\n",
              "      flex-wrap:wrap;\n",
              "      gap: 12px;\n",
              "    }\n",
              "\n",
              "    .colab-df-convert {\n",
              "      background-color: #E8F0FE;\n",
              "      border: none;\n",
              "      border-radius: 50%;\n",
              "      cursor: pointer;\n",
              "      display: none;\n",
              "      fill: #1967D2;\n",
              "      height: 32px;\n",
              "      padding: 0 0 0 0;\n",
              "      width: 32px;\n",
              "    }\n",
              "\n",
              "    .colab-df-convert:hover {\n",
              "      background-color: #E2EBFA;\n",
              "      box-shadow: 0px 1px 2px rgba(60, 64, 67, 0.3), 0px 1px 3px 1px rgba(60, 64, 67, 0.15);\n",
              "      fill: #174EA6;\n",
              "    }\n",
              "\n",
              "    [theme=dark] .colab-df-convert {\n",
              "      background-color: #3B4455;\n",
              "      fill: #D2E3FC;\n",
              "    }\n",
              "\n",
              "    [theme=dark] .colab-df-convert:hover {\n",
              "      background-color: #434B5C;\n",
              "      box-shadow: 0px 1px 3px 1px rgba(0, 0, 0, 0.15);\n",
              "      filter: drop-shadow(0px 1px 2px rgba(0, 0, 0, 0.3));\n",
              "      fill: #FFFFFF;\n",
              "    }\n",
              "  </style>\n",
              "\n",
              "      <script>\n",
              "        const buttonEl =\n",
              "          document.querySelector('#df-27b2fab2-0a98-41ae-8d7b-6d7da0316565 button.colab-df-convert');\n",
              "        buttonEl.style.display =\n",
              "          google.colab.kernel.accessAllowed ? 'block' : 'none';\n",
              "\n",
              "        async function convertToInteractive(key) {\n",
              "          const element = document.querySelector('#df-27b2fab2-0a98-41ae-8d7b-6d7da0316565');\n",
              "          const dataTable =\n",
              "            await google.colab.kernel.invokeFunction('convertToInteractive',\n",
              "                                                     [key], {});\n",
              "          if (!dataTable) return;\n",
              "\n",
              "          const docLinkHtml = 'Like what you see? Visit the ' +\n",
              "            '<a target=\"_blank\" href=https://colab.research.google.com/notebooks/data_table.ipynb>data table notebook</a>'\n",
              "            + ' to learn more about interactive tables.';\n",
              "          element.innerHTML = '';\n",
              "          dataTable['output_type'] = 'display_data';\n",
              "          await google.colab.output.renderOutput(dataTable, element);\n",
              "          const docLink = document.createElement('div');\n",
              "          docLink.innerHTML = docLinkHtml;\n",
              "          element.appendChild(docLink);\n",
              "        }\n",
              "      </script>\n",
              "    </div>\n",
              "  </div>\n",
              "  "
            ],
            "text/plain": [
              "                                                  image         target\n",
              "0     /content/drive/MyDrive/TUGAS AKHIRKU/new_datas...  cotton_flower\n",
              "1     /content/drive/MyDrive/TUGAS AKHIRKU/new_datas...  cotton_flower\n",
              "2     /content/drive/MyDrive/TUGAS AKHIRKU/new_datas...  cotton_flower\n",
              "3     /content/drive/MyDrive/TUGAS AKHIRKU/new_datas...  cotton_flower\n",
              "4     /content/drive/MyDrive/TUGAS AKHIRKU/new_datas...  cotton_flower\n",
              "...                                                 ...            ...\n",
              "1234  /content/drive/MyDrive/TUGAS AKHIRKU/new_datas...    baby_breath\n",
              "1235  /content/drive/MyDrive/TUGAS AKHIRKU/new_datas...    baby_breath\n",
              "1236  /content/drive/MyDrive/TUGAS AKHIRKU/new_datas...    baby_breath\n",
              "1237  /content/drive/MyDrive/TUGAS AKHIRKU/new_datas...    baby_breath\n",
              "1238  /content/drive/MyDrive/TUGAS AKHIRKU/new_datas...    baby_breath\n",
              "\n",
              "[1239 rows x 2 columns]"
            ]
          },
          "execution_count": 17,
          "metadata": {},
          "output_type": "execute_result"
        }
      ],
      "source": [
        "import os\n",
        "import pandas as pd\n",
        "\n",
        "test_dir = '/content/drive/MyDrive/TUGAS AKHIRKU/new_dataset/flower_dataset/output/flower_prep/flower_split/test'\n",
        "flowers = data(test_dir)\n",
        "flower_test = flowers.dataframe()\n",
        "flower_test"
      ]
    },
    {
      "cell_type": "code",
      "execution_count": null,
      "metadata": {
        "id": "vX68A2LV3xTd"
      },
      "outputs": [],
      "source": [
        "import numpy as np"
      ]
    },
    {
      "cell_type": "code",
      "execution_count": null,
      "metadata": {
        "colab": {
          "base_uri": "https://localhost:8080/"
        },
        "id": "vQdv1Gjh3xTd",
        "outputId": "31c0a114-2c0a-4351-dc76-93607667690f"
      },
      "outputs": [
        {
          "data": {
            "text/plain": [
              "{'baby_breath': 250,\n",
              " 'cotton_flower': 243,\n",
              " 'lagurus': 250,\n",
              " 'pampas': 249,\n",
              " 'setaria': 247}"
            ]
          },
          "execution_count": 19,
          "metadata": {},
          "output_type": "execute_result"
        }
      ],
      "source": [
        "unique, count = np.unique(flower_test.target, return_counts =True)\n",
        "target_unique = {k:v for (k,v) in zip(unique, count)}\n",
        "target_unique"
      ]
    },
    {
      "cell_type": "code",
      "execution_count": null,
      "metadata": {
        "colab": {
          "base_uri": "https://localhost:8080/",
          "height": 352
        },
        "id": "duL9bu3i3xTe",
        "outputId": "e828483b-71f5-4aad-a129-74f85c1e33b0"
      },
      "outputs": [
        {
          "name": "stderr",
          "output_type": "stream",
          "text": [
            "/usr/local/lib/python3.7/dist-packages/seaborn/_decorators.py:43: FutureWarning: Pass the following variable as a keyword arg: x. From version 0.12, the only valid positional argument will be `data`, and passing other arguments without an explicit keyword will result in an error or misinterpretation.\n",
            "  FutureWarning\n"
          ]
        },
        {
          "data": {
            "text/plain": [
              "<matplotlib.axes._subplots.AxesSubplot at 0x7fb973b53e10>"
            ]
          },
          "execution_count": 20,
          "metadata": {},
          "output_type": "execute_result"
        },
        {
          "data": {
            "image/png": "[encoded data removed]",
            "text/plain": [
              "<Figure size 432x288 with 1 Axes>"
            ]
          },
          "metadata": {},
          "output_type": "display_data"
        }
      ],
      "source": [
        "import seaborn as sns\n",
        "\n",
        "sns.countplot(flower_train.target)"
      ]
    },
    {
      "cell_type": "markdown",
      "metadata": {
        "id": "Hyh-elRSJx5V"
      },
      "source": [
        "# Implementation Model"
      ]
    },
    {
      "cell_type": "markdown",
      "metadata": {
        "id": "RF_FhQOIU6_b"
      },
      "source": [
        "## Data Preprocessing"
      ]
    },
    {
      "cell_type": "code",
      "execution_count": null,
      "metadata": {
        "id": "ep_F3qTmVR_d"
      },
      "outputs": [],
      "source": [
        "from tensorflow.keras.preprocessing.image import ImageDataGenerator"
      ]
    },
    {
      "cell_type": "code",
      "execution_count": null,
      "metadata": {
        "id": "vOWvCe6rWoG9"
      },
      "outputs": [],
      "source": [
        "IMG_SIZE = (224, 224)\n",
        "INPUT_SHAPE = (224,224,3)\n",
        "BATCH_SIZE = 32"
      ]
    },
    {
      "cell_type": "code",
      "execution_count": null,
      "metadata": {
        "colab": {
          "base_uri": "https://localhost:8080/"
        },
        "id": "uKaJdBM1WYKG",
        "outputId": "c2df3ba6-ec34-4228-8d86-37d66cf87cc4"
      },
      "outputs": [
        {
          "output_type": "stream",
          "name": "stdout",
          "text": [
            "Found 9876 images belonging to 5 classes.\n"
          ]
        }
      ],
      "source": [
        "training_datagen = ImageDataGenerator(rescale=1. / 255)\n",
        "TRAINING_DIR = '/content/drive/MyDrive/TUGAS AKHIRKU/new_dataset/flower_dataset/output/flower_prep/flower_split/train'\n",
        "\n",
        "train_generator = training_datagen.flow_from_directory(TRAINING_DIR,\n",
        "                                                       target_size= IMG_SIZE,\n",
        "                                                       batch_size= BATCH_SIZE,\n",
        "                                                       shuffle=True,\n",
        "                                                       class_mode='categorical')"
      ]
    },
    {
      "cell_type": "code",
      "execution_count": null,
      "metadata": {
        "colab": {
          "base_uri": "https://localhost:8080/"
        },
        "id": "0XkLMQSlW5sP",
        "outputId": "a3bf06e3-7711-416a-aaec-5c31519c392b"
      },
      "outputs": [
        {
          "output_type": "stream",
          "name": "stdout",
          "text": [
            "Found 1232 images belonging to 5 classes.\n"
          ]
        }
      ],
      "source": [
        "val_datagen = ImageDataGenerator(rescale=1. / 255)\n",
        "\n",
        "VAL_DIR = '/content/drive/MyDrive/TUGAS AKHIRKU/new_dataset/flower_dataset/output/flower_prep/flower_split/val'\n",
        "\n",
        "val_generator = val_datagen.flow_from_directory(VAL_DIR,\n",
        "                                                     target_size= IMG_SIZE,\n",
        "                                                     batch_size= BATCH_SIZE,\n",
        "                                                     shuffle=True,\n",
        "                                                     class_mode='categorical')"
      ]
    },
    {
      "cell_type": "code",
      "execution_count": null,
      "metadata": {
        "colab": {
          "base_uri": "https://localhost:8080/"
        },
        "id": "tmLcaUnlXqt-",
        "outputId": "c36b45a3-9d35-46d8-80db-4f0b66c15437"
      },
      "outputs": [
        {
          "output_type": "execute_result",
          "data": {
            "text/plain": [
              "{'baby_breath': 0, 'cotton_flower': 1, 'lagurus': 2, 'pampas': 3, 'setaria': 4}"
            ]
          },
          "metadata": {},
          "execution_count": 19
        }
      ],
      "source": [
        "train_generator.class_indices"
      ]
    },
    {
      "cell_type": "markdown",
      "metadata": {
        "id": "4baMQCFFY7F8"
      },
      "source": [
        "## Modeling Use MobileNetV2"
      ]
    },
    {
      "cell_type": "code",
      "execution_count": null,
      "metadata": {
        "id": "kQEXqgq3YblZ"
      },
      "outputs": [],
      "source": [
        "## Modeling use MobileNetV2\n",
        "\n",
        "import tensorflow as tf\n",
        "from tensorflow.keras.utils import to_categorical\n",
        "from tensorflow.keras.models import Sequential\n",
        "from tensorflow.keras.layers import Conv2D\n",
        "from tensorflow.keras.layers import MaxPooling2D\n",
        "from tensorflow.keras.layers import Dense\n",
        "from tensorflow.keras.layers import Flatten\n",
        "from tensorflow.keras.layers import GlobalAveragePooling2D\n",
        "from tensorflow.keras.layers import Dropout\n",
        "from tensorflow.keras.optimizers import SGD, Adam\n",
        "from tensorflow.keras.applications import MobileNetV2\n",
        "from tensorflow.keras.layers import BatchNormalization\n",
        "from tensorflow.keras import Model\n",
        "from tensorflow.keras.callbacks import ModelCheckpoint\n",
        "from sklearn.model_selection import train_test_split\n",
        "from imutils import paths\n",
        "import os\n",
        "import cv2\n",
        "import datetime\n",
        "import numpy as np"
      ]
    },
    {
      "cell_type": "code",
      "execution_count": null,
      "metadata": {
        "id": "emLMNV7uZIUQ",
        "colab": {
          "base_uri": "https://localhost:8080/"
        },
        "outputId": "bb66df45-c9c1-4250-c08a-e1069a281cfc"
      },
      "outputs": [
        {
          "output_type": "stream",
          "name": "stdout",
          "text": [
            "Downloading data from https://storage.googleapis.com/tensorflow/keras-applications/mobilenet_v2/mobilenet_v2_weights_tf_dim_ordering_tf_kernels_1.0_224_no_top.h5\n",
            "9412608/9406464 [==============================] - 0s 0us/step\n",
            "9420800/9406464 [==============================] - 0s 0us/step\n"
          ]
        }
      ],
      "source": [
        "INPUT_SHAPE = (224,224,3)\n",
        "\n",
        "base_model = tf.keras.applications.MobileNetV2(input_shape=INPUT_SHAPE, \n",
        "                                               include_top=False, \n",
        "                                               weights='imagenet')"
      ]
    },
    {
      "cell_type": "code",
      "source": [
        "base_model.summary()"
      ],
      "metadata": {
        "colab": {
          "base_uri": "https://localhost:8080/"
        },
        "id": "xlihHJ5fk75O",
        "outputId": "4d41be44-edfd-4976-8b11-525043edbc99"
      },
      "execution_count": null,
      "outputs": [
        {
          "output_type": "stream",
          "name": "stdout",
          "text": [
            "Model: \"mobilenetv2_1.00_224\"\n",
            "__________________________________________________________________________________________________\n",
            " Layer (type)                   Output Shape         Param #     Connected to                     \n",
            "==================================================================================================\n",
            " input_1 (InputLayer)           [(None, 224, 224, 3  0           []                               \n",
            "                                )]                                                                \n",
            "                                                                                                  \n",
            " Conv1 (Conv2D)                 (None, 112, 112, 32  864         ['input_1[0][0]']                \n",
            "                                )                                                                 \n",
            "                                                                                                  \n",
            " bn_Conv1 (BatchNormalization)  (None, 112, 112, 32  128         ['Conv1[0][0]']                  \n",
            "                                )                                                                 \n",
            "                                                                                                  \n",
            " Conv1_relu (ReLU)              (None, 112, 112, 32  0           ['bn_Conv1[0][0]']               \n",
            "                                )                                                                 \n",
            "                                                                                                  \n",
            " expanded_conv_depthwise (Depth  (None, 112, 112, 32  288        ['Conv1_relu[0][0]']             \n",
            " wiseConv2D)                    )                                                                 \n",
            "                                                                                                  \n",
            " expanded_conv_depthwise_BN (Ba  (None, 112, 112, 32  128        ['expanded_conv_depthwise[0][0]']\n",
            " tchNormalization)              )                                                                 \n",
            "                                                                                                  \n",
            " expanded_conv_depthwise_relu (  (None, 112, 112, 32  0          ['expanded_conv_depthwise_BN[0][0\n",
            " ReLU)                          )                                ]']                              \n",
            "                                                                                                  \n",
            " expanded_conv_project (Conv2D)  (None, 112, 112, 16  512        ['expanded_conv_depthwise_relu[0]\n",
            "                                )                                [0]']                            \n",
            "                                                                                                  \n",
            " expanded_conv_project_BN (Batc  (None, 112, 112, 16  64         ['expanded_conv_project[0][0]']  \n",
            " hNormalization)                )                                                                 \n",
            "                                                                                                  \n",
            " block_1_expand (Conv2D)        (None, 112, 112, 96  1536        ['expanded_conv_project_BN[0][0]'\n",
            "                                )                                ]                                \n",
            "                                                                                                  \n",
            " block_1_expand_BN (BatchNormal  (None, 112, 112, 96  384        ['block_1_expand[0][0]']         \n",
            " ization)                       )                                                                 \n",
            "                                                                                                  \n",
            " block_1_expand_relu (ReLU)     (None, 112, 112, 96  0           ['block_1_expand_BN[0][0]']      \n",
            "                                )                                                                 \n",
            "                                                                                                  \n",
            " block_1_pad (ZeroPadding2D)    (None, 113, 113, 96  0           ['block_1_expand_relu[0][0]']    \n",
            "                                )                                                                 \n",
            "                                                                                                  \n",
            " block_1_depthwise (DepthwiseCo  (None, 56, 56, 96)  864         ['block_1_pad[0][0]']            \n",
            " nv2D)                                                                                            \n",
            "                                                                                                  \n",
            " block_1_depthwise_BN (BatchNor  (None, 56, 56, 96)  384         ['block_1_depthwise[0][0]']      \n",
            " malization)                                                                                      \n",
            "                                                                                                  \n",
            " block_1_depthwise_relu (ReLU)  (None, 56, 56, 96)   0           ['block_1_depthwise_BN[0][0]']   \n",
            "                                                                                                  \n",
            " block_1_project (Conv2D)       (None, 56, 56, 24)   2304        ['block_1_depthwise_relu[0][0]'] \n",
            "                                                                                                  \n",
            " block_1_project_BN (BatchNorma  (None, 56, 56, 24)  96          ['block_1_project[0][0]']        \n",
            " lization)                                                                                        \n",
            "                                                                                                  \n",
            " block_2_expand (Conv2D)        (None, 56, 56, 144)  3456        ['block_1_project_BN[0][0]']     \n",
            "                                                                                                  \n",
            " block_2_expand_BN (BatchNormal  (None, 56, 56, 144)  576        ['block_2_expand[0][0]']         \n",
            " ization)                                                                                         \n",
            "                                                                                                  \n",
            " block_2_expand_relu (ReLU)     (None, 56, 56, 144)  0           ['block_2_expand_BN[0][0]']      \n",
            "                                                                                                  \n",
            " block_2_depthwise (DepthwiseCo  (None, 56, 56, 144)  1296       ['block_2_expand_relu[0][0]']    \n",
            " nv2D)                                                                                            \n",
            "                                                                                                  \n",
            " block_2_depthwise_BN (BatchNor  (None, 56, 56, 144)  576        ['block_2_depthwise[0][0]']      \n",
            " malization)                                                                                      \n",
            "                                                                                                  \n",
            " block_2_depthwise_relu (ReLU)  (None, 56, 56, 144)  0           ['block_2_depthwise_BN[0][0]']   \n",
            "                                                                                                  \n",
            " block_2_project (Conv2D)       (None, 56, 56, 24)   3456        ['block_2_depthwise_relu[0][0]'] \n",
            "                                                                                                  \n",
            " block_2_project_BN (BatchNorma  (None, 56, 56, 24)  96          ['block_2_project[0][0]']        \n",
            " lization)                                                                                        \n",
            "                                                                                                  \n",
            " block_2_add (Add)              (None, 56, 56, 24)   0           ['block_1_project_BN[0][0]',     \n",
            "                                                                  'block_2_project_BN[0][0]']     \n",
            "                                                                                                  \n",
            " block_3_expand (Conv2D)        (None, 56, 56, 144)  3456        ['block_2_add[0][0]']            \n",
            "                                                                                                  \n",
            " block_3_expand_BN (BatchNormal  (None, 56, 56, 144)  576        ['block_3_expand[0][0]']         \n",
            " ization)                                                                                         \n",
            "                                                                                                  \n",
            " block_3_expand_relu (ReLU)     (None, 56, 56, 144)  0           ['block_3_expand_BN[0][0]']      \n",
            "                                                                                                  \n",
            " block_3_pad (ZeroPadding2D)    (None, 57, 57, 144)  0           ['block_3_expand_relu[0][0]']    \n",
            "                                                                                                  \n",
            " block_3_depthwise (DepthwiseCo  (None, 28, 28, 144)  1296       ['block_3_pad[0][0]']            \n",
            " nv2D)                                                                                            \n",
            "                                                                                                  \n",
            " block_3_depthwise_BN (BatchNor  (None, 28, 28, 144)  576        ['block_3_depthwise[0][0]']      \n",
            " malization)                                                                                      \n",
            "                                                                                                  \n",
            " block_3_depthwise_relu (ReLU)  (None, 28, 28, 144)  0           ['block_3_depthwise_BN[0][0]']   \n",
            "                                                                                                  \n",
            " block_3_project (Conv2D)       (None, 28, 28, 32)   4608        ['block_3_depthwise_relu[0][0]'] \n",
            "                                                                                                  \n",
            " block_3_project_BN (BatchNorma  (None, 28, 28, 32)  128         ['block_3_project[0][0]']        \n",
            " lization)                                                                                        \n",
            "                                                                                                  \n",
            " block_4_expand (Conv2D)        (None, 28, 28, 192)  6144        ['block_3_project_BN[0][0]']     \n",
            "                                                                                                  \n",
            " block_4_expand_BN (BatchNormal  (None, 28, 28, 192)  768        ['block_4_expand[0][0]']         \n",
            " ization)                                                                                         \n",
            "                                                                                                  \n",
            " block_4_expand_relu (ReLU)     (None, 28, 28, 192)  0           ['block_4_expand_BN[0][0]']      \n",
            "                                                                                                  \n",
            " block_4_depthwise (DepthwiseCo  (None, 28, 28, 192)  1728       ['block_4_expand_relu[0][0]']    \n",
            " nv2D)                                                                                            \n",
            "                                                                                                  \n",
            " block_4_depthwise_BN (BatchNor  (None, 28, 28, 192)  768        ['block_4_depthwise[0][0]']      \n",
            " malization)                                                                                      \n",
            "                                                                                                  \n",
            " block_4_depthwise_relu (ReLU)  (None, 28, 28, 192)  0           ['block_4_depthwise_BN[0][0]']   \n",
            "                                                                                                  \n",
            " block_4_project (Conv2D)       (None, 28, 28, 32)   6144        ['block_4_depthwise_relu[0][0]'] \n",
            "                                                                                                  \n",
            " block_4_project_BN (BatchNorma  (None, 28, 28, 32)  128         ['block_4_project[0][0]']        \n",
            " lization)                                                                                        \n",
            "                                                                                                  \n",
            " block_4_add (Add)              (None, 28, 28, 32)   0           ['block_3_project_BN[0][0]',     \n",
            "                                                                  'block_4_project_BN[0][0]']     \n",
            "                                                                                                  \n",
            " block_5_expand (Conv2D)        (None, 28, 28, 192)  6144        ['block_4_add[0][0]']            \n",
            "                                                                                                  \n",
            " block_5_expand_BN (BatchNormal  (None, 28, 28, 192)  768        ['block_5_expand[0][0]']         \n",
            " ization)                                                                                         \n",
            "                                                                                                  \n",
            " block_5_expand_relu (ReLU)     (None, 28, 28, 192)  0           ['block_5_expand_BN[0][0]']      \n",
            "                                                                                                  \n",
            " block_5_depthwise (DepthwiseCo  (None, 28, 28, 192)  1728       ['block_5_expand_relu[0][0]']    \n",
            " nv2D)                                                                                            \n",
            "                                                                                                  \n",
            " block_5_depthwise_BN (BatchNor  (None, 28, 28, 192)  768        ['block_5_depthwise[0][0]']      \n",
            " malization)                                                                                      \n",
            "                                                                                                  \n",
            " block_5_depthwise_relu (ReLU)  (None, 28, 28, 192)  0           ['block_5_depthwise_BN[0][0]']   \n",
            "                                                                                                  \n",
            " block_5_project (Conv2D)       (None, 28, 28, 32)   6144        ['block_5_depthwise_relu[0][0]'] \n",
            "                                                                                                  \n",
            " block_5_project_BN (BatchNorma  (None, 28, 28, 32)  128         ['block_5_project[0][0]']        \n",
            " lization)                                                                                        \n",
            "                                                                                                  \n",
            " block_5_add (Add)              (None, 28, 28, 32)   0           ['block_4_add[0][0]',            \n",
            "                                                                  'block_5_project_BN[0][0]']     \n",
            "                                                                                                  \n",
            " block_6_expand (Conv2D)        (None, 28, 28, 192)  6144        ['block_5_add[0][0]']            \n",
            "                                                                                                  \n",
            " block_6_expand_BN (BatchNormal  (None, 28, 28, 192)  768        ['block_6_expand[0][0]']         \n",
            " ization)                                                                                         \n",
            "                                                                                                  \n",
            " block_6_expand_relu (ReLU)     (None, 28, 28, 192)  0           ['block_6_expand_BN[0][0]']      \n",
            "                                                                                                  \n",
            " block_6_pad (ZeroPadding2D)    (None, 29, 29, 192)  0           ['block_6_expand_relu[0][0]']    \n",
            "                                                                                                  \n",
            " block_6_depthwise (DepthwiseCo  (None, 14, 14, 192)  1728       ['block_6_pad[0][0]']            \n",
            " nv2D)                                                                                            \n",
            "                                                                                                  \n",
            " block_6_depthwise_BN (BatchNor  (None, 14, 14, 192)  768        ['block_6_depthwise[0][0]']      \n",
            " malization)                                                                                      \n",
            "                                                                                                  \n",
            " block_6_depthwise_relu (ReLU)  (None, 14, 14, 192)  0           ['block_6_depthwise_BN[0][0]']   \n",
            "                                                                                                  \n",
            " block_6_project (Conv2D)       (None, 14, 14, 64)   12288       ['block_6_depthwise_relu[0][0]'] \n",
            "                                                                                                  \n",
            " block_6_project_BN (BatchNorma  (None, 14, 14, 64)  256         ['block_6_project[0][0]']        \n",
            " lization)                                                                                        \n",
            "                                                                                                  \n",
            " block_7_expand (Conv2D)        (None, 14, 14, 384)  24576       ['block_6_project_BN[0][0]']     \n",
            "                                                                                                  \n",
            " block_7_expand_BN (BatchNormal  (None, 14, 14, 384)  1536       ['block_7_expand[0][0]']         \n",
            " ization)                                                                                         \n",
            "                                                                                                  \n",
            " block_7_expand_relu (ReLU)     (None, 14, 14, 384)  0           ['block_7_expand_BN[0][0]']      \n",
            "                                                                                                  \n",
            " block_7_depthwise (DepthwiseCo  (None, 14, 14, 384)  3456       ['block_7_expand_relu[0][0]']    \n",
            " nv2D)                                                                                            \n",
            "                                                                                                  \n",
            " block_7_depthwise_BN (BatchNor  (None, 14, 14, 384)  1536       ['block_7_depthwise[0][0]']      \n",
            " malization)                                                                                      \n",
            "                                                                                                  \n",
            " block_7_depthwise_relu (ReLU)  (None, 14, 14, 384)  0           ['block_7_depthwise_BN[0][0]']   \n",
            "                                                                                                  \n",
            " block_7_project (Conv2D)       (None, 14, 14, 64)   24576       ['block_7_depthwise_relu[0][0]'] \n",
            "                                                                                                  \n",
            " block_7_project_BN (BatchNorma  (None, 14, 14, 64)  256         ['block_7_project[0][0]']        \n",
            " lization)                                                                                        \n",
            "                                                                                                  \n",
            " block_7_add (Add)              (None, 14, 14, 64)   0           ['block_6_project_BN[0][0]',     \n",
            "                                                                  'block_7_project_BN[0][0]']     \n",
            "                                                                                                  \n",
            " block_8_expand (Conv2D)        (None, 14, 14, 384)  24576       ['block_7_add[0][0]']            \n",
            "                                                                                                  \n",
            " block_8_expand_BN (BatchNormal  (None, 14, 14, 384)  1536       ['block_8_expand[0][0]']         \n",
            " ization)                                                                                         \n",
            "                                                                                                  \n",
            " block_8_expand_relu (ReLU)     (None, 14, 14, 384)  0           ['block_8_expand_BN[0][0]']      \n",
            "                                                                                                  \n",
            " block_8_depthwise (DepthwiseCo  (None, 14, 14, 384)  3456       ['block_8_expand_relu[0][0]']    \n",
            " nv2D)                                                                                            \n",
            "                                                                                                  \n",
            " block_8_depthwise_BN (BatchNor  (None, 14, 14, 384)  1536       ['block_8_depthwise[0][0]']      \n",
            " malization)                                                                                      \n",
            "                                                                                                  \n",
            " block_8_depthwise_relu (ReLU)  (None, 14, 14, 384)  0           ['block_8_depthwise_BN[0][0]']   \n",
            "                                                                                                  \n",
            " block_8_project (Conv2D)       (None, 14, 14, 64)   24576       ['block_8_depthwise_relu[0][0]'] \n",
            "                                                                                                  \n",
            " block_8_project_BN (BatchNorma  (None, 14, 14, 64)  256         ['block_8_project[0][0]']        \n",
            " lization)                                                                                        \n",
            "                                                                                                  \n",
            " block_8_add (Add)              (None, 14, 14, 64)   0           ['block_7_add[0][0]',            \n",
            "                                                                  'block_8_project_BN[0][0]']     \n",
            "                                                                                                  \n",
            " block_9_expand (Conv2D)        (None, 14, 14, 384)  24576       ['block_8_add[0][0]']            \n",
            "                                                                                                  \n",
            " block_9_expand_BN (BatchNormal  (None, 14, 14, 384)  1536       ['block_9_expand[0][0]']         \n",
            " ization)                                                                                         \n",
            "                                                                                                  \n",
            " block_9_expand_relu (ReLU)     (None, 14, 14, 384)  0           ['block_9_expand_BN[0][0]']      \n",
            "                                                                                                  \n",
            " block_9_depthwise (DepthwiseCo  (None, 14, 14, 384)  3456       ['block_9_expand_relu[0][0]']    \n",
            " nv2D)                                                                                            \n",
            "                                                                                                  \n",
            " block_9_depthwise_BN (BatchNor  (None, 14, 14, 384)  1536       ['block_9_depthwise[0][0]']      \n",
            " malization)                                                                                      \n",
            "                                                                                                  \n",
            " block_9_depthwise_relu (ReLU)  (None, 14, 14, 384)  0           ['block_9_depthwise_BN[0][0]']   \n",
            "                                                                                                  \n",
            " block_9_project (Conv2D)       (None, 14, 14, 64)   24576       ['block_9_depthwise_relu[0][0]'] \n",
            "                                                                                                  \n",
            " block_9_project_BN (BatchNorma  (None, 14, 14, 64)  256         ['block_9_project[0][0]']        \n",
            " lization)                                                                                        \n",
            "                                                                                                  \n",
            " block_9_add (Add)              (None, 14, 14, 64)   0           ['block_8_add[0][0]',            \n",
            "                                                                  'block_9_project_BN[0][0]']     \n",
            "                                                                                                  \n",
            " block_10_expand (Conv2D)       (None, 14, 14, 384)  24576       ['block_9_add[0][0]']            \n",
            "                                                                                                  \n",
            " block_10_expand_BN (BatchNorma  (None, 14, 14, 384)  1536       ['block_10_expand[0][0]']        \n",
            " lization)                                                                                        \n",
            "                                                                                                  \n",
            " block_10_expand_relu (ReLU)    (None, 14, 14, 384)  0           ['block_10_expand_BN[0][0]']     \n",
            "                                                                                                  \n",
            " block_10_depthwise (DepthwiseC  (None, 14, 14, 384)  3456       ['block_10_expand_relu[0][0]']   \n",
            " onv2D)                                                                                           \n",
            "                                                                                                  \n",
            " block_10_depthwise_BN (BatchNo  (None, 14, 14, 384)  1536       ['block_10_depthwise[0][0]']     \n",
            " rmalization)                                                                                     \n",
            "                                                                                                  \n",
            " block_10_depthwise_relu (ReLU)  (None, 14, 14, 384)  0          ['block_10_depthwise_BN[0][0]']  \n",
            "                                                                                                  \n",
            " block_10_project (Conv2D)      (None, 14, 14, 96)   36864       ['block_10_depthwise_relu[0][0]']\n",
            "                                                                                                  \n",
            " block_10_project_BN (BatchNorm  (None, 14, 14, 96)  384         ['block_10_project[0][0]']       \n",
            " alization)                                                                                       \n",
            "                                                                                                  \n",
            " block_11_expand (Conv2D)       (None, 14, 14, 576)  55296       ['block_10_project_BN[0][0]']    \n",
            "                                                                                                  \n",
            " block_11_expand_BN (BatchNorma  (None, 14, 14, 576)  2304       ['block_11_expand[0][0]']        \n",
            " lization)                                                                                        \n",
            "                                                                                                  \n",
            " block_11_expand_relu (ReLU)    (None, 14, 14, 576)  0           ['block_11_expand_BN[0][0]']     \n",
            "                                                                                                  \n",
            " block_11_depthwise (DepthwiseC  (None, 14, 14, 576)  5184       ['block_11_expand_relu[0][0]']   \n",
            " onv2D)                                                                                           \n",
            "                                                                                                  \n",
            " block_11_depthwise_BN (BatchNo  (None, 14, 14, 576)  2304       ['block_11_depthwise[0][0]']     \n",
            " rmalization)                                                                                     \n",
            "                                                                                                  \n",
            " block_11_depthwise_relu (ReLU)  (None, 14, 14, 576)  0          ['block_11_depthwise_BN[0][0]']  \n",
            "                                                                                                  \n",
            " block_11_project (Conv2D)      (None, 14, 14, 96)   55296       ['block_11_depthwise_relu[0][0]']\n",
            "                                                                                                  \n",
            " block_11_project_BN (BatchNorm  (None, 14, 14, 96)  384         ['block_11_project[0][0]']       \n",
            " alization)                                                                                       \n",
            "                                                                                                  \n",
            " block_11_add (Add)             (None, 14, 14, 96)   0           ['block_10_project_BN[0][0]',    \n",
            "                                                                  'block_11_project_BN[0][0]']    \n",
            "                                                                                                  \n",
            " block_12_expand (Conv2D)       (None, 14, 14, 576)  55296       ['block_11_add[0][0]']           \n",
            "                                                                                                  \n",
            " block_12_expand_BN (BatchNorma  (None, 14, 14, 576)  2304       ['block_12_expand[0][0]']        \n",
            " lization)                                                                                        \n",
            "                                                                                                  \n",
            " block_12_expand_relu (ReLU)    (None, 14, 14, 576)  0           ['block_12_expand_BN[0][0]']     \n",
            "                                                                                                  \n",
            " block_12_depthwise (DepthwiseC  (None, 14, 14, 576)  5184       ['block_12_expand_relu[0][0]']   \n",
            " onv2D)                                                                                           \n",
            "                                                                                                  \n",
            " block_12_depthwise_BN (BatchNo  (None, 14, 14, 576)  2304       ['block_12_depthwise[0][0]']     \n",
            " rmalization)                                                                                     \n",
            "                                                                                                  \n",
            " block_12_depthwise_relu (ReLU)  (None, 14, 14, 576)  0          ['block_12_depthwise_BN[0][0]']  \n",
            "                                                                                                  \n",
            " block_12_project (Conv2D)      (None, 14, 14, 96)   55296       ['block_12_depthwise_relu[0][0]']\n",
            "                                                                                                  \n",
            " block_12_project_BN (BatchNorm  (None, 14, 14, 96)  384         ['block_12_project[0][0]']       \n",
            " alization)                                                                                       \n",
            "                                                                                                  \n",
            " block_12_add (Add)             (None, 14, 14, 96)   0           ['block_11_add[0][0]',           \n",
            "                                                                  'block_12_project_BN[0][0]']    \n",
            "                                                                                                  \n",
            " block_13_expand (Conv2D)       (None, 14, 14, 576)  55296       ['block_12_add[0][0]']           \n",
            "                                                                                                  \n",
            " block_13_expand_BN (BatchNorma  (None, 14, 14, 576)  2304       ['block_13_expand[0][0]']        \n",
            " lization)                                                                                        \n",
            "                                                                                                  \n",
            " block_13_expand_relu (ReLU)    (None, 14, 14, 576)  0           ['block_13_expand_BN[0][0]']     \n",
            "                                                                                                  \n",
            " block_13_pad (ZeroPadding2D)   (None, 15, 15, 576)  0           ['block_13_expand_relu[0][0]']   \n",
            "                                                                                                  \n",
            " block_13_depthwise (DepthwiseC  (None, 7, 7, 576)   5184        ['block_13_pad[0][0]']           \n",
            " onv2D)                                                                                           \n",
            "                                                                                                  \n",
            " block_13_depthwise_BN (BatchNo  (None, 7, 7, 576)   2304        ['block_13_depthwise[0][0]']     \n",
            " rmalization)                                                                                     \n",
            "                                                                                                  \n",
            " block_13_depthwise_relu (ReLU)  (None, 7, 7, 576)   0           ['block_13_depthwise_BN[0][0]']  \n",
            "                                                                                                  \n",
            " block_13_project (Conv2D)      (None, 7, 7, 160)    92160       ['block_13_depthwise_relu[0][0]']\n",
            "                                                                                                  \n",
            " block_13_project_BN (BatchNorm  (None, 7, 7, 160)   640         ['block_13_project[0][0]']       \n",
            " alization)                                                                                       \n",
            "                                                                                                  \n",
            " block_14_expand (Conv2D)       (None, 7, 7, 960)    153600      ['block_13_project_BN[0][0]']    \n",
            "                                                                                                  \n",
            " block_14_expand_BN (BatchNorma  (None, 7, 7, 960)   3840        ['block_14_expand[0][0]']        \n",
            " lization)                                                                                        \n",
            "                                                                                                  \n",
            " block_14_expand_relu (ReLU)    (None, 7, 7, 960)    0           ['block_14_expand_BN[0][0]']     \n",
            "                                                                                                  \n",
            " block_14_depthwise (DepthwiseC  (None, 7, 7, 960)   8640        ['block_14_expand_relu[0][0]']   \n",
            " onv2D)                                                                                           \n",
            "                                                                                                  \n",
            " block_14_depthwise_BN (BatchNo  (None, 7, 7, 960)   3840        ['block_14_depthwise[0][0]']     \n",
            " rmalization)                                                                                     \n",
            "                                                                                                  \n",
            " block_14_depthwise_relu (ReLU)  (None, 7, 7, 960)   0           ['block_14_depthwise_BN[0][0]']  \n",
            "                                                                                                  \n",
            " block_14_project (Conv2D)      (None, 7, 7, 160)    153600      ['block_14_depthwise_relu[0][0]']\n",
            "                                                                                                  \n",
            " block_14_project_BN (BatchNorm  (None, 7, 7, 160)   640         ['block_14_project[0][0]']       \n",
            " alization)                                                                                       \n",
            "                                                                                                  \n",
            " block_14_add (Add)             (None, 7, 7, 160)    0           ['block_13_project_BN[0][0]',    \n",
            "                                                                  'block_14_project_BN[0][0]']    \n",
            "                                                                                                  \n",
            " block_15_expand (Conv2D)       (None, 7, 7, 960)    153600      ['block_14_add[0][0]']           \n",
            "                                                                                                  \n",
            " block_15_expand_BN (BatchNorma  (None, 7, 7, 960)   3840        ['block_15_expand[0][0]']        \n",
            " lization)                                                                                        \n",
            "                                                                                                  \n",
            " block_15_expand_relu (ReLU)    (None, 7, 7, 960)    0           ['block_15_expand_BN[0][0]']     \n",
            "                                                                                                  \n",
            " block_15_depthwise (DepthwiseC  (None, 7, 7, 960)   8640        ['block_15_expand_relu[0][0]']   \n",
            " onv2D)                                                                                           \n",
            "                                                                                                  \n",
            " block_15_depthwise_BN (BatchNo  (None, 7, 7, 960)   3840        ['block_15_depthwise[0][0]']     \n",
            " rmalization)                                                                                     \n",
            "                                                                                                  \n",
            " block_15_depthwise_relu (ReLU)  (None, 7, 7, 960)   0           ['block_15_depthwise_BN[0][0]']  \n",
            "                                                                                                  \n",
            " block_15_project (Conv2D)      (None, 7, 7, 160)    153600      ['block_15_depthwise_relu[0][0]']\n",
            "                                                                                                  \n",
            " block_15_project_BN (BatchNorm  (None, 7, 7, 160)   640         ['block_15_project[0][0]']       \n",
            " alization)                                                                                       \n",
            "                                                                                                  \n",
            " block_15_add (Add)             (None, 7, 7, 160)    0           ['block_14_add[0][0]',           \n",
            "                                                                  'block_15_project_BN[0][0]']    \n",
            "                                                                                                  \n",
            " block_16_expand (Conv2D)       (None, 7, 7, 960)    153600      ['block_15_add[0][0]']           \n",
            "                                                                                                  \n",
            " block_16_expand_BN (BatchNorma  (None, 7, 7, 960)   3840        ['block_16_expand[0][0]']        \n",
            " lization)                                                                                        \n",
            "                                                                                                  \n",
            " block_16_expand_relu (ReLU)    (None, 7, 7, 960)    0           ['block_16_expand_BN[0][0]']     \n",
            "                                                                                                  \n",
            " block_16_depthwise (DepthwiseC  (None, 7, 7, 960)   8640        ['block_16_expand_relu[0][0]']   \n",
            " onv2D)                                                                                           \n",
            "                                                                                                  \n",
            " block_16_depthwise_BN (BatchNo  (None, 7, 7, 960)   3840        ['block_16_depthwise[0][0]']     \n",
            " rmalization)                                                                                     \n",
            "                                                                                                  \n",
            " block_16_depthwise_relu (ReLU)  (None, 7, 7, 960)   0           ['block_16_depthwise_BN[0][0]']  \n",
            "                                                                                                  \n",
            " block_16_project (Conv2D)      (None, 7, 7, 320)    307200      ['block_16_depthwise_relu[0][0]']\n",
            "                                                                                                  \n",
            " block_16_project_BN (BatchNorm  (None, 7, 7, 320)   1280        ['block_16_project[0][0]']       \n",
            " alization)                                                                                       \n",
            "                                                                                                  \n",
            " Conv_1 (Conv2D)                (None, 7, 7, 1280)   409600      ['block_16_project_BN[0][0]']    \n",
            "                                                                                                  \n",
            " Conv_1_bn (BatchNormalization)  (None, 7, 7, 1280)  5120        ['Conv_1[0][0]']                 \n",
            "                                                                                                  \n",
            " out_relu (ReLU)                (None, 7, 7, 1280)   0           ['Conv_1_bn[0][0]']              \n",
            "                                                                                                  \n",
            "==================================================================================================\n",
            "Total params: 2,257,984\n",
            "Trainable params: 2,223,872\n",
            "Non-trainable params: 34,112\n",
            "__________________________________________________________________________________________________\n"
          ]
        }
      ]
    },
    {
      "cell_type": "code",
      "execution_count": null,
      "metadata": {
        "colab": {
          "base_uri": "https://localhost:8080/"
        },
        "id": "A4iJq2I4Z5Dm",
        "outputId": "55117ad2-971c-4f8e-ef33-a35c2f64f3fa"
      },
      "outputs": [
        {
          "output_type": "stream",
          "name": "stdout",
          "text": [
            "(32, 7, 7, 1280)\n"
          ]
        }
      ],
      "source": [
        "image_batch, label_batch = next(iter(train_generator))\n",
        "feature_batch = base_model(image_batch)\n",
        "print(feature_batch.shape)"
      ]
    },
    {
      "cell_type": "code",
      "execution_count": null,
      "metadata": {
        "id": "4mDAB9QBaQdV"
      },
      "outputs": [],
      "source": [
        "# freeze untuk mencegah bobot lapisan tertentu diperbarui selama pelatihan \n",
        "base_model.trainable = False"
      ]
    },
    {
      "cell_type": "code",
      "source": [
        "base_model.summary()"
      ],
      "metadata": {
        "colab": {
          "base_uri": "https://localhost:8080/"
        },
        "id": "PXFWt2985vV-",
        "outputId": "54b4afbf-8ae0-497e-a500-392a18a138ec"
      },
      "execution_count": null,
      "outputs": [
        {
          "output_type": "stream",
          "name": "stdout",
          "text": [
            "Model: \"mobilenetv2_1.00_224\"\n",
            "__________________________________________________________________________________________________\n",
            " Layer (type)                   Output Shape         Param #     Connected to                     \n",
            "==================================================================================================\n",
            " input_1 (InputLayer)           [(None, 224, 224, 3  0           []                               \n",
            "                                )]                                                                \n",
            "                                                                                                  \n",
            " Conv1 (Conv2D)                 (None, 112, 112, 32  864         ['input_1[0][0]']                \n",
            "                                )                                                                 \n",
            "                                                                                                  \n",
            " bn_Conv1 (BatchNormalization)  (None, 112, 112, 32  128         ['Conv1[0][0]']                  \n",
            "                                )                                                                 \n",
            "                                                                                                  \n",
            " Conv1_relu (ReLU)              (None, 112, 112, 32  0           ['bn_Conv1[0][0]']               \n",
            "                                )                                                                 \n",
            "                                                                                                  \n",
            " expanded_conv_depthwise (Depth  (None, 112, 112, 32  288        ['Conv1_relu[0][0]']             \n",
            " wiseConv2D)                    )                                                                 \n",
            "                                                                                                  \n",
            " expanded_conv_depthwise_BN (Ba  (None, 112, 112, 32  128        ['expanded_conv_depthwise[0][0]']\n",
            " tchNormalization)              )                                                                 \n",
            "                                                                                                  \n",
            " expanded_conv_depthwise_relu (  (None, 112, 112, 32  0          ['expanded_conv_depthwise_BN[0][0\n",
            " ReLU)                          )                                ]']                              \n",
            "                                                                                                  \n",
            " expanded_conv_project (Conv2D)  (None, 112, 112, 16  512        ['expanded_conv_depthwise_relu[0]\n",
            "                                )                                [0]']                            \n",
            "                                                                                                  \n",
            " expanded_conv_project_BN (Batc  (None, 112, 112, 16  64         ['expanded_conv_project[0][0]']  \n",
            " hNormalization)                )                                                                 \n",
            "                                                                                                  \n",
            " block_1_expand (Conv2D)        (None, 112, 112, 96  1536        ['expanded_conv_project_BN[0][0]'\n",
            "                                )                                ]                                \n",
            "                                                                                                  \n",
            " block_1_expand_BN (BatchNormal  (None, 112, 112, 96  384        ['block_1_expand[0][0]']         \n",
            " ization)                       )                                                                 \n",
            "                                                                                                  \n",
            " block_1_expand_relu (ReLU)     (None, 112, 112, 96  0           ['block_1_expand_BN[0][0]']      \n",
            "                                )                                                                 \n",
            "                                                                                                  \n",
            " block_1_pad (ZeroPadding2D)    (None, 113, 113, 96  0           ['block_1_expand_relu[0][0]']    \n",
            "                                )                                                                 \n",
            "                                                                                                  \n",
            " block_1_depthwise (DepthwiseCo  (None, 56, 56, 96)  864         ['block_1_pad[0][0]']            \n",
            " nv2D)                                                                                            \n",
            "                                                                                                  \n",
            " block_1_depthwise_BN (BatchNor  (None, 56, 56, 96)  384         ['block_1_depthwise[0][0]']      \n",
            " malization)                                                                                      \n",
            "                                                                                                  \n",
            " block_1_depthwise_relu (ReLU)  (None, 56, 56, 96)   0           ['block_1_depthwise_BN[0][0]']   \n",
            "                                                                                                  \n",
            " block_1_project (Conv2D)       (None, 56, 56, 24)   2304        ['block_1_depthwise_relu[0][0]'] \n",
            "                                                                                                  \n",
            " block_1_project_BN (BatchNorma  (None, 56, 56, 24)  96          ['block_1_project[0][0]']        \n",
            " lization)                                                                                        \n",
            "                                                                                                  \n",
            " block_2_expand (Conv2D)        (None, 56, 56, 144)  3456        ['block_1_project_BN[0][0]']     \n",
            "                                                                                                  \n",
            " block_2_expand_BN (BatchNormal  (None, 56, 56, 144)  576        ['block_2_expand[0][0]']         \n",
            " ization)                                                                                         \n",
            "                                                                                                  \n",
            " block_2_expand_relu (ReLU)     (None, 56, 56, 144)  0           ['block_2_expand_BN[0][0]']      \n",
            "                                                                                                  \n",
            " block_2_depthwise (DepthwiseCo  (None, 56, 56, 144)  1296       ['block_2_expand_relu[0][0]']    \n",
            " nv2D)                                                                                            \n",
            "                                                                                                  \n",
            " block_2_depthwise_BN (BatchNor  (None, 56, 56, 144)  576        ['block_2_depthwise[0][0]']      \n",
            " malization)                                                                                      \n",
            "                                                                                                  \n",
            " block_2_depthwise_relu (ReLU)  (None, 56, 56, 144)  0           ['block_2_depthwise_BN[0][0]']   \n",
            "                                                                                                  \n",
            " block_2_project (Conv2D)       (None, 56, 56, 24)   3456        ['block_2_depthwise_relu[0][0]'] \n",
            "                                                                                                  \n",
            " block_2_project_BN (BatchNorma  (None, 56, 56, 24)  96          ['block_2_project[0][0]']        \n",
            " lization)                                                                                        \n",
            "                                                                                                  \n",
            " block_2_add (Add)              (None, 56, 56, 24)   0           ['block_1_project_BN[0][0]',     \n",
            "                                                                  'block_2_project_BN[0][0]']     \n",
            "                                                                                                  \n",
            " block_3_expand (Conv2D)        (None, 56, 56, 144)  3456        ['block_2_add[0][0]']            \n",
            "                                                                                                  \n",
            " block_3_expand_BN (BatchNormal  (None, 56, 56, 144)  576        ['block_3_expand[0][0]']         \n",
            " ization)                                                                                         \n",
            "                                                                                                  \n",
            " block_3_expand_relu (ReLU)     (None, 56, 56, 144)  0           ['block_3_expand_BN[0][0]']      \n",
            "                                                                                                  \n",
            " block_3_pad (ZeroPadding2D)    (None, 57, 57, 144)  0           ['block_3_expand_relu[0][0]']    \n",
            "                                                                                                  \n",
            " block_3_depthwise (DepthwiseCo  (None, 28, 28, 144)  1296       ['block_3_pad[0][0]']            \n",
            " nv2D)                                                                                            \n",
            "                                                                                                  \n",
            " block_3_depthwise_BN (BatchNor  (None, 28, 28, 144)  576        ['block_3_depthwise[0][0]']      \n",
            " malization)                                                                                      \n",
            "                                                                                                  \n",
            " block_3_depthwise_relu (ReLU)  (None, 28, 28, 144)  0           ['block_3_depthwise_BN[0][0]']   \n",
            "                                                                                                  \n",
            " block_3_project (Conv2D)       (None, 28, 28, 32)   4608        ['block_3_depthwise_relu[0][0]'] \n",
            "                                                                                                  \n",
            " block_3_project_BN (BatchNorma  (None, 28, 28, 32)  128         ['block_3_project[0][0]']        \n",
            " lization)                                                                                        \n",
            "                                                                                                  \n",
            " block_4_expand (Conv2D)        (None, 28, 28, 192)  6144        ['block_3_project_BN[0][0]']     \n",
            "                                                                                                  \n",
            " block_4_expand_BN (BatchNormal  (None, 28, 28, 192)  768        ['block_4_expand[0][0]']         \n",
            " ization)                                                                                         \n",
            "                                                                                                  \n",
            " block_4_expand_relu (ReLU)     (None, 28, 28, 192)  0           ['block_4_expand_BN[0][0]']      \n",
            "                                                                                                  \n",
            " block_4_depthwise (DepthwiseCo  (None, 28, 28, 192)  1728       ['block_4_expand_relu[0][0]']    \n",
            " nv2D)                                                                                            \n",
            "                                                                                                  \n",
            " block_4_depthwise_BN (BatchNor  (None, 28, 28, 192)  768        ['block_4_depthwise[0][0]']      \n",
            " malization)                                                                                      \n",
            "                                                                                                  \n",
            " block_4_depthwise_relu (ReLU)  (None, 28, 28, 192)  0           ['block_4_depthwise_BN[0][0]']   \n",
            "                                                                                                  \n",
            " block_4_project (Conv2D)       (None, 28, 28, 32)   6144        ['block_4_depthwise_relu[0][0]'] \n",
            "                                                                                                  \n",
            " block_4_project_BN (BatchNorma  (None, 28, 28, 32)  128         ['block_4_project[0][0]']        \n",
            " lization)                                                                                        \n",
            "                                                                                                  \n",
            " block_4_add (Add)              (None, 28, 28, 32)   0           ['block_3_project_BN[0][0]',     \n",
            "                                                                  'block_4_project_BN[0][0]']     \n",
            "                                                                                                  \n",
            " block_5_expand (Conv2D)        (None, 28, 28, 192)  6144        ['block_4_add[0][0]']            \n",
            "                                                                                                  \n",
            " block_5_expand_BN (BatchNormal  (None, 28, 28, 192)  768        ['block_5_expand[0][0]']         \n",
            " ization)                                                                                         \n",
            "                                                                                                  \n",
            " block_5_expand_relu (ReLU)     (None, 28, 28, 192)  0           ['block_5_expand_BN[0][0]']      \n",
            "                                                                                                  \n",
            " block_5_depthwise (DepthwiseCo  (None, 28, 28, 192)  1728       ['block_5_expand_relu[0][0]']    \n",
            " nv2D)                                                                                            \n",
            "                                                                                                  \n",
            " block_5_depthwise_BN (BatchNor  (None, 28, 28, 192)  768        ['block_5_depthwise[0][0]']      \n",
            " malization)                                                                                      \n",
            "                                                                                                  \n",
            " block_5_depthwise_relu (ReLU)  (None, 28, 28, 192)  0           ['block_5_depthwise_BN[0][0]']   \n",
            "                                                                                                  \n",
            " block_5_project (Conv2D)       (None, 28, 28, 32)   6144        ['block_5_depthwise_relu[0][0]'] \n",
            "                                                                                                  \n",
            " block_5_project_BN (BatchNorma  (None, 28, 28, 32)  128         ['block_5_project[0][0]']        \n",
            " lization)                                                                                        \n",
            "                                                                                                  \n",
            " block_5_add (Add)              (None, 28, 28, 32)   0           ['block_4_add[0][0]',            \n",
            "                                                                  'block_5_project_BN[0][0]']     \n",
            "                                                                                                  \n",
            " block_6_expand (Conv2D)        (None, 28, 28, 192)  6144        ['block_5_add[0][0]']            \n",
            "                                                                                                  \n",
            " block_6_expand_BN (BatchNormal  (None, 28, 28, 192)  768        ['block_6_expand[0][0]']         \n",
            " ization)                                                                                         \n",
            "                                                                                                  \n",
            " block_6_expand_relu (ReLU)     (None, 28, 28, 192)  0           ['block_6_expand_BN[0][0]']      \n",
            "                                                                                                  \n",
            " block_6_pad (ZeroPadding2D)    (None, 29, 29, 192)  0           ['block_6_expand_relu[0][0]']    \n",
            "                                                                                                  \n",
            " block_6_depthwise (DepthwiseCo  (None, 14, 14, 192)  1728       ['block_6_pad[0][0]']            \n",
            " nv2D)                                                                                            \n",
            "                                                                                                  \n",
            " block_6_depthwise_BN (BatchNor  (None, 14, 14, 192)  768        ['block_6_depthwise[0][0]']      \n",
            " malization)                                                                                      \n",
            "                                                                                                  \n",
            " block_6_depthwise_relu (ReLU)  (None, 14, 14, 192)  0           ['block_6_depthwise_BN[0][0]']   \n",
            "                                                                                                  \n",
            " block_6_project (Conv2D)       (None, 14, 14, 64)   12288       ['block_6_depthwise_relu[0][0]'] \n",
            "                                                                                                  \n",
            " block_6_project_BN (BatchNorma  (None, 14, 14, 64)  256         ['block_6_project[0][0]']        \n",
            " lization)                                                                                        \n",
            "                                                                                                  \n",
            " block_7_expand (Conv2D)        (None, 14, 14, 384)  24576       ['block_6_project_BN[0][0]']     \n",
            "                                                                                                  \n",
            " block_7_expand_BN (BatchNormal  (None, 14, 14, 384)  1536       ['block_7_expand[0][0]']         \n",
            " ization)                                                                                         \n",
            "                                                                                                  \n",
            " block_7_expand_relu (ReLU)     (None, 14, 14, 384)  0           ['block_7_expand_BN[0][0]']      \n",
            "                                                                                                  \n",
            " block_7_depthwise (DepthwiseCo  (None, 14, 14, 384)  3456       ['block_7_expand_relu[0][0]']    \n",
            " nv2D)                                                                                            \n",
            "                                                                                                  \n",
            " block_7_depthwise_BN (BatchNor  (None, 14, 14, 384)  1536       ['block_7_depthwise[0][0]']      \n",
            " malization)                                                                                      \n",
            "                                                                                                  \n",
            " block_7_depthwise_relu (ReLU)  (None, 14, 14, 384)  0           ['block_7_depthwise_BN[0][0]']   \n",
            "                                                                                                  \n",
            " block_7_project (Conv2D)       (None, 14, 14, 64)   24576       ['block_7_depthwise_relu[0][0]'] \n",
            "                                                                                                  \n",
            " block_7_project_BN (BatchNorma  (None, 14, 14, 64)  256         ['block_7_project[0][0]']        \n",
            " lization)                                                                                        \n",
            "                                                                                                  \n",
            " block_7_add (Add)              (None, 14, 14, 64)   0           ['block_6_project_BN[0][0]',     \n",
            "                                                                  'block_7_project_BN[0][0]']     \n",
            "                                                                                                  \n",
            " block_8_expand (Conv2D)        (None, 14, 14, 384)  24576       ['block_7_add[0][0]']            \n",
            "                                                                                                  \n",
            " block_8_expand_BN (BatchNormal  (None, 14, 14, 384)  1536       ['block_8_expand[0][0]']         \n",
            " ization)                                                                                         \n",
            "                                                                                                  \n",
            " block_8_expand_relu (ReLU)     (None, 14, 14, 384)  0           ['block_8_expand_BN[0][0]']      \n",
            "                                                                                                  \n",
            " block_8_depthwise (DepthwiseCo  (None, 14, 14, 384)  3456       ['block_8_expand_relu[0][0]']    \n",
            " nv2D)                                                                                            \n",
            "                                                                                                  \n",
            " block_8_depthwise_BN (BatchNor  (None, 14, 14, 384)  1536       ['block_8_depthwise[0][0]']      \n",
            " malization)                                                                                      \n",
            "                                                                                                  \n",
            " block_8_depthwise_relu (ReLU)  (None, 14, 14, 384)  0           ['block_8_depthwise_BN[0][0]']   \n",
            "                                                                                                  \n",
            " block_8_project (Conv2D)       (None, 14, 14, 64)   24576       ['block_8_depthwise_relu[0][0]'] \n",
            "                                                                                                  \n",
            " block_8_project_BN (BatchNorma  (None, 14, 14, 64)  256         ['block_8_project[0][0]']        \n",
            " lization)                                                                                        \n",
            "                                                                                                  \n",
            " block_8_add (Add)              (None, 14, 14, 64)   0           ['block_7_add[0][0]',            \n",
            "                                                                  'block_8_project_BN[0][0]']     \n",
            "                                                                                                  \n",
            " block_9_expand (Conv2D)        (None, 14, 14, 384)  24576       ['block_8_add[0][0]']            \n",
            "                                                                                                  \n",
            " block_9_expand_BN (BatchNormal  (None, 14, 14, 384)  1536       ['block_9_expand[0][0]']         \n",
            " ization)                                                                                         \n",
            "                                                                                                  \n",
            " block_9_expand_relu (ReLU)     (None, 14, 14, 384)  0           ['block_9_expand_BN[0][0]']      \n",
            "                                                                                                  \n",
            " block_9_depthwise (DepthwiseCo  (None, 14, 14, 384)  3456       ['block_9_expand_relu[0][0]']    \n",
            " nv2D)                                                                                            \n",
            "                                                                                                  \n",
            " block_9_depthwise_BN (BatchNor  (None, 14, 14, 384)  1536       ['block_9_depthwise[0][0]']      \n",
            " malization)                                                                                      \n",
            "                                                                                                  \n",
            " block_9_depthwise_relu (ReLU)  (None, 14, 14, 384)  0           ['block_9_depthwise_BN[0][0]']   \n",
            "                                                                                                  \n",
            " block_9_project (Conv2D)       (None, 14, 14, 64)   24576       ['block_9_depthwise_relu[0][0]'] \n",
            "                                                                                                  \n",
            " block_9_project_BN (BatchNorma  (None, 14, 14, 64)  256         ['block_9_project[0][0]']        \n",
            " lization)                                                                                        \n",
            "                                                                                                  \n",
            " block_9_add (Add)              (None, 14, 14, 64)   0           ['block_8_add[0][0]',            \n",
            "                                                                  'block_9_project_BN[0][0]']     \n",
            "                                                                                                  \n",
            " block_10_expand (Conv2D)       (None, 14, 14, 384)  24576       ['block_9_add[0][0]']            \n",
            "                                                                                                  \n",
            " block_10_expand_BN (BatchNorma  (None, 14, 14, 384)  1536       ['block_10_expand[0][0]']        \n",
            " lization)                                                                                        \n",
            "                                                                                                  \n",
            " block_10_expand_relu (ReLU)    (None, 14, 14, 384)  0           ['block_10_expand_BN[0][0]']     \n",
            "                                                                                                  \n",
            " block_10_depthwise (DepthwiseC  (None, 14, 14, 384)  3456       ['block_10_expand_relu[0][0]']   \n",
            " onv2D)                                                                                           \n",
            "                                                                                                  \n",
            " block_10_depthwise_BN (BatchNo  (None, 14, 14, 384)  1536       ['block_10_depthwise[0][0]']     \n",
            " rmalization)                                                                                     \n",
            "                                                                                                  \n",
            " block_10_depthwise_relu (ReLU)  (None, 14, 14, 384)  0          ['block_10_depthwise_BN[0][0]']  \n",
            "                                                                                                  \n",
            " block_10_project (Conv2D)      (None, 14, 14, 96)   36864       ['block_10_depthwise_relu[0][0]']\n",
            "                                                                                                  \n",
            " block_10_project_BN (BatchNorm  (None, 14, 14, 96)  384         ['block_10_project[0][0]']       \n",
            " alization)                                                                                       \n",
            "                                                                                                  \n",
            " block_11_expand (Conv2D)       (None, 14, 14, 576)  55296       ['block_10_project_BN[0][0]']    \n",
            "                                                                                                  \n",
            " block_11_expand_BN (BatchNorma  (None, 14, 14, 576)  2304       ['block_11_expand[0][0]']        \n",
            " lization)                                                                                        \n",
            "                                                                                                  \n",
            " block_11_expand_relu (ReLU)    (None, 14, 14, 576)  0           ['block_11_expand_BN[0][0]']     \n",
            "                                                                                                  \n",
            " block_11_depthwise (DepthwiseC  (None, 14, 14, 576)  5184       ['block_11_expand_relu[0][0]']   \n",
            " onv2D)                                                                                           \n",
            "                                                                                                  \n",
            " block_11_depthwise_BN (BatchNo  (None, 14, 14, 576)  2304       ['block_11_depthwise[0][0]']     \n",
            " rmalization)                                                                                     \n",
            "                                                                                                  \n",
            " block_11_depthwise_relu (ReLU)  (None, 14, 14, 576)  0          ['block_11_depthwise_BN[0][0]']  \n",
            "                                                                                                  \n",
            " block_11_project (Conv2D)      (None, 14, 14, 96)   55296       ['block_11_depthwise_relu[0][0]']\n",
            "                                                                                                  \n",
            " block_11_project_BN (BatchNorm  (None, 14, 14, 96)  384         ['block_11_project[0][0]']       \n",
            " alization)                                                                                       \n",
            "                                                                                                  \n",
            " block_11_add (Add)             (None, 14, 14, 96)   0           ['block_10_project_BN[0][0]',    \n",
            "                                                                  'block_11_project_BN[0][0]']    \n",
            "                                                                                                  \n",
            " block_12_expand (Conv2D)       (None, 14, 14, 576)  55296       ['block_11_add[0][0]']           \n",
            "                                                                                                  \n",
            " block_12_expand_BN (BatchNorma  (None, 14, 14, 576)  2304       ['block_12_expand[0][0]']        \n",
            " lization)                                                                                        \n",
            "                                                                                                  \n",
            " block_12_expand_relu (ReLU)    (None, 14, 14, 576)  0           ['block_12_expand_BN[0][0]']     \n",
            "                                                                                                  \n",
            " block_12_depthwise (DepthwiseC  (None, 14, 14, 576)  5184       ['block_12_expand_relu[0][0]']   \n",
            " onv2D)                                                                                           \n",
            "                                                                                                  \n",
            " block_12_depthwise_BN (BatchNo  (None, 14, 14, 576)  2304       ['block_12_depthwise[0][0]']     \n",
            " rmalization)                                                                                     \n",
            "                                                                                                  \n",
            " block_12_depthwise_relu (ReLU)  (None, 14, 14, 576)  0          ['block_12_depthwise_BN[0][0]']  \n",
            "                                                                                                  \n",
            " block_12_project (Conv2D)      (None, 14, 14, 96)   55296       ['block_12_depthwise_relu[0][0]']\n",
            "                                                                                                  \n",
            " block_12_project_BN (BatchNorm  (None, 14, 14, 96)  384         ['block_12_project[0][0]']       \n",
            " alization)                                                                                       \n",
            "                                                                                                  \n",
            " block_12_add (Add)             (None, 14, 14, 96)   0           ['block_11_add[0][0]',           \n",
            "                                                                  'block_12_project_BN[0][0]']    \n",
            "                                                                                                  \n",
            " block_13_expand (Conv2D)       (None, 14, 14, 576)  55296       ['block_12_add[0][0]']           \n",
            "                                                                                                  \n",
            " block_13_expand_BN (BatchNorma  (None, 14, 14, 576)  2304       ['block_13_expand[0][0]']        \n",
            " lization)                                                                                        \n",
            "                                                                                                  \n",
            " block_13_expand_relu (ReLU)    (None, 14, 14, 576)  0           ['block_13_expand_BN[0][0]']     \n",
            "                                                                                                  \n",
            " block_13_pad (ZeroPadding2D)   (None, 15, 15, 576)  0           ['block_13_expand_relu[0][0]']   \n",
            "                                                                                                  \n",
            " block_13_depthwise (DepthwiseC  (None, 7, 7, 576)   5184        ['block_13_pad[0][0]']           \n",
            " onv2D)                                                                                           \n",
            "                                                                                                  \n",
            " block_13_depthwise_BN (BatchNo  (None, 7, 7, 576)   2304        ['block_13_depthwise[0][0]']     \n",
            " rmalization)                                                                                     \n",
            "                                                                                                  \n",
            " block_13_depthwise_relu (ReLU)  (None, 7, 7, 576)   0           ['block_13_depthwise_BN[0][0]']  \n",
            "                                                                                                  \n",
            " block_13_project (Conv2D)      (None, 7, 7, 160)    92160       ['block_13_depthwise_relu[0][0]']\n",
            "                                                                                                  \n",
            " block_13_project_BN (BatchNorm  (None, 7, 7, 160)   640         ['block_13_project[0][0]']       \n",
            " alization)                                                                                       \n",
            "                                                                                                  \n",
            " block_14_expand (Conv2D)       (None, 7, 7, 960)    153600      ['block_13_project_BN[0][0]']    \n",
            "                                                                                                  \n",
            " block_14_expand_BN (BatchNorma  (None, 7, 7, 960)   3840        ['block_14_expand[0][0]']        \n",
            " lization)                                                                                        \n",
            "                                                                                                  \n",
            " block_14_expand_relu (ReLU)    (None, 7, 7, 960)    0           ['block_14_expand_BN[0][0]']     \n",
            "                                                                                                  \n",
            " block_14_depthwise (DepthwiseC  (None, 7, 7, 960)   8640        ['block_14_expand_relu[0][0]']   \n",
            " onv2D)                                                                                           \n",
            "                                                                                                  \n",
            " block_14_depthwise_BN (BatchNo  (None, 7, 7, 960)   3840        ['block_14_depthwise[0][0]']     \n",
            " rmalization)                                                                                     \n",
            "                                                                                                  \n",
            " block_14_depthwise_relu (ReLU)  (None, 7, 7, 960)   0           ['block_14_depthwise_BN[0][0]']  \n",
            "                                                                                                  \n",
            " block_14_project (Conv2D)      (None, 7, 7, 160)    153600      ['block_14_depthwise_relu[0][0]']\n",
            "                                                                                                  \n",
            " block_14_project_BN (BatchNorm  (None, 7, 7, 160)   640         ['block_14_project[0][0]']       \n",
            " alization)                                                                                       \n",
            "                                                                                                  \n",
            " block_14_add (Add)             (None, 7, 7, 160)    0           ['block_13_project_BN[0][0]',    \n",
            "                                                                  'block_14_project_BN[0][0]']    \n",
            "                                                                                                  \n",
            " block_15_expand (Conv2D)       (None, 7, 7, 960)    153600      ['block_14_add[0][0]']           \n",
            "                                                                                                  \n",
            " block_15_expand_BN (BatchNorma  (None, 7, 7, 960)   3840        ['block_15_expand[0][0]']        \n",
            " lization)                                                                                        \n",
            "                                                                                                  \n",
            " block_15_expand_relu (ReLU)    (None, 7, 7, 960)    0           ['block_15_expand_BN[0][0]']     \n",
            "                                                                                                  \n",
            " block_15_depthwise (DepthwiseC  (None, 7, 7, 960)   8640        ['block_15_expand_relu[0][0]']   \n",
            " onv2D)                                                                                           \n",
            "                                                                                                  \n",
            " block_15_depthwise_BN (BatchNo  (None, 7, 7, 960)   3840        ['block_15_depthwise[0][0]']     \n",
            " rmalization)                                                                                     \n",
            "                                                                                                  \n",
            " block_15_depthwise_relu (ReLU)  (None, 7, 7, 960)   0           ['block_15_depthwise_BN[0][0]']  \n",
            "                                                                                                  \n",
            " block_15_project (Conv2D)      (None, 7, 7, 160)    153600      ['block_15_depthwise_relu[0][0]']\n",
            "                                                                                                  \n",
            " block_15_project_BN (BatchNorm  (None, 7, 7, 160)   640         ['block_15_project[0][0]']       \n",
            " alization)                                                                                       \n",
            "                                                                                                  \n",
            " block_15_add (Add)             (None, 7, 7, 160)    0           ['block_14_add[0][0]',           \n",
            "                                                                  'block_15_project_BN[0][0]']    \n",
            "                                                                                                  \n",
            " block_16_expand (Conv2D)       (None, 7, 7, 960)    153600      ['block_15_add[0][0]']           \n",
            "                                                                                                  \n",
            " block_16_expand_BN (BatchNorma  (None, 7, 7, 960)   3840        ['block_16_expand[0][0]']        \n",
            " lization)                                                                                        \n",
            "                                                                                                  \n",
            " block_16_expand_relu (ReLU)    (None, 7, 7, 960)    0           ['block_16_expand_BN[0][0]']     \n",
            "                                                                                                  \n",
            " block_16_depthwise (DepthwiseC  (None, 7, 7, 960)   8640        ['block_16_expand_relu[0][0]']   \n",
            " onv2D)                                                                                           \n",
            "                                                                                                  \n",
            " block_16_depthwise_BN (BatchNo  (None, 7, 7, 960)   3840        ['block_16_depthwise[0][0]']     \n",
            " rmalization)                                                                                     \n",
            "                                                                                                  \n",
            " block_16_depthwise_relu (ReLU)  (None, 7, 7, 960)   0           ['block_16_depthwise_BN[0][0]']  \n",
            "                                                                                                  \n",
            " block_16_project (Conv2D)      (None, 7, 7, 320)    307200      ['block_16_depthwise_relu[0][0]']\n",
            "                                                                                                  \n",
            " block_16_project_BN (BatchNorm  (None, 7, 7, 320)   1280        ['block_16_project[0][0]']       \n",
            " alization)                                                                                       \n",
            "                                                                                                  \n",
            " Conv_1 (Conv2D)                (None, 7, 7, 1280)   409600      ['block_16_project_BN[0][0]']    \n",
            "                                                                                                  \n",
            " Conv_1_bn (BatchNormalization)  (None, 7, 7, 1280)  5120        ['Conv_1[0][0]']                 \n",
            "                                                                                                  \n",
            " out_relu (ReLU)                (None, 7, 7, 1280)   0           ['Conv_1_bn[0][0]']              \n",
            "                                                                                                  \n",
            "==================================================================================================\n",
            "Total params: 2,257,984\n",
            "Trainable params: 0\n",
            "Non-trainable params: 2,257,984\n",
            "__________________________________________________________________________________________________\n"
          ]
        }
      ]
    },
    {
      "cell_type": "code",
      "execution_count": null,
      "metadata": {
        "colab": {
          "base_uri": "https://localhost:8080/"
        },
        "id": "deDTTZJeabUa",
        "outputId": "047194f7-7a34-469d-fb95-45bc0a509b04"
      },
      "outputs": [
        {
          "output_type": "stream",
          "name": "stdout",
          "text": [
            "Model: \"model\"\n",
            "_________________________________________________________________\n",
            " Layer (type)                Output Shape              Param #   \n",
            "=================================================================\n",
            " input_2 (InputLayer)        [(None, 224, 224, 3)]     0         \n",
            "                                                                 \n",
            " mobilenetv2_1.00_224 (Funct  (None, 7, 7, 1280)       2257984   \n",
            " ional)                                                          \n",
            "                                                                 \n",
            " global_average_pooling2d (G  (None, 1280)             0         \n",
            " lobalAveragePooling2D)                                          \n",
            "                                                                 \n",
            " dense (Dense)               (None, 5)                 6405      \n",
            "                                                                 \n",
            "=================================================================\n",
            "Total params: 2,264,389\n",
            "Trainable params: 6,405\n",
            "Non-trainable params: 2,257,984\n",
            "_________________________________________________________________\n"
          ]
        }
      ],
      "source": [
        "## Model MobileNetV2 Orisinal\n",
        "input_layer = tf.keras.Input(shape=INPUT_SHAPE)\n",
        "\n",
        "model_layers = base_model(input_layer)\n",
        "model_layers = GlobalAveragePooling2D()(model_layers)\n",
        "output_layers=Dense(5, activation='softmax')(model_layers)\n",
        "\n",
        "model = tf.keras.Model(input_layer, output_layers)\n",
        "\n",
        "model.summary()\n"
      ]
    },
    {
      "cell_type": "code",
      "execution_count": null,
      "metadata": {
        "colab": {
          "base_uri": "https://localhost:8080/",
          "height": 355
        },
        "id": "4OJcmH8BH__A",
        "outputId": "c2c4afb6-347c-4a64-f74d-532785f12202"
      },
      "outputs": [
        {
          "output_type": "execute_result",
          "data": {
            "text/plain": [
              "<IPython.core.display.Image object>"
            ],
            "image/png": "[encoded data removed]"
          },
          "metadata": {},
          "execution_count": 34
        }
      ],
      "source": [
        "model_viz = tf.keras.utils.plot_model(model,\n",
        "                                      to_file='/content/drive/MyDrive/TUGAS AKHIRKU/new_dataset/flower_dataset/output/model/model_mobilenetv2_orisinal/model_orisinal.png',\n",
        "                                      show_shapes=True,\n",
        "                                      show_layer_names=True,\n",
        "                                      dpi = 80\n",
        "                                      \n",
        ")\n",
        "\n",
        "model_viz\n"
      ]
    },
    {
      "cell_type": "code",
      "execution_count": null,
      "metadata": {
        "id": "eaVtoNvca3Za"
      },
      "outputs": [],
      "source": [
        "model.compile(optimizer=Adam(learning_rate=0.0001), \n",
        "                loss='categorical_crossentropy', \n",
        "                metrics=['acc'])"
      ]
    },
    {
      "cell_type": "markdown",
      "metadata": {
        "id": "k3ScvKLFbP1X"
      },
      "source": [
        "## Training Model"
      ]
    },
    {
      "cell_type": "code",
      "execution_count": null,
      "metadata": {
        "colab": {
          "base_uri": "https://localhost:8080/"
        },
        "id": "GPad7FDebH2L",
        "outputId": "30defed6-5db1-4a02-af6a-a1107d7455c0"
      },
      "outputs": [
        {
          "output_type": "stream",
          "name": "stdout",
          "text": [
            "Epoch 1/10\n",
            "114/309 [==========>...................] - ETA: 17:23 - loss: 1.2367 - acc: 0.5003"
          ]
        }
      ],
      "source": [
        "import time\n",
        "\n",
        "start = time.time()\n",
        "\n",
        "hist = model.fit(train_generator,\n",
        "              steps_per_epoch=len(train_generator),\n",
        "              epochs=10,\n",
        "              #epochs=15\n",
        "              #epochs=30\n",
        "              verbose=1,\n",
        "              validation_steps=len(val_generator),\n",
        "              validation_data=val_generator\n",
        "              )\n",
        "print(\"Total time: \", time.time() - start, \"seconds\")"
      ]
    },
    {
      "cell_type": "code",
      "execution_count": null,
      "metadata": {
        "colab": {
          "base_uri": "https://localhost:8080/",
          "height": 363
        },
        "id": "lQQTtOgCbOwb",
        "outputId": "bf90125d-15f6-48cf-cfc3-bc92fb33f13b"
      },
      "outputs": [
        {
          "output_type": "execute_result",
          "data": {
            "text/plain": [
              "       loss       acc  val_loss   val_acc  epoch\n",
              "0  0.981357  0.649757  0.543859  0.849026      0\n",
              "1  0.394262  0.898339  0.348534  0.905032      1\n",
              "2  0.275385  0.927602  0.273012  0.926136      2\n",
              "3  0.218321  0.941778  0.230249  0.934253      3\n",
              "4  0.183437  0.950284  0.201546  0.943182      4\n",
              "5  0.158833  0.958283  0.180900  0.949675      5\n",
              "6  0.140374  0.964054  0.162972  0.953734      6\n",
              "7  0.125425  0.969117  0.149752  0.955357      7\n",
              "8  0.113279  0.971851  0.140661  0.956169      8\n",
              "9  0.103079  0.976104  0.130945  0.961039      9"
            ],
            "text/html": [
              "\n",
              "  <div id=\"df-495e1029-b458-4176-a51a-b2eb901c82f3\">\n",
              "    <div class=\"colab-df-container\">\n",
              "      <div>\n",
              "<style scoped>\n",
              "    .dataframe tbody tr th:only-of-type {\n",
              "        vertical-align: middle;\n",
              "    }\n",
              "\n",
              "    .dataframe tbody tr th {\n",
              "        vertical-align: top;\n",
              "    }\n",
              "\n",
              "    .dataframe thead th {\n",
              "        text-align: right;\n",
              "    }\n",
              "</style>\n",
              "<table border=\"1\" class=\"dataframe\">\n",
              "  <thead>\n",
              "    <tr style=\"text-align: right;\">\n",
              "      <th></th>\n",
              "      <th>loss</th>\n",
              "      <th>acc</th>\n",
              "      <th>val_loss</th>\n",
              "      <th>val_acc</th>\n",
              "      <th>epoch</th>\n",
              "    </tr>\n",
              "  </thead>\n",
              "  <tbody>\n",
              "    <tr>\n",
              "      <th>0</th>\n",
              "      <td>0.981357</td>\n",
              "      <td>0.649757</td>\n",
              "      <td>0.543859</td>\n",
              "      <td>0.849026</td>\n",
              "      <td>0</td>\n",
              "    </tr>\n",
              "    <tr>\n",
              "      <th>1</th>\n",
              "      <td>0.394262</td>\n",
              "      <td>0.898339</td>\n",
              "      <td>0.348534</td>\n",
              "      <td>0.905032</td>\n",
              "      <td>1</td>\n",
              "    </tr>\n",
              "    <tr>\n",
              "      <th>2</th>\n",
              "      <td>0.275385</td>\n",
              "      <td>0.927602</td>\n",
              "      <td>0.273012</td>\n",
              "      <td>0.926136</td>\n",
              "      <td>2</td>\n",
              "    </tr>\n",
              "    <tr>\n",
              "      <th>3</th>\n",
              "      <td>0.218321</td>\n",
              "      <td>0.941778</td>\n",
              "      <td>0.230249</td>\n",
              "      <td>0.934253</td>\n",
              "      <td>3</td>\n",
              "    </tr>\n",
              "    <tr>\n",
              "      <th>4</th>\n",
              "      <td>0.183437</td>\n",
              "      <td>0.950284</td>\n",
              "      <td>0.201546</td>\n",
              "      <td>0.943182</td>\n",
              "      <td>4</td>\n",
              "    </tr>\n",
              "    <tr>\n",
              "      <th>5</th>\n",
              "      <td>0.158833</td>\n",
              "      <td>0.958283</td>\n",
              "      <td>0.180900</td>\n",
              "      <td>0.949675</td>\n",
              "      <td>5</td>\n",
              "    </tr>\n",
              "    <tr>\n",
              "      <th>6</th>\n",
              "      <td>0.140374</td>\n",
              "      <td>0.964054</td>\n",
              "      <td>0.162972</td>\n",
              "      <td>0.953734</td>\n",
              "      <td>6</td>\n",
              "    </tr>\n",
              "    <tr>\n",
              "      <th>7</th>\n",
              "      <td>0.125425</td>\n",
              "      <td>0.969117</td>\n",
              "      <td>0.149752</td>\n",
              "      <td>0.955357</td>\n",
              "      <td>7</td>\n",
              "    </tr>\n",
              "    <tr>\n",
              "      <th>8</th>\n",
              "      <td>0.113279</td>\n",
              "      <td>0.971851</td>\n",
              "      <td>0.140661</td>\n",
              "      <td>0.956169</td>\n",
              "      <td>8</td>\n",
              "    </tr>\n",
              "    <tr>\n",
              "      <th>9</th>\n",
              "      <td>0.103079</td>\n",
              "      <td>0.976104</td>\n",
              "      <td>0.130945</td>\n",
              "      <td>0.961039</td>\n",
              "      <td>9</td>\n",
              "    </tr>\n",
              "  </tbody>\n",
              "</table>\n",
              "</div>\n",
              "      <button class=\"colab-df-convert\" onclick=\"convertToInteractive('df-495e1029-b458-4176-a51a-b2eb901c82f3')\"\n",
              "              title=\"Convert this dataframe to an interactive table.\"\n",
              "              style=\"display:none;\">\n",
              "        \n",
              "  <svg xmlns=\"http://www.w3.org/2000/svg\" height=\"24px\"viewBox=\"0 0 24 24\"\n",
              "       width=\"24px\">\n",
              "    <path d=\"M0 0h24v24H0V0z\" fill=\"none\"/>\n",
              "    <path d=\"M18.56 5.44l.94 2.06.94-2.06 2.06-.94-2.06-.94-.94-2.06-.94 2.06-2.06.94zm-11 1L8.5 8.5l.94-2.06 2.06-.94-2.06-.94L8.5 2.5l-.94 2.06-2.06.94zm10 10l.94 2.06.94-2.06 2.06-.94-2.06-.94-.94-2.06-.94 2.06-2.06.94z\"/><path d=\"M17.41 7.96l-1.37-1.37c-.4-.4-.92-.59-1.43-.59-.52 0-1.04.2-1.43.59L10.3 9.45l-7.72 7.72c-.78.78-.78 2.05 0 2.83L4 21.41c.39.39.9.59 1.41.59.51 0 1.02-.2 1.41-.59l7.78-7.78 2.81-2.81c.8-.78.8-2.07 0-2.86zM5.41 20L4 18.59l7.72-7.72 1.47 1.35L5.41 20z\"/>\n",
              "  </svg>\n",
              "      </button>\n",
              "      \n",
              "  <style>\n",
              "    .colab-df-container {\n",
              "      display:flex;\n",
              "      flex-wrap:wrap;\n",
              "      gap: 12px;\n",
              "    }\n",
              "\n",
              "    .colab-df-convert {\n",
              "      background-color: #E8F0FE;\n",
              "      border: none;\n",
              "      border-radius: 50%;\n",
              "      cursor: pointer;\n",
              "      display: none;\n",
              "      fill: #1967D2;\n",
              "      height: 32px;\n",
              "      padding: 0 0 0 0;\n",
              "      width: 32px;\n",
              "    }\n",
              "\n",
              "    .colab-df-convert:hover {\n",
              "      background-color: #E2EBFA;\n",
              "      box-shadow: 0px 1px 2px rgba(60, 64, 67, 0.3), 0px 1px 3px 1px rgba(60, 64, 67, 0.15);\n",
              "      fill: #174EA6;\n",
              "    }\n",
              "\n",
              "    [theme=dark] .colab-df-convert {\n",
              "      background-color: #3B4455;\n",
              "      fill: #D2E3FC;\n",
              "    }\n",
              "\n",
              "    [theme=dark] .colab-df-convert:hover {\n",
              "      background-color: #434B5C;\n",
              "      box-shadow: 0px 1px 3px 1px rgba(0, 0, 0, 0.15);\n",
              "      filter: drop-shadow(0px 1px 2px rgba(0, 0, 0, 0.3));\n",
              "      fill: #FFFFFF;\n",
              "    }\n",
              "  </style>\n",
              "\n",
              "      <script>\n",
              "        const buttonEl =\n",
              "          document.querySelector('#df-495e1029-b458-4176-a51a-b2eb901c82f3 button.colab-df-convert');\n",
              "        buttonEl.style.display =\n",
              "          google.colab.kernel.accessAllowed ? 'block' : 'none';\n",
              "\n",
              "        async function convertToInteractive(key) {\n",
              "          const element = document.querySelector('#df-495e1029-b458-4176-a51a-b2eb901c82f3');\n",
              "          const dataTable =\n",
              "            await google.colab.kernel.invokeFunction('convertToInteractive',\n",
              "                                                     [key], {});\n",
              "          if (!dataTable) return;\n",
              "\n",
              "          const docLinkHtml = 'Like what you see? Visit the ' +\n",
              "            '<a target=\"_blank\" href=https://colab.research.google.com/notebooks/data_table.ipynb>data table notebook</a>'\n",
              "            + ' to learn more about interactive tables.';\n",
              "          element.innerHTML = '';\n",
              "          dataTable['output_type'] = 'display_data';\n",
              "          await google.colab.output.renderOutput(dataTable, element);\n",
              "          const docLink = document.createElement('div');\n",
              "          docLink.innerHTML = docLinkHtml;\n",
              "          element.appendChild(docLink);\n",
              "        }\n",
              "      </script>\n",
              "    </div>\n",
              "  </div>\n",
              "  "
            ]
          },
          "metadata": {},
          "execution_count": 23
        }
      ],
      "source": [
        "import pandas as pd\n",
        "\n",
        "history = pd.DataFrame(hist.history)\n",
        "history['epoch'] = hist.epoch\n",
        "history"
      ]
    },
    {
      "cell_type": "code",
      "execution_count": null,
      "metadata": {
        "colab": {
          "base_uri": "https://localhost:8080/",
          "height": 558
        },
        "id": "B1Tb8AkDehA6",
        "outputId": "8b6c1366-38d6-46a4-a569-8c6c20a06106"
      },
      "outputs": [
        {
          "output_type": "display_data",
          "data": {
            "text/plain": [
              "<Figure size 432x288 with 1 Axes>"
            ],
            "image/png": "[encoded data removed]"
          },
          "metadata": {
            "needs_background": "light"
          }
        },
        {
          "output_type": "display_data",
          "data": {
            "text/plain": [
              "<Figure size 432x288 with 1 Axes>"
            ],
            "image/png": "[encoded data removed]"
          },
          "metadata": {
            "needs_background": "light"
          }
        },
        {
          "output_type": "display_data",
          "data": {
            "text/plain": [
              "<Figure size 432x288 with 0 Axes>"
            ]
          },
          "metadata": {}
        }
      ],
      "source": [
        "import matplotlib.pyplot as plt\n",
        "# plot the loss\n",
        "plt.plot(hist.history['loss'], label='train loss')\n",
        "plt.plot(hist.history['val_loss'], label='val loss')\n",
        "plt.xlabel('epoch')\n",
        "plt.ylabel('loss')\n",
        "plt.legend()\n",
        "plt.show()\n",
        "plt.savefig('LossVal_loss')\n",
        "\n",
        "# plot the accuracy\n",
        "plt.plot(hist.history['acc'], label='train acc')\n",
        "plt.plot(hist.history['val_acc'], label='val acc')\n",
        "plt.xlabel('epoch')\n",
        "plt.ylabel('accuracy')\n",
        "plt.legend()\n",
        "plt.show()\n",
        "plt.savefig('AccVal_acc')"
      ]
    },
    {
      "cell_type": "code",
      "execution_count": null,
      "metadata": {
        "id": "pDKcgCAiWFtW"
      },
      "outputs": [],
      "source": [
        ""
      ]
    },
    {
      "cell_type": "markdown",
      "metadata": {
        "id": "wao4zV1YfXCs"
      },
      "source": [
        "# Test"
      ]
    },
    {
      "cell_type": "code",
      "execution_count": null,
      "metadata": {
        "colab": {
          "base_uri": "https://localhost:8080/",
          "height": 206
        },
        "id": "a3TL9lhjeoCA",
        "outputId": "04caf8d9-50c4-40aa-8fd7-822a9324ed52"
      },
      "outputs": [
        {
          "data": {
            "text/html": [
              "\n",
              "  <div id=\"df-8134562f-0e5c-47a2-bf59-b9446ae3b137\">\n",
              "    <div class=\"colab-df-container\">\n",
              "      <div>\n",
              "<style scoped>\n",
              "    .dataframe tbody tr th:only-of-type {\n",
              "        vertical-align: middle;\n",
              "    }\n",
              "\n",
              "    .dataframe tbody tr th {\n",
              "        vertical-align: top;\n",
              "    }\n",
              "\n",
              "    .dataframe thead th {\n",
              "        text-align: right;\n",
              "    }\n",
              "</style>\n",
              "<table border=\"1\" class=\"dataframe\">\n",
              "  <thead>\n",
              "    <tr style=\"text-align: right;\">\n",
              "      <th></th>\n",
              "      <th>image</th>\n",
              "      <th>target</th>\n",
              "    </tr>\n",
              "  </thead>\n",
              "  <tbody>\n",
              "    <tr>\n",
              "      <th>1234</th>\n",
              "      <td>/content/drive/MyDrive/TUGAS AKHIRKU/new_datas...</td>\n",
              "      <td>baby_breath</td>\n",
              "    </tr>\n",
              "    <tr>\n",
              "      <th>1235</th>\n",
              "      <td>/content/drive/MyDrive/TUGAS AKHIRKU/new_datas...</td>\n",
              "      <td>baby_breath</td>\n",
              "    </tr>\n",
              "    <tr>\n",
              "      <th>1236</th>\n",
              "      <td>/content/drive/MyDrive/TUGAS AKHIRKU/new_datas...</td>\n",
              "      <td>baby_breath</td>\n",
              "    </tr>\n",
              "    <tr>\n",
              "      <th>1237</th>\n",
              "      <td>/content/drive/MyDrive/TUGAS AKHIRKU/new_datas...</td>\n",
              "      <td>baby_breath</td>\n",
              "    </tr>\n",
              "    <tr>\n",
              "      <th>1238</th>\n",
              "      <td>/content/drive/MyDrive/TUGAS AKHIRKU/new_datas...</td>\n",
              "      <td>baby_breath</td>\n",
              "    </tr>\n",
              "  </tbody>\n",
              "</table>\n",
              "</div>\n",
              "      <button class=\"colab-df-convert\" onclick=\"convertToInteractive('df-8134562f-0e5c-47a2-bf59-b9446ae3b137')\"\n",
              "              title=\"Convert this dataframe to an interactive table.\"\n",
              "              style=\"display:none;\">\n",
              "        \n",
              "  <svg xmlns=\"http://www.w3.org/2000/svg\" height=\"24px\"viewBox=\"0 0 24 24\"\n",
              "       width=\"24px\">\n",
              "    <path d=\"M0 0h24v24H0V0z\" fill=\"none\"/>\n",
              "    <path d=\"M18.56 5.44l.94 2.06.94-2.06 2.06-.94-2.06-.94-.94-2.06-.94 2.06-2.06.94zm-11 1L8.5 8.5l.94-2.06 2.06-.94-2.06-.94L8.5 2.5l-.94 2.06-2.06.94zm10 10l.94 2.06.94-2.06 2.06-.94-2.06-.94-.94-2.06-.94 2.06-2.06.94z\"/><path d=\"M17.41 7.96l-1.37-1.37c-.4-.4-.92-.59-1.43-.59-.52 0-1.04.2-1.43.59L10.3 9.45l-7.72 7.72c-.78.78-.78 2.05 0 2.83L4 21.41c.39.39.9.59 1.41.59.51 0 1.02-.2 1.41-.59l7.78-7.78 2.81-2.81c.8-.78.8-2.07 0-2.86zM5.41 20L4 18.59l7.72-7.72 1.47 1.35L5.41 20z\"/>\n",
              "  </svg>\n",
              "      </button>\n",
              "      \n",
              "  <style>\n",
              "    .colab-df-container {\n",
              "      display:flex;\n",
              "      flex-wrap:wrap;\n",
              "      gap: 12px;\n",
              "    }\n",
              "\n",
              "    .colab-df-convert {\n",
              "      background-color: #E8F0FE;\n",
              "      border: none;\n",
              "      border-radius: 50%;\n",
              "      cursor: pointer;\n",
              "      display: none;\n",
              "      fill: #1967D2;\n",
              "      height: 32px;\n",
              "      padding: 0 0 0 0;\n",
              "      width: 32px;\n",
              "    }\n",
              "\n",
              "    .colab-df-convert:hover {\n",
              "      background-color: #E2EBFA;\n",
              "      box-shadow: 0px 1px 2px rgba(60, 64, 67, 0.3), 0px 1px 3px 1px rgba(60, 64, 67, 0.15);\n",
              "      fill: #174EA6;\n",
              "    }\n",
              "\n",
              "    [theme=dark] .colab-df-convert {\n",
              "      background-color: #3B4455;\n",
              "      fill: #D2E3FC;\n",
              "    }\n",
              "\n",
              "    [theme=dark] .colab-df-convert:hover {\n",
              "      background-color: #434B5C;\n",
              "      box-shadow: 0px 1px 3px 1px rgba(0, 0, 0, 0.15);\n",
              "      filter: drop-shadow(0px 1px 2px rgba(0, 0, 0, 0.3));\n",
              "      fill: #FFFFFF;\n",
              "    }\n",
              "  </style>\n",
              "\n",
              "      <script>\n",
              "        const buttonEl =\n",
              "          document.querySelector('#df-8134562f-0e5c-47a2-bf59-b9446ae3b137 button.colab-df-convert');\n",
              "        buttonEl.style.display =\n",
              "          google.colab.kernel.accessAllowed ? 'block' : 'none';\n",
              "\n",
              "        async function convertToInteractive(key) {\n",
              "          const element = document.querySelector('#df-8134562f-0e5c-47a2-bf59-b9446ae3b137');\n",
              "          const dataTable =\n",
              "            await google.colab.kernel.invokeFunction('convertToInteractive',\n",
              "                                                     [key], {});\n",
              "          if (!dataTable) return;\n",
              "\n",
              "          const docLinkHtml = 'Like what you see? Visit the ' +\n",
              "            '<a target=\"_blank\" href=https://colab.research.google.com/notebooks/data_table.ipynb>data table notebook</a>'\n",
              "            + ' to learn more about interactive tables.';\n",
              "          element.innerHTML = '';\n",
              "          dataTable['output_type'] = 'display_data';\n",
              "          await google.colab.output.renderOutput(dataTable, element);\n",
              "          const docLink = document.createElement('div');\n",
              "          docLink.innerHTML = docLinkHtml;\n",
              "          element.appendChild(docLink);\n",
              "        }\n",
              "      </script>\n",
              "    </div>\n",
              "  </div>\n",
              "  "
            ],
            "text/plain": [
              "                                                  image       target\n",
              "1234  /content/drive/MyDrive/TUGAS AKHIRKU/new_datas...  baby_breath\n",
              "1235  /content/drive/MyDrive/TUGAS AKHIRKU/new_datas...  baby_breath\n",
              "1236  /content/drive/MyDrive/TUGAS AKHIRKU/new_datas...  baby_breath\n",
              "1237  /content/drive/MyDrive/TUGAS AKHIRKU/new_datas...  baby_breath\n",
              "1238  /content/drive/MyDrive/TUGAS AKHIRKU/new_datas...  baby_breath"
            ]
          },
          "execution_count": 16,
          "metadata": {},
          "output_type": "execute_result"
        }
      ],
      "source": [
        "base_dir_test = '/content/drive/MyDrive/TUGAS AKHIRKU/new_dataset/flower_dataset/output/flower_prep/flower_split/test'\n",
        "flower_test = data(base_dir_test)\n",
        "data_flower_test = flower_test.dataframe()\n",
        "data_flower_test.tail()"
      ]
    },
    {
      "cell_type": "code",
      "execution_count": null,
      "metadata": {
        "colab": {
          "base_uri": "https://localhost:8080/",
          "height": 369
        },
        "id": "wffsimGHfnt1",
        "outputId": "e2b768e6-89a7-44a8-b4f3-0afdb0fc6a00"
      },
      "outputs": [
        {
          "name": "stdout",
          "output_type": "stream",
          "text": [
            "{'baby_breath': 250, 'cotton_flower': 243, 'lagurus': 250, 'pampas': 249, 'setaria': 247}\n"
          ]
        },
        {
          "name": "stderr",
          "output_type": "stream",
          "text": [
            "/usr/local/lib/python3.7/dist-packages/seaborn/_decorators.py:43: FutureWarning: Pass the following variable as a keyword arg: x. From version 0.12, the only valid positional argument will be `data`, and passing other arguments without an explicit keyword will result in an error or misinterpretation.\n",
            "  FutureWarning\n"
          ]
        },
        {
          "data": {
            "text/plain": [
              "<matplotlib.axes._subplots.AxesSubplot at 0x7f43b6f22e50>"
            ]
          },
          "execution_count": 22,
          "metadata": {},
          "output_type": "execute_result"
        },
        {
          "data": {
            "image/png": "[encoded data removed]",
            "text/plain": [
              "<Figure size 432x288 with 1 Axes>"
            ]
          },
          "metadata": {},
          "output_type": "display_data"
        }
      ],
      "source": [
        "unique, count = np.unique(data_flower_test.target, return_counts =True)\n",
        "target_unique = {k:v for (k,v) in zip(unique, count)}\n",
        "print(target_unique)\n",
        "sns.countplot(data_flower_test.target)"
      ]
    },
    {
      "cell_type": "code",
      "execution_count": null,
      "metadata": {
        "id": "Od81ZBJFfvWi"
      },
      "outputs": [],
      "source": [
        "from skimage import measure, morphology\n",
        "from skimage.io import imsave, imread\n",
        "from skimage.filters import threshold_otsu\n",
        "from skimage.transform import resize\n",
        "import numpy as np\n",
        "\n",
        "#Memuat dataset pengujian\n",
        "X_test = []\n",
        "y_test = []\n",
        "labels = ['baby_breath',\n",
        "          'cotton_flower',\n",
        "          'lagurus',\n",
        "          'pampas',\n",
        "          'setaria'\n",
        "          ]\n",
        "\n",
        "for i,label in enumerate(labels):\n",
        "    folder = os.path.join(\"/content/drive/MyDrive/TUGAS AKHIRKU/new_dataset/flower_dataset/output/flower_prep/flower_split/test/\",label)\n",
        "    files = sorted(os.listdir(folder))\n",
        "    files = [x for x in files if x.endswith(\".jpg\")]\n",
        "    for k,file in enumerate(files):\n",
        "        image_path = os.path.join(folder, file)\n",
        "        \n",
        "        image = imread(image_path)/255.\n",
        "        image = resize(image,(224,224,3))\n",
        "        X_test.append(image)\n",
        "        category = os.path.split(folder)[-1]\n",
        "        y_test.append(i)\n",
        "\n",
        "X_test = np.array(X_test)\n",
        "y_test = np.array(y_test)"
      ]
    },
    {
      "cell_type": "code",
      "execution_count": null,
      "metadata": {
        "colab": {
          "base_uri": "https://localhost:8080/"
        },
        "id": "eMy3Od9zgA7N",
        "outputId": "0cca8855-4a3b-4316-b26d-60383be2a253"
      },
      "outputs": [
        {
          "name": "stdout",
          "output_type": "stream",
          "text": [
            "Bentuk array dari dataset test (pengujian) adalah: (1239, 224, 224, 3) (1239,)\n"
          ]
        }
      ],
      "source": [
        "print(\"Bentuk array dari dataset test (pengujian) adalah:\", X_test.shape,y_test.shape)"
      ]
    },
    {
      "cell_type": "code",
      "execution_count": null,
      "metadata": {
        "id": "yHra5nLxgN9N"
      },
      "outputs": [],
      "source": [
        "y_test2 = to_categorical(y_test)\n",
        "X_test3, y_test3 = (X_test, y_test2)"
      ]
    },
    {
      "cell_type": "code",
      "execution_count": null,
      "metadata": {
        "colab": {
          "base_uri": "https://localhost:8080/"
        },
        "id": "EBswCke3gRIE",
        "outputId": "1ac7244e-c27c-4eee-fcfd-326a9c73bea5"
      },
      "outputs": [
        {
          "name": "stdout",
          "output_type": "stream",
          "text": [
            "Testing set Mean Abs Error:  0.97 Report Execution Time\n"
          ]
        }
      ],
      "source": [
        "loss, mae = model.evaluate(x= X_test3, y = y_test3, verbose=0)\n",
        "print(\"Testing set Mean Abs Error: {:5.2f} Report Execution Time\".format(mae))"
      ]
    },
    {
      "cell_type": "code",
      "execution_count": null,
      "metadata": {
        "colab": {
          "base_uri": "https://localhost:8080/"
        },
        "id": "WBQ2Eu1TgTlL",
        "outputId": "aceb8663-eaa0-4283-de24-983c50798e3e"
      },
      "outputs": [
        {
          "name": "stdout",
          "output_type": "stream",
          "text": [
            "['loss', 'acc']\n",
            "39/39 [==============================] - 2s 45ms/step - loss: 0.1169 - acc: 0.9661\n"
          ]
        }
      ],
      "source": [
        "#Memeriksa matriks model\n",
        "print(model.metrics_names)\n",
        "#Evaluasi data test) \n",
        "result = model.evaluate(x= X_test3, y = y_test3)"
      ]
    },
    {
      "cell_type": "code",
      "execution_count": null,
      "metadata": {
        "colab": {
          "base_uri": "https://localhost:8080/"
        },
        "id": "6dAUD1L7gXUZ",
        "outputId": "00145da5-a61e-452f-88a6-6f1b9eb73f03"
      },
      "outputs": [
        {
          "name": "stdout",
          "output_type": "stream",
          "text": [
            "[0 0 0 ... 4 4 4]\n",
            "[0 0 0 ... 4 4 4]\n"
          ]
        }
      ],
      "source": [
        "#Menampilkan matriks yang benar dan matriks hasil prediksi\n",
        "\n",
        "#Label yang benar\n",
        "y_true = np.argmax(y_test2,axis=1)\n",
        "\n",
        "#Label prediksi\n",
        "Y_pred = model.predict(X_test)\n",
        "y_pred = np.argmax(Y_pred, axis=1)\n",
        "\n",
        "print(y_true)\n",
        "print(y_pred)\n"
      ]
    },
    {
      "cell_type": "code",
      "execution_count": null,
      "metadata": {
        "colab": {
          "base_uri": "https://localhost:8080/",
          "height": 850
        },
        "id": "n7rc-xQZgbLV",
        "outputId": "219d1a04-0bed-4e25-cfcb-fb14654a9ea0"
      },
      "outputs": [
        {
          "name": "stdout",
          "output_type": "stream",
          "text": [
            "Confusion matrix, without normalization\n",
            "[[249   0   1   0   0]\n",
            " [  0 243   0   0   0]\n",
            " [  0   0 229  13   8]\n",
            " [  0   0   5 238   6]\n",
            " [  0   0   2   7 238]]\n"
          ]
        },
        {
          "data": {
            "text/plain": [
              "<matplotlib.axes._subplots.AxesSubplot at 0x7f01605b63d0>"
            ]
          },
          "execution_count": 22,
          "metadata": {},
          "output_type": "execute_result"
        },
        {
          "data": {
            "image/png": "[encoded data removed]",
            "text/plain": [
              "<Figure size 720x720 with 1 Axes>"
            ]
          },
          "metadata": {},
          "output_type": "display_data"
        }
      ],
      "source": [
        "from sklearn.metrics import confusion_matrix\n",
        "from sklearn.utils.multiclass import unique_labels\n",
        "\n",
        "def plot_confusion_matrix(y_true, y_pred, classes,\n",
        "                          normalize=False,\n",
        "                          title=None,\n",
        "                          cmap=plt.cm.Blues):\n",
        "    # \"\"\"\n",
        "    # This function prints and plots the confusion matrix.\n",
        "    # Normalization can be applied by setting `normalize=True`.\n",
        "    # \"\"\"\n",
        "    if not title:\n",
        "        if normalize:\n",
        "            title = 'Normalized confusion matrix'\n",
        "        else:\n",
        "            title = 'Confusion matrix, without normalization'\n",
        "\n",
        "    # Compute confusion matrix\n",
        "    cm = confusion_matrix(y_true, y_pred)\n",
        "    # Only use the labels that appear in the data\n",
        "    #classes = classes[unique_labels(y_true, y_pred)]\n",
        "    if normalize:\n",
        "        cm = cm.astype('float') / cm.sum(axis=1)[:, np.newaxis]\n",
        "        print(\"Normalized confusion matrix\")\n",
        "    else:\n",
        "        print('Confusion matrix, without normalization')\n",
        "\n",
        "    print(cm)\n",
        "\n",
        "    fig, ax = plt.subplots(figsize=(10,10))\n",
        "    im = ax.imshow(cm, interpolation='nearest', cmap=cmap)\n",
        "    #ax.figure.colorbar(im, ax=ax)\n",
        "    # We want to show all ticks...\n",
        "    ax.set(xticks=np.arange(cm.shape[1]),\n",
        "           yticks=np.arange(cm.shape[0]),\n",
        "           # ... and label them with the respective list entries\n",
        "           xticklabels=classes, yticklabels=classes,\n",
        "           title=title,\n",
        "           ylabel='Label Benar',\n",
        "           xlabel='Label Prediksi')\n",
        "\n",
        "    # Rotate the tick labels and set their alignment.\n",
        "    plt.setp(ax.get_xticklabels(), rotation=45, ha=\"right\",\n",
        "             rotation_mode=\"anchor\")\n",
        "\n",
        "    # Loop over data dimensions and create text annotations.\n",
        "    fmt = '.2f' if normalize else 'd'\n",
        "    thresh = cm.max() / 2.\n",
        "    for i in range(cm.shape[0]):\n",
        "        for j in range(cm.shape[1]):\n",
        "            ax.text(j, i, format(cm[i, j], fmt),\n",
        "                    ha=\"center\", va=\"center\",\n",
        "                    color=\"white\" if cm[i, j] > thresh else \"black\")\n",
        "    fig.tight_layout()\n",
        "    return ax\n",
        "\n",
        "\n",
        "np.set_printoptions(precision=2)\n",
        "\n",
        "plot_confusion_matrix(y_true, y_pred, classes=labels, normalize=False,\n",
        "                      title='Normalized confusion matrix')"
      ]
    },
    {
      "cell_type": "code",
      "execution_count": null,
      "metadata": {
        "id": "2lA5xw9Tgnjs"
      },
      "outputs": [],
      "source": [
        "from sklearn import metrics\n",
        "from sklearn.metrics import confusion_matrix\n",
        "\n",
        "classification_metrics = metrics.classification_report(y_true, y_pred, target_names=labels)"
      ]
    },
    {
      "cell_type": "code",
      "execution_count": null,
      "metadata": {
        "colab": {
          "base_uri": "https://localhost:8080/"
        },
        "id": "fNxiSPQOguPi",
        "outputId": "b60dc467-6748-4577-ddc6-b7a9cd3ede71"
      },
      "outputs": [
        {
          "name": "stdout",
          "output_type": "stream",
          "text": [
            "               precision    recall  f1-score   support\n",
            "\n",
            "  baby_breath       1.00      1.00      1.00       250\n",
            "cotton_flower       1.00      1.00      1.00       243\n",
            "      lagurus       0.97      0.92      0.94       250\n",
            "       pampas       0.92      0.96      0.94       249\n",
            "      setaria       0.94      0.96      0.95       247\n",
            "\n",
            "     accuracy                           0.97      1239\n",
            "    macro avg       0.97      0.97      0.97      1239\n",
            " weighted avg       0.97      0.97      0.97      1239\n",
            "\n"
          ]
        }
      ],
      "source": [
        "print(classification_metrics)"
      ]
    },
    {
      "cell_type": "code",
      "execution_count": null,
      "metadata": {
        "id": "kUwUD8ZUhSK2"
      },
      "outputs": [],
      "source": [
        "from tensorflow.keras.models import load_model\n",
        "\n",
        "model.save('//content/drive/MyDrive/TUGAS AKHIRKU/new_dataset/flower_dataset/output/model/model_mobilenetv2_orisinal/skenario/model_0,0001_epoch10.h5')"
      ]
    },
    {
      "cell_type": "code",
      "execution_count": null,
      "metadata": {
        "colab": {
          "base_uri": "https://localhost:8080/"
        },
        "id": "2HwzzbOghyGw",
        "outputId": "5d72126b-baf6-4b20-dae0-90b1dca416ca"
      },
      "outputs": [
        {
          "name": "stdout",
          "output_type": "stream",
          "text": [
            "INFO:tensorflow:Assets written to: /tmp/tmp4tzzjjo0/assets\n"
          ]
        },
        {
          "name": "stderr",
          "output_type": "stream",
          "text": [
            "INFO:tensorflow:Assets written to: /tmp/tmp4tzzjjo0/assets\n",
            "WARNING:absl:Buffer deduplication procedure will be skipped when flatbuffer library is not properly loaded\n"
          ]
        },
        {
          "data": {
            "text/plain": [
              "14126704"
            ]
          },
          "execution_count": 56,
          "metadata": {},
          "output_type": "execute_result"
        }
      ],
      "source": [
        "import tensorflow as tf\n",
        "model = tf.keras.models.load_model('/content/drive/MyDrive/TUGAS AKHIR/dataset_flower/model.h5')\n",
        "converter = tf.lite.TFLiteConverter.from_keras_model(model)\n",
        "tflite_model = converter.convert()\n",
        "open(\"/content/drive/MyDrive/TUGAS AKHIR/dataset_flower/model.tflite\", \"wb\").write(tflite_model)"
      ]
    },
    {
      "cell_type": "code",
      "execution_count": null,
      "metadata": {
        "id": "1gVzHVHMh7Aw"
      },
      "outputs": [],
      "source": [
        ""
      ]
    },
    {
      "cell_type": "markdown",
      "metadata": {
        "id": "NapDKXR_Lh46"
      },
      "source": [
        "## Predict gambar individual"
      ]
    },
    {
      "cell_type": "code",
      "execution_count": null,
      "metadata": {
        "id": "2_uIGElI5otz"
      },
      "outputs": [],
      "source": [
        "import tensorflow as tf\n",
        "model_conv = tf.keras.models.load_model('/content/drive/MyDrive/TUGAS AKHIR/dataset_flower/model.h5')"
      ]
    },
    {
      "cell_type": "code",
      "execution_count": null,
      "metadata": {
        "id": "fwJL2tzn8GO1"
      },
      "outputs": [],
      "source": [
        "labels = ['baby_breath',\n",
        "          'cotton_flower',\n",
        "          'lagurus',\n",
        "          'pampas',\n",
        "          'setaria'\n",
        "          ]"
      ]
    },
    {
      "cell_type": "code",
      "execution_count": null,
      "metadata": {
        "id": "Y7O7UjEawRaf"
      },
      "outputs": [],
      "source": [
        "image_shape = (224, 224)\n",
        "image_size = 224"
      ]
    },
    {
      "cell_type": "code",
      "execution_count": null,
      "metadata": {
        "colab": {
          "base_uri": "https://localhost:8080/",
          "height": 39,
          "resources": {
            "http://localhost:8080/nbextensions/google.colab/files.js": {
              "data": "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",
              "headers": [
                [
                  "content-type",
                  "application/javascript"
                ]
              ],
              "ok": true,
              "status": 200,
              "status_text": ""
            }
          }
        },
        "id": "D71ogU7T7ONX",
        "outputId": "ebee29e2-d909-4410-e8c9-a8383a67946e"
      },
      "outputs": [
        {
          "data": {
            "text/html": [
              "\n",
              "     <input type=\"file\" id=\"files-52e9c69e-975b-41ce-999c-4e1e4e7a16f6\" name=\"files[]\" multiple disabled\n",
              "        style=\"border:none\" />\n",
              "     <output id=\"result-52e9c69e-975b-41ce-999c-4e1e4e7a16f6\">\n",
              "      Upload widget is only available when the cell has been executed in the\n",
              "      current browser session. Please rerun this cell to enable.\n",
              "      </output>\n",
              "      <script src=\"/nbextensions/google.colab/files.js\"></script> "
            ],
            "text/plain": [
              "<IPython.core.display.HTML object>"
            ]
          },
          "metadata": {},
          "output_type": "display_data"
        }
      ],
      "source": [
        "from google.colab import files\n",
        "from tensorflow.keras.preprocessing import image\n",
        "import matplotlib.pyplot as plt\n",
        "import cv2\n",
        "import numpy as np\n",
        "upload = files.upload()\n",
        "  \n",
        "for fn in upload.keys():\n",
        "  # predict image\n",
        "  path = fn\n",
        "  img = cv2.imread(path)\n",
        "  img = cv2.resize(img, image_shape)\n",
        "  img = cv2.cvtColor(img, cv2.COLOR_BGR2RGB)\n",
        "  plt.figure()\n",
        "  plt.imshow(img) \n",
        "  img_tensor = image.img_to_array(img)\n",
        "  img_tensor = np.expand_dims(img_tensor, axis=0)\n",
        "  img_tensor /= 255.\n",
        "  img_tensor = np.vstack([img_tensor])\n",
        "\n",
        "  classes = model_conv.predict(img_tensor)\n",
        "  pred = np.argmax(classes, axis=1)\n",
        "\n",
        "  print('hasil prediksi : ', labels[int(pred)])"
      ]
    },
    {
      "cell_type": "code",
      "execution_count": null,
      "metadata": {
        "id": "EQq8NMaoyD9b"
      },
      "outputs": [],
      "source": [
        ""
      ]
    }
  ],
  "metadata": {
    "accelerator": "GPU",
    "colab": {
      "collapsed_sections": [
        "AidvoK4lv7ym",
        "TEHMYaBGU3zE",
        "QwfSROGGfUtH",
        "4WewnkPwm5aI",
        "Hv6b4tk7A0_f",
        "duddYYPMG4gb",
        "y0Cssa5WNSiK",
        "NapDKXR_Lh46"
      ],
      "name": "TA2_Dry Flower Classification__MobileNetV2_Fix.ipynb",
      "provenance": [],
      "include_colab_link": true
    },
    "kernelspec": {
      "display_name": "Python 3",
      "name": "python3"
    },
    "language_info": {
      "name": "python"
    }
  },
  "nbformat": 4,
  "nbformat_minor": 0
}